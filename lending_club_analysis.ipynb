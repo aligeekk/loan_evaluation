{
 "cells": [
  {
   "cell_type": "code",
   "execution_count": 139,
   "metadata": {
    "collapsed": false
   },
   "outputs": [],
   "source": [
    "import pandas as pd\n",
    "import numpy as np\n",
    "import scipy as sp \n",
    "import seaborn as sns\n",
    "import matplotlib.pyplot as plt\n",
    "\n",
    "%matplotlib inline"
   ]
  },
  {
   "cell_type": "code",
   "execution_count": 140,
   "metadata": {
    "collapsed": false
   },
   "outputs": [],
   "source": [
    "data = pd.read_csv(\"LoanStats3c.csv\")"
   ]
  },
  {
   "cell_type": "markdown",
   "metadata": {},
   "source": [
    "\n",
    "# Data Cleaning"
   ]
  },
  {
   "cell_type": "markdown",
   "metadata": {},
   "source": [
    "### Data description and corresponding usage\n",
    "\n",
    "* id - keep (no analysis)\n",
    "\n",
    "* member_id - keep (no analysis)\n",
    "\n",
    "* loan_amnt - relevant\n",
    "\n",
    "* funded_amnt  - relevant but nearly same as loan_amnt (see correlation matrix) - try to create a new feature\n",
    "\n",
    "* funded_amnt_inv - almost same as funded_amnt ( can be removed)\n",
    "\n",
    "* term - 36 or 60 - (changes made -Kaustubh **this can give the algorithm the idea of whether shorter loans are better or longer ones**)\n",
    "\n",
    "* int_rate - relevant (can vary as a function of risk of the corresponding loan)\n",
    "\n",
    "* installment - (very relevant)takes in account the term factor and loan_amnt together - we can remove 'term' column - but we should not remove loan_amnt because it gives the information about how big a loan is ? . \n",
    "\n",
    "* grade - LC determined value (grading scheme not clear) (changes made- Abhinav *** this has high corelation with int_rates as seen from data and lending club site https://www.lendingclub.com/public/rates-and-fees.action . This can be removed***)\n",
    "\n",
    "* sub_grade - LC determined value (grading scheme not clear) * grade - LC determined value (grading scheme not clear) (changes made- Abhinav *** this has high corelation with int_rates as seen from data and lending club site https://www.lendingclub.com/public/rates-and-fees.action . This can be removed***)\n",
    "\n",
    "\n",
    "* emp_title - Not relevant (since it does not gives us information about the financial condition of the borrower) (changes made- Abhinav *** We will try to add this feature and see the accuracy on our model***)\n",
    "\n",
    "* emp_length - does provide information about the credibility of the borrower (needs cleaning - use regular expressions)\n",
    "\n",
    "* home_ownership - relevant (provides information about the financial condition and other collateral the borrower has)\n",
    "\n",
    "* annual_inc - very relevant (if the annual income of the borrower is not greater than the annual installments needs to be paid then its a bad loan)\n",
    "\n",
    "* verification_status - relevant (we can provide a value corresponding to each factor or let the algorithm decide these values\n",
    "\n",
    "* issue_d - irrelevant (does not provide any information about anything)\n",
    "\n",
    "* loan_status - LABEL (Current loans needs to be removed)\n",
    "\n",
    "* pymnt_plan - relevant(may add some information )\n",
    "\n",
    "* url - irrelevant\n",
    "\n",
    "* desc - relevant (may provide information about the intensions or behavior of the borrower) - Needs to remove NaN by some value\n",
    "\n",
    "* purpose - relevant \n",
    "\n",
    "* title - same as purpose (remove either)\n",
    "\n",
    "* zip_code - not relevant (can be replaced by the addr_state )\n",
    "\n",
    "* dti - very relevant (debt to income ratio) - can think of removing income and loan_amnt for once\n",
    "\n",
    "* delinq_2yrs - relevant (in terms of frequency)\n",
    "\n",
    "* earlies_cr_line - relevant (can remove the month -year is relevant)\n",
    "\n",
    "* inq_last_6mths - relevant inquiries ragarding loans in last 6 months \n",
    "\n",
    "* mths_since_last_delinq - relevant (need to deal with missing values)\n",
    "\n",
    "* mths_since_last_record - relevant (need to deal with missing values)\n",
    "\n",
    "* open_acc - relevant (open credit lines)\n",
    "\n",
    "* pub_rec - relevant (negative factor)\n",
    "\n",
    "* revol_bal - relevant (may be correlated to the amount of credit)\n",
    "\n",
    "* total_acc - relevant (total number of credit lines currently in borrower's credit file )\n",
    "\n",
    "* initial_list_status - relevant (initial listing status of loan ) (W,F -meaning not known till now)( changes made-Abhinav *** w means whole loan and f means fractional loan. This is weather investor as invested whole money or partly in the loan . This does not give any idea about the loan taker so can be removed***)\n",
    "\n",
    "* out_prncp - relevant \n",
    "\n",
    "* total_pymnt - relevant but correlated to out_prncp (see correlation)\n",
    "\n",
    "* total_pymnt_inv - nearly same as total_pymnt (see similarity)\n",
    "\n",
    "* total_rec_prncp - principal recieved till date (relevant)\n",
    "\n",
    "* total_rec_late_fee - late fees recieved to date (relevance to be decided )\n",
    "\n",
    "* total_rec_int - interest recieved till date\n",
    "\n",
    "* recoveries - post charge off gross recovery (to be decided)\n",
    "\n",
    "* collection_recovery_fee - post charge off collection fee () \n",
    "\n",
    "* last_pymnt_d - may be relevant\n",
    "\n",
    "* last_pymnt_amnt - may be relevant\n",
    "\n",
    "* next_pymnt_d - may be relevant\n",
    "\n",
    "* last_credit_pull_d - The most recent month LC pulled credit for this loan ( may or may not be relevant)\n",
    "\n",
    "* collections_12_mths_ex_med - Number of collections in 12 months excluding medical collections (relevant)\n",
    "\n",
    "* mths_since_last_major_derog - Months since most recent 90-day or worse rating **find out the meaning** and then decide relevance\n",
    "\n",
    "* policy_code - relevant (1 or 2) -decided according to the FICO scores\n",
    "\n",
    "* application_type - individual or joint ( may be relevant)\n",
    "\n",
    "* annual_inc_joint - relevant (but have lots of missing values for individual accounts)\n",
    "\n",
    "* dti_joint - same case as above\n",
    "\n",
    "* verification_status_joint - same as above\n",
    "\n",
    "* acc_now_delinq - the number of accounts on which the borrower is now delinquent (relevant)\n",
    "\n",
    "* tot_coll_amt - total collection amounts ever owed (relevant)\n",
    "\n",
    "* tot_cur_bal - total current balance of all accounts (relevant) - try to make a new feature \n",
    "\n",
    "* open_acc_6m - Number of open trades in the last 6 months (many NaN values to deal with)\n",
    "\n",
    "* open_il_6m - Number of currently active installment trades (lot of NaN values)\n",
    "\n",
    "* open_il_12m - Number of installment accounts opened in past 12 months\n",
    "\n",
    "* open_il_24m - Number of installment accounts opened in past 24 months\n",
    "\n",
    "* mths_since_rcnt_il - months since most recent installment accounts openend \n",
    "\n",
    "* total_bal_il - total current balance of all installment accounts\n",
    "\n",
    "* il_util - relevant (deal with NaNs) (ratio of total current balaance to high creditt/credit limit on all install acct\n",
    "\n",
    "* open_rv_12m - Number of revolving trades in past 12 months (may or may not be )\n",
    "\n",
    "* open_rv_24m - in past 24 months (Same)\n",
    "\n",
    "* max_bal_bc - Maximum current balance owed on all revolving accounts (relevant) NaNs\n",
    "\n",
    "* all_util - Balance to credit limit on all trades (relevant but NaNs)\n",
    "\n",
    "* total_credit_rv - Total credit line on open revolving accounts (very relevant) -Try to create a new feature vector\n",
    "\n",
    "* inq_fi - Number of personal finance inquiries (Lot of NaNs (scrutiny)\n",
    "\n",
    "* total_fi_tl - Number of finance trades (may or may not be) (Lot of NaNs)\n",
    "\n",
    "* inq_last_12m -Number of credit inquiries in past 12 months (Lot of NaNs) (scrutiny)"
   ]
  },
  {
   "cell_type": "markdown",
   "metadata": {
    "collapsed": true
   },
   "source": [
    "### First we need to remove the Current loans"
   ]
  },
  {
   "cell_type": "code",
   "execution_count": 141,
   "metadata": {
    "collapsed": false
   },
   "outputs": [
    {
     "data": {
      "text/html": [
       "<div>\n",
       "<table border=\"1\" class=\"dataframe\">\n",
       "  <thead>\n",
       "    <tr style=\"text-align: right;\">\n",
       "      <th></th>\n",
       "      <th>id</th>\n",
       "      <th>member_id</th>\n",
       "      <th>loan_amnt</th>\n",
       "      <th>funded_amnt</th>\n",
       "      <th>funded_amnt_inv</th>\n",
       "      <th>term</th>\n",
       "      <th>int_rate</th>\n",
       "      <th>installment</th>\n",
       "      <th>grade</th>\n",
       "      <th>sub_grade</th>\n",
       "      <th>...</th>\n",
       "      <th>total_bal_il</th>\n",
       "      <th>il_util</th>\n",
       "      <th>open_rv_12m</th>\n",
       "      <th>open_rv_24m</th>\n",
       "      <th>max_bal_bc</th>\n",
       "      <th>all_util</th>\n",
       "      <th>total_credit_rv</th>\n",
       "      <th>inq_fi</th>\n",
       "      <th>total_fi_tl</th>\n",
       "      <th>inq_last_12m</th>\n",
       "    </tr>\n",
       "  </thead>\n",
       "  <tbody>\n",
       "    <tr>\n",
       "      <th>0</th>\n",
       "      <td>36805548</td>\n",
       "      <td>39558264</td>\n",
       "      <td>10400</td>\n",
       "      <td>10400</td>\n",
       "      <td>10400</td>\n",
       "      <td>36 months</td>\n",
       "      <td>6.99%</td>\n",
       "      <td>321.08</td>\n",
       "      <td>A</td>\n",
       "      <td>A3</td>\n",
       "      <td>...</td>\n",
       "      <td>NaN</td>\n",
       "      <td>NaN</td>\n",
       "      <td>NaN</td>\n",
       "      <td>NaN</td>\n",
       "      <td>NaN</td>\n",
       "      <td>NaN</td>\n",
       "      <td>19400</td>\n",
       "      <td>NaN</td>\n",
       "      <td>NaN</td>\n",
       "      <td>NaN</td>\n",
       "    </tr>\n",
       "    <tr>\n",
       "      <th>1</th>\n",
       "      <td>38098114</td>\n",
       "      <td>40860827</td>\n",
       "      <td>15000</td>\n",
       "      <td>15000</td>\n",
       "      <td>15000</td>\n",
       "      <td>60 months</td>\n",
       "      <td>12.39%</td>\n",
       "      <td>336.64</td>\n",
       "      <td>C</td>\n",
       "      <td>C1</td>\n",
       "      <td>...</td>\n",
       "      <td>NaN</td>\n",
       "      <td>NaN</td>\n",
       "      <td>NaN</td>\n",
       "      <td>NaN</td>\n",
       "      <td>NaN</td>\n",
       "      <td>NaN</td>\n",
       "      <td>184500</td>\n",
       "      <td>NaN</td>\n",
       "      <td>NaN</td>\n",
       "      <td>NaN</td>\n",
       "    </tr>\n",
       "    <tr>\n",
       "      <th>2</th>\n",
       "      <td>37612354</td>\n",
       "      <td>40375473</td>\n",
       "      <td>12800</td>\n",
       "      <td>12800</td>\n",
       "      <td>12800</td>\n",
       "      <td>60 months</td>\n",
       "      <td>17.14%</td>\n",
       "      <td>319.08</td>\n",
       "      <td>D</td>\n",
       "      <td>D4</td>\n",
       "      <td>...</td>\n",
       "      <td>NaN</td>\n",
       "      <td>NaN</td>\n",
       "      <td>NaN</td>\n",
       "      <td>NaN</td>\n",
       "      <td>NaN</td>\n",
       "      <td>NaN</td>\n",
       "      <td>5700</td>\n",
       "      <td>NaN</td>\n",
       "      <td>NaN</td>\n",
       "      <td>NaN</td>\n",
       "    </tr>\n",
       "    <tr>\n",
       "      <th>3</th>\n",
       "      <td>37822187</td>\n",
       "      <td>40585251</td>\n",
       "      <td>9600</td>\n",
       "      <td>9600</td>\n",
       "      <td>9600</td>\n",
       "      <td>36 months</td>\n",
       "      <td>13.66%</td>\n",
       "      <td>326.53</td>\n",
       "      <td>C</td>\n",
       "      <td>C3</td>\n",
       "      <td>...</td>\n",
       "      <td>NaN</td>\n",
       "      <td>NaN</td>\n",
       "      <td>NaN</td>\n",
       "      <td>NaN</td>\n",
       "      <td>NaN</td>\n",
       "      <td>NaN</td>\n",
       "      <td>27600</td>\n",
       "      <td>NaN</td>\n",
       "      <td>NaN</td>\n",
       "      <td>NaN</td>\n",
       "    </tr>\n",
       "    <tr>\n",
       "      <th>4</th>\n",
       "      <td>37842129</td>\n",
       "      <td>40605224</td>\n",
       "      <td>21425</td>\n",
       "      <td>21425</td>\n",
       "      <td>21425</td>\n",
       "      <td>60 months</td>\n",
       "      <td>15.59%</td>\n",
       "      <td>516.36</td>\n",
       "      <td>D</td>\n",
       "      <td>D1</td>\n",
       "      <td>...</td>\n",
       "      <td>NaN</td>\n",
       "      <td>NaN</td>\n",
       "      <td>NaN</td>\n",
       "      <td>NaN</td>\n",
       "      <td>NaN</td>\n",
       "      <td>NaN</td>\n",
       "      <td>21500</td>\n",
       "      <td>NaN</td>\n",
       "      <td>NaN</td>\n",
       "      <td>NaN</td>\n",
       "    </tr>\n",
       "  </tbody>\n",
       "</table>\n",
       "<p>5 rows × 74 columns</p>\n",
       "</div>"
      ],
      "text/plain": [
       "         id  member_id  loan_amnt  funded_amnt  funded_amnt_inv        term  \\\n",
       "0  36805548   39558264      10400        10400            10400   36 months   \n",
       "1  38098114   40860827      15000        15000            15000   60 months   \n",
       "2  37612354   40375473      12800        12800            12800   60 months   \n",
       "3  37822187   40585251       9600         9600             9600   36 months   \n",
       "4  37842129   40605224      21425        21425            21425   60 months   \n",
       "\n",
       "  int_rate  installment grade sub_grade     ...      total_bal_il il_util  \\\n",
       "0    6.99%       321.08     A        A3     ...               NaN     NaN   \n",
       "1   12.39%       336.64     C        C1     ...               NaN     NaN   \n",
       "2   17.14%       319.08     D        D4     ...               NaN     NaN   \n",
       "3   13.66%       326.53     C        C3     ...               NaN     NaN   \n",
       "4   15.59%       516.36     D        D1     ...               NaN     NaN   \n",
       "\n",
       "  open_rv_12m  open_rv_24m max_bal_bc all_util total_credit_rv inq_fi  \\\n",
       "0         NaN          NaN        NaN      NaN           19400    NaN   \n",
       "1         NaN          NaN        NaN      NaN          184500    NaN   \n",
       "2         NaN          NaN        NaN      NaN            5700    NaN   \n",
       "3         NaN          NaN        NaN      NaN           27600    NaN   \n",
       "4         NaN          NaN        NaN      NaN           21500    NaN   \n",
       "\n",
       "  total_fi_tl inq_last_12m  \n",
       "0         NaN          NaN  \n",
       "1         NaN          NaN  \n",
       "2         NaN          NaN  \n",
       "3         NaN          NaN  \n",
       "4         NaN          NaN  \n",
       "\n",
       "[5 rows x 74 columns]"
      ]
     },
     "execution_count": 141,
     "metadata": {},
     "output_type": "execute_result"
    }
   ],
   "source": [
    "data.head()"
   ]
  },
  {
   "cell_type": "code",
   "execution_count": 142,
   "metadata": {
    "collapsed": false,
    "scrolled": true
   },
   "outputs": [
    {
     "data": {
      "text/plain": [
       "Current               162337\n",
       "Fully Paid             52023\n",
       "Charged Off            13350\n",
       "Late (31-120 days)      4974\n",
       "In Grace Period         1928\n",
       "Late (16-30 days)        783\n",
       "Default                  234\n",
       "dtype: int64"
      ]
     },
     "execution_count": 142,
     "metadata": {},
     "output_type": "execute_result"
    }
   ],
   "source": [
    "data.loan_status.value_counts()"
   ]
  },
  {
   "cell_type": "markdown",
   "metadata": {},
   "source": [
    "### Removing the Current loans"
   ]
  },
  {
   "cell_type": "code",
   "execution_count": 143,
   "metadata": {
    "collapsed": false
   },
   "outputs": [],
   "source": [
    "df = data[-(data.loan_status == 'Current')]"
   ]
  },
  {
   "cell_type": "markdown",
   "metadata": {
    "collapsed": false
   },
   "source": [
    "### Removing NaN values"
   ]
  },
  {
   "cell_type": "code",
   "execution_count": 144,
   "metadata": {
    "collapsed": false
   },
   "outputs": [],
   "source": [
    "df = df[-df.loan_status.isnull()]"
   ]
  },
  {
   "cell_type": "code",
   "execution_count": 145,
   "metadata": {
    "collapsed": false,
    "scrolled": true
   },
   "outputs": [
    {
     "data": {
      "text/plain": [
       "Fully Paid            52023\n",
       "Charged Off           13350\n",
       "Late (31-120 days)     4974\n",
       "In Grace Period        1928\n",
       "Late (16-30 days)       783\n",
       "Default                 234\n",
       "dtype: int64"
      ]
     },
     "execution_count": 145,
     "metadata": {},
     "output_type": "execute_result"
    }
   ],
   "source": [
    "df.loan_status.value_counts()"
   ]
  },
  {
   "cell_type": "code",
   "execution_count": 146,
   "metadata": {
    "collapsed": false
   },
   "outputs": [
    {
     "data": {
      "text/plain": [
       "1928"
      ]
     },
     "execution_count": 146,
     "metadata": {},
     "output_type": "execute_result"
    }
   ],
   "source": [
    "sum(df.loan_status == 'In Grace Period')"
   ]
  },
  {
   "cell_type": "markdown",
   "metadata": {},
   "source": [
    "### Removing the \"In Grace Period\" Loans\n",
    "\n",
    "These loans will not help us in classifying new loan as bad or good "
   ]
  },
  {
   "cell_type": "code",
   "execution_count": 147,
   "metadata": {
    "collapsed": false
   },
   "outputs": [],
   "source": [
    "df = df[-(data.loan_status == 'In Grace Period')]"
   ]
  },
  {
   "cell_type": "code",
   "execution_count": 148,
   "metadata": {
    "collapsed": false
   },
   "outputs": [
    {
     "data": {
      "text/plain": [
       "71364"
      ]
     },
     "execution_count": 148,
     "metadata": {},
     "output_type": "execute_result"
    }
   ],
   "source": [
    "len(df.loan_status)"
   ]
  },
  {
   "cell_type": "markdown",
   "metadata": {},
   "source": [
    "## Kaustubh - I am adding this snippet which will calculate the number of \"null\" values in each column"
   ]
  },
  {
   "cell_type": "code",
   "execution_count": 149,
   "metadata": {
    "collapsed": false,
    "scrolled": true
   },
   "outputs": [],
   "source": [
    "missing = []\n",
    "\n",
    "for col in df.columns:\n",
    "    missing.append(sum(df[col].isnull()))\n",
    "    #print col + \" \" + \" -- \" + \" \" + str(sum(df[col].isnull()))\n",
    "\n"
   ]
  },
  {
   "cell_type": "markdown",
   "metadata": {},
   "source": [
    "## I am going to add this column to a new data frame \"null\" under \"missing\" row\n",
    "\n"
   ]
  },
  {
   "cell_type": "code",
   "execution_count": 150,
   "metadata": {
    "collapsed": false
   },
   "outputs": [],
   "source": [
    "colu = list(df.columns)\n",
    "\n",
    "missing = np.array(missing)\n",
    "\n",
    "missing = missing.reshape(1,-1)\n",
    "\n",
    "null = pd.DataFrame(data = missing,columns = colu)"
   ]
  },
  {
   "cell_type": "markdown",
   "metadata": {},
   "source": [
    "## So that at any point of time we can simply write the following to find out the number of missing values in the column"
   ]
  },
  {
   "cell_type": "code",
   "execution_count": 151,
   "metadata": {
    "collapsed": false
   },
   "outputs": [
    {
     "data": {
      "text/plain": [
       "0    65340\n",
       "Name: desc, dtype: int64"
      ]
     },
     "execution_count": 151,
     "metadata": {},
     "output_type": "execute_result"
    }
   ],
   "source": [
    "null.desc\n"
   ]
  },
  {
   "cell_type": "markdown",
   "metadata": {},
   "source": [
    "### Giving Binary values to the loan_status variable which classifies them as good(1) or bad(0) loan"
   ]
  },
  {
   "cell_type": "code",
   "execution_count": 152,
   "metadata": {
    "collapsed": true
   },
   "outputs": [],
   "source": [
    "Label = []\n",
    "\n",
    "for status in df.loan_status:\n",
    "    if status == \"Fully Paid\":\n",
    "        status = 1\n",
    "        Label.append(status)\n",
    "    else:\n",
    "        status = 0\n",
    "        Label.append(status)\n",
    "        \n",
    "        "
   ]
  },
  {
   "cell_type": "code",
   "execution_count": 153,
   "metadata": {
    "collapsed": false
   },
   "outputs": [],
   "source": [
    "df.loan_status = Label"
   ]
  },
  {
   "cell_type": "code",
   "execution_count": 154,
   "metadata": {
    "collapsed": false,
    "scrolled": true
   },
   "outputs": [
    {
     "data": {
      "text/plain": [
       "1    52023\n",
       "0    19341\n",
       "dtype: int64"
      ]
     },
     "execution_count": 154,
     "metadata": {},
     "output_type": "execute_result"
    }
   ],
   "source": [
    "df.loan_status.value_counts()"
   ]
  },
  {
   "cell_type": "code",
   "execution_count": 155,
   "metadata": {
    "collapsed": false,
    "scrolled": true
   },
   "outputs": [
    {
     "data": {
      "text/html": [
       "<div>\n",
       "<table border=\"1\" class=\"dataframe\">\n",
       "  <thead>\n",
       "    <tr style=\"text-align: right;\">\n",
       "      <th></th>\n",
       "      <th>member_id</th>\n",
       "      <th>loan_amnt</th>\n",
       "      <th>funded_amnt</th>\n",
       "      <th>funded_amnt_inv</th>\n",
       "      <th>installment</th>\n",
       "      <th>annual_inc</th>\n",
       "      <th>loan_status</th>\n",
       "      <th>dti</th>\n",
       "      <th>delinq_2yrs</th>\n",
       "      <th>inq_last_6mths</th>\n",
       "      <th>...</th>\n",
       "      <th>total_bal_il</th>\n",
       "      <th>il_util</th>\n",
       "      <th>open_rv_12m</th>\n",
       "      <th>open_rv_24m</th>\n",
       "      <th>max_bal_bc</th>\n",
       "      <th>all_util</th>\n",
       "      <th>total_credit_rv</th>\n",
       "      <th>inq_fi</th>\n",
       "      <th>total_fi_tl</th>\n",
       "      <th>inq_last_12m</th>\n",
       "    </tr>\n",
       "  </thead>\n",
       "  <tbody>\n",
       "    <tr>\n",
       "      <th>member_id</th>\n",
       "      <td>1.000000</td>\n",
       "      <td>-0.026698</td>\n",
       "      <td>-0.026698</td>\n",
       "      <td>-0.026478</td>\n",
       "      <td>-0.040536</td>\n",
       "      <td>-0.008128</td>\n",
       "      <td>-0.024568</td>\n",
       "      <td>0.064463</td>\n",
       "      <td>-0.000418</td>\n",
       "      <td>-0.085196</td>\n",
       "      <td>...</td>\n",
       "      <td>NaN</td>\n",
       "      <td>NaN</td>\n",
       "      <td>NaN</td>\n",
       "      <td>NaN</td>\n",
       "      <td>NaN</td>\n",
       "      <td>NaN</td>\n",
       "      <td>0.026991</td>\n",
       "      <td>NaN</td>\n",
       "      <td>NaN</td>\n",
       "      <td>NaN</td>\n",
       "    </tr>\n",
       "    <tr>\n",
       "      <th>loan_amnt</th>\n",
       "      <td>-0.026698</td>\n",
       "      <td>1.000000</td>\n",
       "      <td>1.000000</td>\n",
       "      <td>0.999997</td>\n",
       "      <td>0.954410</td>\n",
       "      <td>0.410343</td>\n",
       "      <td>-0.061475</td>\n",
       "      <td>0.019603</td>\n",
       "      <td>-0.000564</td>\n",
       "      <td>-0.010466</td>\n",
       "      <td>...</td>\n",
       "      <td>NaN</td>\n",
       "      <td>NaN</td>\n",
       "      <td>NaN</td>\n",
       "      <td>NaN</td>\n",
       "      <td>NaN</td>\n",
       "      <td>NaN</td>\n",
       "      <td>0.362353</td>\n",
       "      <td>NaN</td>\n",
       "      <td>NaN</td>\n",
       "      <td>NaN</td>\n",
       "    </tr>\n",
       "    <tr>\n",
       "      <th>funded_amnt</th>\n",
       "      <td>-0.026698</td>\n",
       "      <td>1.000000</td>\n",
       "      <td>1.000000</td>\n",
       "      <td>0.999997</td>\n",
       "      <td>0.954410</td>\n",
       "      <td>0.410343</td>\n",
       "      <td>-0.061475</td>\n",
       "      <td>0.019603</td>\n",
       "      <td>-0.000564</td>\n",
       "      <td>-0.010466</td>\n",
       "      <td>...</td>\n",
       "      <td>NaN</td>\n",
       "      <td>NaN</td>\n",
       "      <td>NaN</td>\n",
       "      <td>NaN</td>\n",
       "      <td>NaN</td>\n",
       "      <td>NaN</td>\n",
       "      <td>0.362353</td>\n",
       "      <td>NaN</td>\n",
       "      <td>NaN</td>\n",
       "      <td>NaN</td>\n",
       "    </tr>\n",
       "    <tr>\n",
       "      <th>funded_amnt_inv</th>\n",
       "      <td>-0.026478</td>\n",
       "      <td>0.999997</td>\n",
       "      <td>0.999997</td>\n",
       "      <td>1.000000</td>\n",
       "      <td>0.954396</td>\n",
       "      <td>0.410374</td>\n",
       "      <td>-0.061480</td>\n",
       "      <td>0.019575</td>\n",
       "      <td>-0.000588</td>\n",
       "      <td>-0.010487</td>\n",
       "      <td>...</td>\n",
       "      <td>NaN</td>\n",
       "      <td>NaN</td>\n",
       "      <td>NaN</td>\n",
       "      <td>NaN</td>\n",
       "      <td>NaN</td>\n",
       "      <td>NaN</td>\n",
       "      <td>0.362353</td>\n",
       "      <td>NaN</td>\n",
       "      <td>NaN</td>\n",
       "      <td>NaN</td>\n",
       "    </tr>\n",
       "    <tr>\n",
       "      <th>installment</th>\n",
       "      <td>-0.040536</td>\n",
       "      <td>0.954410</td>\n",
       "      <td>0.954410</td>\n",
       "      <td>0.954396</td>\n",
       "      <td>1.000000</td>\n",
       "      <td>0.407429</td>\n",
       "      <td>-0.049969</td>\n",
       "      <td>0.013022</td>\n",
       "      <td>0.011715</td>\n",
       "      <td>0.012371</td>\n",
       "      <td>...</td>\n",
       "      <td>NaN</td>\n",
       "      <td>NaN</td>\n",
       "      <td>NaN</td>\n",
       "      <td>NaN</td>\n",
       "      <td>NaN</td>\n",
       "      <td>NaN</td>\n",
       "      <td>0.341205</td>\n",
       "      <td>NaN</td>\n",
       "      <td>NaN</td>\n",
       "      <td>NaN</td>\n",
       "    </tr>\n",
       "    <tr>\n",
       "      <th>annual_inc</th>\n",
       "      <td>-0.008128</td>\n",
       "      <td>0.410343</td>\n",
       "      <td>0.410343</td>\n",
       "      <td>0.410374</td>\n",
       "      <td>0.407429</td>\n",
       "      <td>1.000000</td>\n",
       "      <td>0.084076</td>\n",
       "      <td>-0.226094</td>\n",
       "      <td>0.052931</td>\n",
       "      <td>0.057332</td>\n",
       "      <td>...</td>\n",
       "      <td>NaN</td>\n",
       "      <td>NaN</td>\n",
       "      <td>NaN</td>\n",
       "      <td>NaN</td>\n",
       "      <td>NaN</td>\n",
       "      <td>NaN</td>\n",
       "      <td>0.337263</td>\n",
       "      <td>NaN</td>\n",
       "      <td>NaN</td>\n",
       "      <td>NaN</td>\n",
       "    </tr>\n",
       "    <tr>\n",
       "      <th>loan_status</th>\n",
       "      <td>-0.024568</td>\n",
       "      <td>-0.061475</td>\n",
       "      <td>-0.061475</td>\n",
       "      <td>-0.061480</td>\n",
       "      <td>-0.049969</td>\n",
       "      <td>0.084076</td>\n",
       "      <td>1.000000</td>\n",
       "      <td>-0.156588</td>\n",
       "      <td>-0.036069</td>\n",
       "      <td>-0.038670</td>\n",
       "      <td>...</td>\n",
       "      <td>NaN</td>\n",
       "      <td>NaN</td>\n",
       "      <td>NaN</td>\n",
       "      <td>NaN</td>\n",
       "      <td>NaN</td>\n",
       "      <td>NaN</td>\n",
       "      <td>0.062027</td>\n",
       "      <td>NaN</td>\n",
       "      <td>NaN</td>\n",
       "      <td>NaN</td>\n",
       "    </tr>\n",
       "    <tr>\n",
       "      <th>dti</th>\n",
       "      <td>0.064463</td>\n",
       "      <td>0.019603</td>\n",
       "      <td>0.019603</td>\n",
       "      <td>0.019575</td>\n",
       "      <td>0.013022</td>\n",
       "      <td>-0.226094</td>\n",
       "      <td>-0.156588</td>\n",
       "      <td>1.000000</td>\n",
       "      <td>-0.011217</td>\n",
       "      <td>-0.000778</td>\n",
       "      <td>...</td>\n",
       "      <td>NaN</td>\n",
       "      <td>NaN</td>\n",
       "      <td>NaN</td>\n",
       "      <td>NaN</td>\n",
       "      <td>NaN</td>\n",
       "      <td>NaN</td>\n",
       "      <td>0.060749</td>\n",
       "      <td>NaN</td>\n",
       "      <td>NaN</td>\n",
       "      <td>NaN</td>\n",
       "    </tr>\n",
       "    <tr>\n",
       "      <th>delinq_2yrs</th>\n",
       "      <td>-0.000418</td>\n",
       "      <td>-0.000564</td>\n",
       "      <td>-0.000564</td>\n",
       "      <td>-0.000588</td>\n",
       "      <td>0.011715</td>\n",
       "      <td>0.052931</td>\n",
       "      <td>-0.036069</td>\n",
       "      <td>-0.011217</td>\n",
       "      <td>1.000000</td>\n",
       "      <td>0.032516</td>\n",
       "      <td>...</td>\n",
       "      <td>NaN</td>\n",
       "      <td>NaN</td>\n",
       "      <td>NaN</td>\n",
       "      <td>NaN</td>\n",
       "      <td>NaN</td>\n",
       "      <td>NaN</td>\n",
       "      <td>-0.047581</td>\n",
       "      <td>NaN</td>\n",
       "      <td>NaN</td>\n",
       "      <td>NaN</td>\n",
       "    </tr>\n",
       "    <tr>\n",
       "      <th>inq_last_6mths</th>\n",
       "      <td>-0.085196</td>\n",
       "      <td>-0.010466</td>\n",
       "      <td>-0.010466</td>\n",
       "      <td>-0.010487</td>\n",
       "      <td>0.012371</td>\n",
       "      <td>0.057332</td>\n",
       "      <td>-0.038670</td>\n",
       "      <td>-0.000778</td>\n",
       "      <td>0.032516</td>\n",
       "      <td>1.000000</td>\n",
       "      <td>...</td>\n",
       "      <td>NaN</td>\n",
       "      <td>NaN</td>\n",
       "      <td>NaN</td>\n",
       "      <td>NaN</td>\n",
       "      <td>NaN</td>\n",
       "      <td>NaN</td>\n",
       "      <td>0.000913</td>\n",
       "      <td>NaN</td>\n",
       "      <td>NaN</td>\n",
       "      <td>NaN</td>\n",
       "    </tr>\n",
       "    <tr>\n",
       "      <th>mths_since_last_delinq</th>\n",
       "      <td>0.016350</td>\n",
       "      <td>-0.053376</td>\n",
       "      <td>-0.053376</td>\n",
       "      <td>-0.053329</td>\n",
       "      <td>-0.060426</td>\n",
       "      <td>-0.067830</td>\n",
       "      <td>0.045524</td>\n",
       "      <td>-0.004305</td>\n",
       "      <td>-0.573496</td>\n",
       "      <td>0.012876</td>\n",
       "      <td>...</td>\n",
       "      <td>NaN</td>\n",
       "      <td>NaN</td>\n",
       "      <td>NaN</td>\n",
       "      <td>NaN</td>\n",
       "      <td>NaN</td>\n",
       "      <td>NaN</td>\n",
       "      <td>-0.041598</td>\n",
       "      <td>NaN</td>\n",
       "      <td>NaN</td>\n",
       "      <td>NaN</td>\n",
       "    </tr>\n",
       "    <tr>\n",
       "      <th>mths_since_last_record</th>\n",
       "      <td>-0.049292</td>\n",
       "      <td>0.022019</td>\n",
       "      <td>0.022019</td>\n",
       "      <td>0.022066</td>\n",
       "      <td>0.005783</td>\n",
       "      <td>-0.086484</td>\n",
       "      <td>-0.032456</td>\n",
       "      <td>0.093337</td>\n",
       "      <td>-0.056361</td>\n",
       "      <td>-0.085696</td>\n",
       "      <td>...</td>\n",
       "      <td>NaN</td>\n",
       "      <td>NaN</td>\n",
       "      <td>NaN</td>\n",
       "      <td>NaN</td>\n",
       "      <td>NaN</td>\n",
       "      <td>NaN</td>\n",
       "      <td>0.019784</td>\n",
       "      <td>NaN</td>\n",
       "      <td>NaN</td>\n",
       "      <td>NaN</td>\n",
       "    </tr>\n",
       "    <tr>\n",
       "      <th>open_acc</th>\n",
       "      <td>0.012721</td>\n",
       "      <td>0.185368</td>\n",
       "      <td>0.185368</td>\n",
       "      <td>0.185379</td>\n",
       "      <td>0.178358</td>\n",
       "      <td>0.146846</td>\n",
       "      <td>-0.013895</td>\n",
       "      <td>0.275328</td>\n",
       "      <td>0.048707</td>\n",
       "      <td>0.102062</td>\n",
       "      <td>...</td>\n",
       "      <td>NaN</td>\n",
       "      <td>NaN</td>\n",
       "      <td>NaN</td>\n",
       "      <td>NaN</td>\n",
       "      <td>NaN</td>\n",
       "      <td>NaN</td>\n",
       "      <td>0.366575</td>\n",
       "      <td>NaN</td>\n",
       "      <td>NaN</td>\n",
       "      <td>NaN</td>\n",
       "    </tr>\n",
       "    <tr>\n",
       "      <th>pub_rec</th>\n",
       "      <td>-0.010274</td>\n",
       "      <td>-0.125125</td>\n",
       "      <td>-0.125125</td>\n",
       "      <td>-0.125148</td>\n",
       "      <td>-0.107900</td>\n",
       "      <td>-0.036271</td>\n",
       "      <td>0.011811</td>\n",
       "      <td>-0.073690</td>\n",
       "      <td>-0.017882</td>\n",
       "      <td>0.071866</td>\n",
       "      <td>...</td>\n",
       "      <td>NaN</td>\n",
       "      <td>NaN</td>\n",
       "      <td>NaN</td>\n",
       "      <td>NaN</td>\n",
       "      <td>NaN</td>\n",
       "      <td>NaN</td>\n",
       "      <td>-0.147850</td>\n",
       "      <td>NaN</td>\n",
       "      <td>NaN</td>\n",
       "      <td>NaN</td>\n",
       "    </tr>\n",
       "    <tr>\n",
       "      <th>revol_bal</th>\n",
       "      <td>0.019694</td>\n",
       "      <td>0.351322</td>\n",
       "      <td>0.351322</td>\n",
       "      <td>0.351305</td>\n",
       "      <td>0.341046</td>\n",
       "      <td>0.325084</td>\n",
       "      <td>0.008608</td>\n",
       "      <td>0.130162</td>\n",
       "      <td>-0.038085</td>\n",
       "      <td>-0.028749</td>\n",
       "      <td>...</td>\n",
       "      <td>NaN</td>\n",
       "      <td>NaN</td>\n",
       "      <td>NaN</td>\n",
       "      <td>NaN</td>\n",
       "      <td>NaN</td>\n",
       "      <td>NaN</td>\n",
       "      <td>0.819477</td>\n",
       "      <td>NaN</td>\n",
       "      <td>NaN</td>\n",
       "      <td>NaN</td>\n",
       "    </tr>\n",
       "    <tr>\n",
       "      <th>total_acc</th>\n",
       "      <td>-0.006455</td>\n",
       "      <td>0.192695</td>\n",
       "      <td>0.192695</td>\n",
       "      <td>0.192679</td>\n",
       "      <td>0.176189</td>\n",
       "      <td>0.204482</td>\n",
       "      <td>0.054324</td>\n",
       "      <td>0.192634</td>\n",
       "      <td>0.122631</td>\n",
       "      <td>0.137499</td>\n",
       "      <td>...</td>\n",
       "      <td>NaN</td>\n",
       "      <td>NaN</td>\n",
       "      <td>NaN</td>\n",
       "      <td>NaN</td>\n",
       "      <td>NaN</td>\n",
       "      <td>NaN</td>\n",
       "      <td>0.273707</td>\n",
       "      <td>NaN</td>\n",
       "      <td>NaN</td>\n",
       "      <td>NaN</td>\n",
       "    </tr>\n",
       "    <tr>\n",
       "      <th>out_prncp</th>\n",
       "      <td>0.090916</td>\n",
       "      <td>0.184388</td>\n",
       "      <td>0.184388</td>\n",
       "      <td>0.184419</td>\n",
       "      <td>0.155336</td>\n",
       "      <td>0.033185</td>\n",
       "      <td>-0.416765</td>\n",
       "      <td>0.068848</td>\n",
       "      <td>0.027844</td>\n",
       "      <td>-0.002693</td>\n",
       "      <td>...</td>\n",
       "      <td>NaN</td>\n",
       "      <td>NaN</td>\n",
       "      <td>NaN</td>\n",
       "      <td>NaN</td>\n",
       "      <td>NaN</td>\n",
       "      <td>NaN</td>\n",
       "      <td>0.021561</td>\n",
       "      <td>NaN</td>\n",
       "      <td>NaN</td>\n",
       "      <td>NaN</td>\n",
       "    </tr>\n",
       "    <tr>\n",
       "      <th>out_prncp_inv</th>\n",
       "      <td>0.090950</td>\n",
       "      <td>0.184386</td>\n",
       "      <td>0.184386</td>\n",
       "      <td>0.184418</td>\n",
       "      <td>0.155335</td>\n",
       "      <td>0.033187</td>\n",
       "      <td>-0.416757</td>\n",
       "      <td>0.068844</td>\n",
       "      <td>0.027839</td>\n",
       "      <td>-0.002702</td>\n",
       "      <td>...</td>\n",
       "      <td>NaN</td>\n",
       "      <td>NaN</td>\n",
       "      <td>NaN</td>\n",
       "      <td>NaN</td>\n",
       "      <td>NaN</td>\n",
       "      <td>NaN</td>\n",
       "      <td>0.021566</td>\n",
       "      <td>NaN</td>\n",
       "      <td>NaN</td>\n",
       "      <td>NaN</td>\n",
       "    </tr>\n",
       "    <tr>\n",
       "      <th>total_pymnt</th>\n",
       "      <td>-0.082753</td>\n",
       "      <td>0.770111</td>\n",
       "      <td>0.770111</td>\n",
       "      <td>0.770093</td>\n",
       "      <td>0.748161</td>\n",
       "      <td>0.371695</td>\n",
       "      <td>0.481835</td>\n",
       "      <td>-0.062300</td>\n",
       "      <td>-0.017764</td>\n",
       "      <td>-0.020588</td>\n",
       "      <td>...</td>\n",
       "      <td>NaN</td>\n",
       "      <td>NaN</td>\n",
       "      <td>NaN</td>\n",
       "      <td>NaN</td>\n",
       "      <td>NaN</td>\n",
       "      <td>NaN</td>\n",
       "      <td>0.324442</td>\n",
       "      <td>NaN</td>\n",
       "      <td>NaN</td>\n",
       "      <td>NaN</td>\n",
       "    </tr>\n",
       "    <tr>\n",
       "      <th>total_pymnt_inv</th>\n",
       "      <td>-0.082583</td>\n",
       "      <td>0.770103</td>\n",
       "      <td>0.770103</td>\n",
       "      <td>0.770090</td>\n",
       "      <td>0.748142</td>\n",
       "      <td>0.371716</td>\n",
       "      <td>0.481849</td>\n",
       "      <td>-0.062329</td>\n",
       "      <td>-0.017795</td>\n",
       "      <td>-0.020599</td>\n",
       "      <td>...</td>\n",
       "      <td>NaN</td>\n",
       "      <td>NaN</td>\n",
       "      <td>NaN</td>\n",
       "      <td>NaN</td>\n",
       "      <td>NaN</td>\n",
       "      <td>NaN</td>\n",
       "      <td>0.324442</td>\n",
       "      <td>NaN</td>\n",
       "      <td>NaN</td>\n",
       "      <td>NaN</td>\n",
       "    </tr>\n",
       "    <tr>\n",
       "      <th>total_rec_prncp</th>\n",
       "      <td>-0.053825</td>\n",
       "      <td>0.687632</td>\n",
       "      <td>0.687632</td>\n",
       "      <td>0.687614</td>\n",
       "      <td>0.674470</td>\n",
       "      <td>0.355557</td>\n",
       "      <td>0.572036</td>\n",
       "      <td>-0.082544</td>\n",
       "      <td>-0.026125</td>\n",
       "      <td>-0.035214</td>\n",
       "      <td>...</td>\n",
       "      <td>NaN</td>\n",
       "      <td>NaN</td>\n",
       "      <td>NaN</td>\n",
       "      <td>NaN</td>\n",
       "      <td>NaN</td>\n",
       "      <td>NaN</td>\n",
       "      <td>0.317376</td>\n",
       "      <td>NaN</td>\n",
       "      <td>NaN</td>\n",
       "      <td>NaN</td>\n",
       "    </tr>\n",
       "    <tr>\n",
       "      <th>total_rec_int</th>\n",
       "      <td>-0.175822</td>\n",
       "      <td>0.699867</td>\n",
       "      <td>0.699867</td>\n",
       "      <td>0.699870</td>\n",
       "      <td>0.647793</td>\n",
       "      <td>0.229894</td>\n",
       "      <td>-0.129786</td>\n",
       "      <td>0.065413</td>\n",
       "      <td>0.031172</td>\n",
       "      <td>0.055296</td>\n",
       "      <td>...</td>\n",
       "      <td>NaN</td>\n",
       "      <td>NaN</td>\n",
       "      <td>NaN</td>\n",
       "      <td>NaN</td>\n",
       "      <td>NaN</td>\n",
       "      <td>NaN</td>\n",
       "      <td>0.161624</td>\n",
       "      <td>NaN</td>\n",
       "      <td>NaN</td>\n",
       "      <td>NaN</td>\n",
       "    </tr>\n",
       "    <tr>\n",
       "      <th>total_rec_late_fee</th>\n",
       "      <td>-0.000632</td>\n",
       "      <td>0.078398</td>\n",
       "      <td>0.078398</td>\n",
       "      <td>0.078370</td>\n",
       "      <td>0.085972</td>\n",
       "      <td>0.032318</td>\n",
       "      <td>-0.188725</td>\n",
       "      <td>0.013217</td>\n",
       "      <td>0.049509</td>\n",
       "      <td>0.013822</td>\n",
       "      <td>...</td>\n",
       "      <td>NaN</td>\n",
       "      <td>NaN</td>\n",
       "      <td>NaN</td>\n",
       "      <td>NaN</td>\n",
       "      <td>NaN</td>\n",
       "      <td>NaN</td>\n",
       "      <td>0.004190</td>\n",
       "      <td>NaN</td>\n",
       "      <td>NaN</td>\n",
       "      <td>NaN</td>\n",
       "    </tr>\n",
       "    <tr>\n",
       "      <th>recoveries</th>\n",
       "      <td>-0.043939</td>\n",
       "      <td>0.167798</td>\n",
       "      <td>0.167798</td>\n",
       "      <td>0.167773</td>\n",
       "      <td>0.154329</td>\n",
       "      <td>0.028186</td>\n",
       "      <td>-0.372655</td>\n",
       "      <td>0.047731</td>\n",
       "      <td>0.017527</td>\n",
       "      <td>0.038585</td>\n",
       "      <td>...</td>\n",
       "      <td>NaN</td>\n",
       "      <td>NaN</td>\n",
       "      <td>NaN</td>\n",
       "      <td>NaN</td>\n",
       "      <td>NaN</td>\n",
       "      <td>NaN</td>\n",
       "      <td>0.023704</td>\n",
       "      <td>NaN</td>\n",
       "      <td>NaN</td>\n",
       "      <td>NaN</td>\n",
       "    </tr>\n",
       "    <tr>\n",
       "      <th>collection_recovery_fee</th>\n",
       "      <td>-0.024054</td>\n",
       "      <td>0.156242</td>\n",
       "      <td>0.156242</td>\n",
       "      <td>0.156187</td>\n",
       "      <td>0.147905</td>\n",
       "      <td>0.027372</td>\n",
       "      <td>-0.322313</td>\n",
       "      <td>0.049391</td>\n",
       "      <td>0.013618</td>\n",
       "      <td>0.034022</td>\n",
       "      <td>...</td>\n",
       "      <td>NaN</td>\n",
       "      <td>NaN</td>\n",
       "      <td>NaN</td>\n",
       "      <td>NaN</td>\n",
       "      <td>NaN</td>\n",
       "      <td>NaN</td>\n",
       "      <td>0.023582</td>\n",
       "      <td>NaN</td>\n",
       "      <td>NaN</td>\n",
       "      <td>NaN</td>\n",
       "    </tr>\n",
       "    <tr>\n",
       "      <th>last_pymnt_amnt</th>\n",
       "      <td>0.010260</td>\n",
       "      <td>0.558748</td>\n",
       "      <td>0.558748</td>\n",
       "      <td>0.558769</td>\n",
       "      <td>0.518601</td>\n",
       "      <td>0.294879</td>\n",
       "      <td>0.569919</td>\n",
       "      <td>-0.066031</td>\n",
       "      <td>-0.025905</td>\n",
       "      <td>-0.026029</td>\n",
       "      <td>...</td>\n",
       "      <td>NaN</td>\n",
       "      <td>NaN</td>\n",
       "      <td>NaN</td>\n",
       "      <td>NaN</td>\n",
       "      <td>NaN</td>\n",
       "      <td>NaN</td>\n",
       "      <td>0.260440</td>\n",
       "      <td>NaN</td>\n",
       "      <td>NaN</td>\n",
       "      <td>NaN</td>\n",
       "    </tr>\n",
       "    <tr>\n",
       "      <th>collections_12_mths_ex_med</th>\n",
       "      <td>0.010946</td>\n",
       "      <td>-0.008366</td>\n",
       "      <td>-0.008366</td>\n",
       "      <td>-0.008380</td>\n",
       "      <td>-0.005934</td>\n",
       "      <td>0.003468</td>\n",
       "      <td>-0.006959</td>\n",
       "      <td>-0.008914</td>\n",
       "      <td>0.048841</td>\n",
       "      <td>0.006080</td>\n",
       "      <td>...</td>\n",
       "      <td>NaN</td>\n",
       "      <td>NaN</td>\n",
       "      <td>NaN</td>\n",
       "      <td>NaN</td>\n",
       "      <td>NaN</td>\n",
       "      <td>NaN</td>\n",
       "      <td>-0.013510</td>\n",
       "      <td>NaN</td>\n",
       "      <td>NaN</td>\n",
       "      <td>NaN</td>\n",
       "    </tr>\n",
       "    <tr>\n",
       "      <th>mths_since_last_major_derog</th>\n",
       "      <td>0.019408</td>\n",
       "      <td>-0.063633</td>\n",
       "      <td>-0.063633</td>\n",
       "      <td>-0.063591</td>\n",
       "      <td>-0.066033</td>\n",
       "      <td>-0.050711</td>\n",
       "      <td>0.030533</td>\n",
       "      <td>0.016960</td>\n",
       "      <td>-0.432844</td>\n",
       "      <td>0.014155</td>\n",
       "      <td>...</td>\n",
       "      <td>NaN</td>\n",
       "      <td>NaN</td>\n",
       "      <td>NaN</td>\n",
       "      <td>NaN</td>\n",
       "      <td>NaN</td>\n",
       "      <td>NaN</td>\n",
       "      <td>-0.042478</td>\n",
       "      <td>NaN</td>\n",
       "      <td>NaN</td>\n",
       "      <td>NaN</td>\n",
       "    </tr>\n",
       "    <tr>\n",
       "      <th>policy_code</th>\n",
       "      <td>NaN</td>\n",
       "      <td>NaN</td>\n",
       "      <td>NaN</td>\n",
       "      <td>NaN</td>\n",
       "      <td>NaN</td>\n",
       "      <td>NaN</td>\n",
       "      <td>NaN</td>\n",
       "      <td>NaN</td>\n",
       "      <td>NaN</td>\n",
       "      <td>NaN</td>\n",
       "      <td>...</td>\n",
       "      <td>NaN</td>\n",
       "      <td>NaN</td>\n",
       "      <td>NaN</td>\n",
       "      <td>NaN</td>\n",
       "      <td>NaN</td>\n",
       "      <td>NaN</td>\n",
       "      <td>NaN</td>\n",
       "      <td>NaN</td>\n",
       "      <td>NaN</td>\n",
       "      <td>NaN</td>\n",
       "    </tr>\n",
       "    <tr>\n",
       "      <th>annual_inc_joint</th>\n",
       "      <td>NaN</td>\n",
       "      <td>NaN</td>\n",
       "      <td>NaN</td>\n",
       "      <td>NaN</td>\n",
       "      <td>NaN</td>\n",
       "      <td>NaN</td>\n",
       "      <td>NaN</td>\n",
       "      <td>NaN</td>\n",
       "      <td>NaN</td>\n",
       "      <td>NaN</td>\n",
       "      <td>...</td>\n",
       "      <td>NaN</td>\n",
       "      <td>NaN</td>\n",
       "      <td>NaN</td>\n",
       "      <td>NaN</td>\n",
       "      <td>NaN</td>\n",
       "      <td>NaN</td>\n",
       "      <td>NaN</td>\n",
       "      <td>NaN</td>\n",
       "      <td>NaN</td>\n",
       "      <td>NaN</td>\n",
       "    </tr>\n",
       "    <tr>\n",
       "      <th>dti_joint</th>\n",
       "      <td>NaN</td>\n",
       "      <td>NaN</td>\n",
       "      <td>NaN</td>\n",
       "      <td>NaN</td>\n",
       "      <td>NaN</td>\n",
       "      <td>NaN</td>\n",
       "      <td>NaN</td>\n",
       "      <td>NaN</td>\n",
       "      <td>NaN</td>\n",
       "      <td>NaN</td>\n",
       "      <td>...</td>\n",
       "      <td>NaN</td>\n",
       "      <td>NaN</td>\n",
       "      <td>NaN</td>\n",
       "      <td>NaN</td>\n",
       "      <td>NaN</td>\n",
       "      <td>NaN</td>\n",
       "      <td>NaN</td>\n",
       "      <td>NaN</td>\n",
       "      <td>NaN</td>\n",
       "      <td>NaN</td>\n",
       "    </tr>\n",
       "    <tr>\n",
       "      <th>verification_status_joint</th>\n",
       "      <td>NaN</td>\n",
       "      <td>NaN</td>\n",
       "      <td>NaN</td>\n",
       "      <td>NaN</td>\n",
       "      <td>NaN</td>\n",
       "      <td>NaN</td>\n",
       "      <td>NaN</td>\n",
       "      <td>NaN</td>\n",
       "      <td>NaN</td>\n",
       "      <td>NaN</td>\n",
       "      <td>...</td>\n",
       "      <td>NaN</td>\n",
       "      <td>NaN</td>\n",
       "      <td>NaN</td>\n",
       "      <td>NaN</td>\n",
       "      <td>NaN</td>\n",
       "      <td>NaN</td>\n",
       "      <td>NaN</td>\n",
       "      <td>NaN</td>\n",
       "      <td>NaN</td>\n",
       "      <td>NaN</td>\n",
       "    </tr>\n",
       "    <tr>\n",
       "      <th>acc_now_delinq</th>\n",
       "      <td>0.006270</td>\n",
       "      <td>0.004734</td>\n",
       "      <td>0.004734</td>\n",
       "      <td>0.004712</td>\n",
       "      <td>0.008197</td>\n",
       "      <td>0.021601</td>\n",
       "      <td>-0.002739</td>\n",
       "      <td>0.007406</td>\n",
       "      <td>0.121504</td>\n",
       "      <td>-0.005109</td>\n",
       "      <td>...</td>\n",
       "      <td>NaN</td>\n",
       "      <td>NaN</td>\n",
       "      <td>NaN</td>\n",
       "      <td>NaN</td>\n",
       "      <td>NaN</td>\n",
       "      <td>NaN</td>\n",
       "      <td>0.020245</td>\n",
       "      <td>NaN</td>\n",
       "      <td>NaN</td>\n",
       "      <td>NaN</td>\n",
       "    </tr>\n",
       "    <tr>\n",
       "      <th>tot_coll_amt</th>\n",
       "      <td>-0.002722</td>\n",
       "      <td>-0.002791</td>\n",
       "      <td>-0.002791</td>\n",
       "      <td>-0.002789</td>\n",
       "      <td>-0.001936</td>\n",
       "      <td>0.004113</td>\n",
       "      <td>0.002692</td>\n",
       "      <td>-0.005643</td>\n",
       "      <td>-0.001436</td>\n",
       "      <td>0.001103</td>\n",
       "      <td>...</td>\n",
       "      <td>NaN</td>\n",
       "      <td>NaN</td>\n",
       "      <td>NaN</td>\n",
       "      <td>NaN</td>\n",
       "      <td>NaN</td>\n",
       "      <td>NaN</td>\n",
       "      <td>-0.003729</td>\n",
       "      <td>NaN</td>\n",
       "      <td>NaN</td>\n",
       "      <td>NaN</td>\n",
       "    </tr>\n",
       "    <tr>\n",
       "      <th>tot_cur_bal</th>\n",
       "      <td>-0.004640</td>\n",
       "      <td>0.332787</td>\n",
       "      <td>0.332787</td>\n",
       "      <td>0.332826</td>\n",
       "      <td>0.305698</td>\n",
       "      <td>0.488508</td>\n",
       "      <td>0.088421</td>\n",
       "      <td>-0.020824</td>\n",
       "      <td>0.057604</td>\n",
       "      <td>0.035239</td>\n",
       "      <td>...</td>\n",
       "      <td>NaN</td>\n",
       "      <td>NaN</td>\n",
       "      <td>NaN</td>\n",
       "      <td>NaN</td>\n",
       "      <td>NaN</td>\n",
       "      <td>NaN</td>\n",
       "      <td>0.395285</td>\n",
       "      <td>NaN</td>\n",
       "      <td>NaN</td>\n",
       "      <td>NaN</td>\n",
       "    </tr>\n",
       "    <tr>\n",
       "      <th>open_acc_6m</th>\n",
       "      <td>NaN</td>\n",
       "      <td>NaN</td>\n",
       "      <td>NaN</td>\n",
       "      <td>NaN</td>\n",
       "      <td>NaN</td>\n",
       "      <td>NaN</td>\n",
       "      <td>NaN</td>\n",
       "      <td>NaN</td>\n",
       "      <td>NaN</td>\n",
       "      <td>NaN</td>\n",
       "      <td>...</td>\n",
       "      <td>NaN</td>\n",
       "      <td>NaN</td>\n",
       "      <td>NaN</td>\n",
       "      <td>NaN</td>\n",
       "      <td>NaN</td>\n",
       "      <td>NaN</td>\n",
       "      <td>NaN</td>\n",
       "      <td>NaN</td>\n",
       "      <td>NaN</td>\n",
       "      <td>NaN</td>\n",
       "    </tr>\n",
       "    <tr>\n",
       "      <th>open_il_6m</th>\n",
       "      <td>NaN</td>\n",
       "      <td>NaN</td>\n",
       "      <td>NaN</td>\n",
       "      <td>NaN</td>\n",
       "      <td>NaN</td>\n",
       "      <td>NaN</td>\n",
       "      <td>NaN</td>\n",
       "      <td>NaN</td>\n",
       "      <td>NaN</td>\n",
       "      <td>NaN</td>\n",
       "      <td>...</td>\n",
       "      <td>NaN</td>\n",
       "      <td>NaN</td>\n",
       "      <td>NaN</td>\n",
       "      <td>NaN</td>\n",
       "      <td>NaN</td>\n",
       "      <td>NaN</td>\n",
       "      <td>NaN</td>\n",
       "      <td>NaN</td>\n",
       "      <td>NaN</td>\n",
       "      <td>NaN</td>\n",
       "    </tr>\n",
       "    <tr>\n",
       "      <th>open_il_12m</th>\n",
       "      <td>NaN</td>\n",
       "      <td>NaN</td>\n",
       "      <td>NaN</td>\n",
       "      <td>NaN</td>\n",
       "      <td>NaN</td>\n",
       "      <td>NaN</td>\n",
       "      <td>NaN</td>\n",
       "      <td>NaN</td>\n",
       "      <td>NaN</td>\n",
       "      <td>NaN</td>\n",
       "      <td>...</td>\n",
       "      <td>NaN</td>\n",
       "      <td>NaN</td>\n",
       "      <td>NaN</td>\n",
       "      <td>NaN</td>\n",
       "      <td>NaN</td>\n",
       "      <td>NaN</td>\n",
       "      <td>NaN</td>\n",
       "      <td>NaN</td>\n",
       "      <td>NaN</td>\n",
       "      <td>NaN</td>\n",
       "    </tr>\n",
       "    <tr>\n",
       "      <th>open_il_24m</th>\n",
       "      <td>NaN</td>\n",
       "      <td>NaN</td>\n",
       "      <td>NaN</td>\n",
       "      <td>NaN</td>\n",
       "      <td>NaN</td>\n",
       "      <td>NaN</td>\n",
       "      <td>NaN</td>\n",
       "      <td>NaN</td>\n",
       "      <td>NaN</td>\n",
       "      <td>NaN</td>\n",
       "      <td>...</td>\n",
       "      <td>NaN</td>\n",
       "      <td>NaN</td>\n",
       "      <td>NaN</td>\n",
       "      <td>NaN</td>\n",
       "      <td>NaN</td>\n",
       "      <td>NaN</td>\n",
       "      <td>NaN</td>\n",
       "      <td>NaN</td>\n",
       "      <td>NaN</td>\n",
       "      <td>NaN</td>\n",
       "    </tr>\n",
       "    <tr>\n",
       "      <th>mths_since_rcnt_il</th>\n",
       "      <td>NaN</td>\n",
       "      <td>NaN</td>\n",
       "      <td>NaN</td>\n",
       "      <td>NaN</td>\n",
       "      <td>NaN</td>\n",
       "      <td>NaN</td>\n",
       "      <td>NaN</td>\n",
       "      <td>NaN</td>\n",
       "      <td>NaN</td>\n",
       "      <td>NaN</td>\n",
       "      <td>...</td>\n",
       "      <td>NaN</td>\n",
       "      <td>NaN</td>\n",
       "      <td>NaN</td>\n",
       "      <td>NaN</td>\n",
       "      <td>NaN</td>\n",
       "      <td>NaN</td>\n",
       "      <td>NaN</td>\n",
       "      <td>NaN</td>\n",
       "      <td>NaN</td>\n",
       "      <td>NaN</td>\n",
       "    </tr>\n",
       "    <tr>\n",
       "      <th>total_bal_il</th>\n",
       "      <td>NaN</td>\n",
       "      <td>NaN</td>\n",
       "      <td>NaN</td>\n",
       "      <td>NaN</td>\n",
       "      <td>NaN</td>\n",
       "      <td>NaN</td>\n",
       "      <td>NaN</td>\n",
       "      <td>NaN</td>\n",
       "      <td>NaN</td>\n",
       "      <td>NaN</td>\n",
       "      <td>...</td>\n",
       "      <td>NaN</td>\n",
       "      <td>NaN</td>\n",
       "      <td>NaN</td>\n",
       "      <td>NaN</td>\n",
       "      <td>NaN</td>\n",
       "      <td>NaN</td>\n",
       "      <td>NaN</td>\n",
       "      <td>NaN</td>\n",
       "      <td>NaN</td>\n",
       "      <td>NaN</td>\n",
       "    </tr>\n",
       "    <tr>\n",
       "      <th>il_util</th>\n",
       "      <td>NaN</td>\n",
       "      <td>NaN</td>\n",
       "      <td>NaN</td>\n",
       "      <td>NaN</td>\n",
       "      <td>NaN</td>\n",
       "      <td>NaN</td>\n",
       "      <td>NaN</td>\n",
       "      <td>NaN</td>\n",
       "      <td>NaN</td>\n",
       "      <td>NaN</td>\n",
       "      <td>...</td>\n",
       "      <td>NaN</td>\n",
       "      <td>NaN</td>\n",
       "      <td>NaN</td>\n",
       "      <td>NaN</td>\n",
       "      <td>NaN</td>\n",
       "      <td>NaN</td>\n",
       "      <td>NaN</td>\n",
       "      <td>NaN</td>\n",
       "      <td>NaN</td>\n",
       "      <td>NaN</td>\n",
       "    </tr>\n",
       "    <tr>\n",
       "      <th>open_rv_12m</th>\n",
       "      <td>NaN</td>\n",
       "      <td>NaN</td>\n",
       "      <td>NaN</td>\n",
       "      <td>NaN</td>\n",
       "      <td>NaN</td>\n",
       "      <td>NaN</td>\n",
       "      <td>NaN</td>\n",
       "      <td>NaN</td>\n",
       "      <td>NaN</td>\n",
       "      <td>NaN</td>\n",
       "      <td>...</td>\n",
       "      <td>NaN</td>\n",
       "      <td>NaN</td>\n",
       "      <td>NaN</td>\n",
       "      <td>NaN</td>\n",
       "      <td>NaN</td>\n",
       "      <td>NaN</td>\n",
       "      <td>NaN</td>\n",
       "      <td>NaN</td>\n",
       "      <td>NaN</td>\n",
       "      <td>NaN</td>\n",
       "    </tr>\n",
       "    <tr>\n",
       "      <th>open_rv_24m</th>\n",
       "      <td>NaN</td>\n",
       "      <td>NaN</td>\n",
       "      <td>NaN</td>\n",
       "      <td>NaN</td>\n",
       "      <td>NaN</td>\n",
       "      <td>NaN</td>\n",
       "      <td>NaN</td>\n",
       "      <td>NaN</td>\n",
       "      <td>NaN</td>\n",
       "      <td>NaN</td>\n",
       "      <td>...</td>\n",
       "      <td>NaN</td>\n",
       "      <td>NaN</td>\n",
       "      <td>NaN</td>\n",
       "      <td>NaN</td>\n",
       "      <td>NaN</td>\n",
       "      <td>NaN</td>\n",
       "      <td>NaN</td>\n",
       "      <td>NaN</td>\n",
       "      <td>NaN</td>\n",
       "      <td>NaN</td>\n",
       "    </tr>\n",
       "    <tr>\n",
       "      <th>max_bal_bc</th>\n",
       "      <td>NaN</td>\n",
       "      <td>NaN</td>\n",
       "      <td>NaN</td>\n",
       "      <td>NaN</td>\n",
       "      <td>NaN</td>\n",
       "      <td>NaN</td>\n",
       "      <td>NaN</td>\n",
       "      <td>NaN</td>\n",
       "      <td>NaN</td>\n",
       "      <td>NaN</td>\n",
       "      <td>...</td>\n",
       "      <td>NaN</td>\n",
       "      <td>NaN</td>\n",
       "      <td>NaN</td>\n",
       "      <td>NaN</td>\n",
       "      <td>NaN</td>\n",
       "      <td>NaN</td>\n",
       "      <td>NaN</td>\n",
       "      <td>NaN</td>\n",
       "      <td>NaN</td>\n",
       "      <td>NaN</td>\n",
       "    </tr>\n",
       "    <tr>\n",
       "      <th>all_util</th>\n",
       "      <td>NaN</td>\n",
       "      <td>NaN</td>\n",
       "      <td>NaN</td>\n",
       "      <td>NaN</td>\n",
       "      <td>NaN</td>\n",
       "      <td>NaN</td>\n",
       "      <td>NaN</td>\n",
       "      <td>NaN</td>\n",
       "      <td>NaN</td>\n",
       "      <td>NaN</td>\n",
       "      <td>...</td>\n",
       "      <td>NaN</td>\n",
       "      <td>NaN</td>\n",
       "      <td>NaN</td>\n",
       "      <td>NaN</td>\n",
       "      <td>NaN</td>\n",
       "      <td>NaN</td>\n",
       "      <td>NaN</td>\n",
       "      <td>NaN</td>\n",
       "      <td>NaN</td>\n",
       "      <td>NaN</td>\n",
       "    </tr>\n",
       "    <tr>\n",
       "      <th>total_credit_rv</th>\n",
       "      <td>0.026991</td>\n",
       "      <td>0.362353</td>\n",
       "      <td>0.362353</td>\n",
       "      <td>0.362353</td>\n",
       "      <td>0.341205</td>\n",
       "      <td>0.337263</td>\n",
       "      <td>0.062027</td>\n",
       "      <td>0.060749</td>\n",
       "      <td>-0.047581</td>\n",
       "      <td>0.000913</td>\n",
       "      <td>...</td>\n",
       "      <td>NaN</td>\n",
       "      <td>NaN</td>\n",
       "      <td>NaN</td>\n",
       "      <td>NaN</td>\n",
       "      <td>NaN</td>\n",
       "      <td>NaN</td>\n",
       "      <td>1.000000</td>\n",
       "      <td>NaN</td>\n",
       "      <td>NaN</td>\n",
       "      <td>NaN</td>\n",
       "    </tr>\n",
       "    <tr>\n",
       "      <th>inq_fi</th>\n",
       "      <td>NaN</td>\n",
       "      <td>NaN</td>\n",
       "      <td>NaN</td>\n",
       "      <td>NaN</td>\n",
       "      <td>NaN</td>\n",
       "      <td>NaN</td>\n",
       "      <td>NaN</td>\n",
       "      <td>NaN</td>\n",
       "      <td>NaN</td>\n",
       "      <td>NaN</td>\n",
       "      <td>...</td>\n",
       "      <td>NaN</td>\n",
       "      <td>NaN</td>\n",
       "      <td>NaN</td>\n",
       "      <td>NaN</td>\n",
       "      <td>NaN</td>\n",
       "      <td>NaN</td>\n",
       "      <td>NaN</td>\n",
       "      <td>NaN</td>\n",
       "      <td>NaN</td>\n",
       "      <td>NaN</td>\n",
       "    </tr>\n",
       "    <tr>\n",
       "      <th>total_fi_tl</th>\n",
       "      <td>NaN</td>\n",
       "      <td>NaN</td>\n",
       "      <td>NaN</td>\n",
       "      <td>NaN</td>\n",
       "      <td>NaN</td>\n",
       "      <td>NaN</td>\n",
       "      <td>NaN</td>\n",
       "      <td>NaN</td>\n",
       "      <td>NaN</td>\n",
       "      <td>NaN</td>\n",
       "      <td>...</td>\n",
       "      <td>NaN</td>\n",
       "      <td>NaN</td>\n",
       "      <td>NaN</td>\n",
       "      <td>NaN</td>\n",
       "      <td>NaN</td>\n",
       "      <td>NaN</td>\n",
       "      <td>NaN</td>\n",
       "      <td>NaN</td>\n",
       "      <td>NaN</td>\n",
       "      <td>NaN</td>\n",
       "    </tr>\n",
       "    <tr>\n",
       "      <th>inq_last_12m</th>\n",
       "      <td>NaN</td>\n",
       "      <td>NaN</td>\n",
       "      <td>NaN</td>\n",
       "      <td>NaN</td>\n",
       "      <td>NaN</td>\n",
       "      <td>NaN</td>\n",
       "      <td>NaN</td>\n",
       "      <td>NaN</td>\n",
       "      <td>NaN</td>\n",
       "      <td>NaN</td>\n",
       "      <td>...</td>\n",
       "      <td>NaN</td>\n",
       "      <td>NaN</td>\n",
       "      <td>NaN</td>\n",
       "      <td>NaN</td>\n",
       "      <td>NaN</td>\n",
       "      <td>NaN</td>\n",
       "      <td>NaN</td>\n",
       "      <td>NaN</td>\n",
       "      <td>NaN</td>\n",
       "      <td>NaN</td>\n",
       "    </tr>\n",
       "  </tbody>\n",
       "</table>\n",
       "<p>50 rows × 50 columns</p>\n",
       "</div>"
      ],
      "text/plain": [
       "                             member_id  loan_amnt  funded_amnt  \\\n",
       "member_id                     1.000000  -0.026698    -0.026698   \n",
       "loan_amnt                    -0.026698   1.000000     1.000000   \n",
       "funded_amnt                  -0.026698   1.000000     1.000000   \n",
       "funded_amnt_inv              -0.026478   0.999997     0.999997   \n",
       "installment                  -0.040536   0.954410     0.954410   \n",
       "annual_inc                   -0.008128   0.410343     0.410343   \n",
       "loan_status                  -0.024568  -0.061475    -0.061475   \n",
       "dti                           0.064463   0.019603     0.019603   \n",
       "delinq_2yrs                  -0.000418  -0.000564    -0.000564   \n",
       "inq_last_6mths               -0.085196  -0.010466    -0.010466   \n",
       "mths_since_last_delinq        0.016350  -0.053376    -0.053376   \n",
       "mths_since_last_record       -0.049292   0.022019     0.022019   \n",
       "open_acc                      0.012721   0.185368     0.185368   \n",
       "pub_rec                      -0.010274  -0.125125    -0.125125   \n",
       "revol_bal                     0.019694   0.351322     0.351322   \n",
       "total_acc                    -0.006455   0.192695     0.192695   \n",
       "out_prncp                     0.090916   0.184388     0.184388   \n",
       "out_prncp_inv                 0.090950   0.184386     0.184386   \n",
       "total_pymnt                  -0.082753   0.770111     0.770111   \n",
       "total_pymnt_inv              -0.082583   0.770103     0.770103   \n",
       "total_rec_prncp              -0.053825   0.687632     0.687632   \n",
       "total_rec_int                -0.175822   0.699867     0.699867   \n",
       "total_rec_late_fee           -0.000632   0.078398     0.078398   \n",
       "recoveries                   -0.043939   0.167798     0.167798   \n",
       "collection_recovery_fee      -0.024054   0.156242     0.156242   \n",
       "last_pymnt_amnt               0.010260   0.558748     0.558748   \n",
       "collections_12_mths_ex_med    0.010946  -0.008366    -0.008366   \n",
       "mths_since_last_major_derog   0.019408  -0.063633    -0.063633   \n",
       "policy_code                        NaN        NaN          NaN   \n",
       "annual_inc_joint                   NaN        NaN          NaN   \n",
       "dti_joint                          NaN        NaN          NaN   \n",
       "verification_status_joint          NaN        NaN          NaN   \n",
       "acc_now_delinq                0.006270   0.004734     0.004734   \n",
       "tot_coll_amt                 -0.002722  -0.002791    -0.002791   \n",
       "tot_cur_bal                  -0.004640   0.332787     0.332787   \n",
       "open_acc_6m                        NaN        NaN          NaN   \n",
       "open_il_6m                         NaN        NaN          NaN   \n",
       "open_il_12m                        NaN        NaN          NaN   \n",
       "open_il_24m                        NaN        NaN          NaN   \n",
       "mths_since_rcnt_il                 NaN        NaN          NaN   \n",
       "total_bal_il                       NaN        NaN          NaN   \n",
       "il_util                            NaN        NaN          NaN   \n",
       "open_rv_12m                        NaN        NaN          NaN   \n",
       "open_rv_24m                        NaN        NaN          NaN   \n",
       "max_bal_bc                         NaN        NaN          NaN   \n",
       "all_util                           NaN        NaN          NaN   \n",
       "total_credit_rv               0.026991   0.362353     0.362353   \n",
       "inq_fi                             NaN        NaN          NaN   \n",
       "total_fi_tl                        NaN        NaN          NaN   \n",
       "inq_last_12m                       NaN        NaN          NaN   \n",
       "\n",
       "                             funded_amnt_inv  installment  annual_inc  \\\n",
       "member_id                          -0.026478    -0.040536   -0.008128   \n",
       "loan_amnt                           0.999997     0.954410    0.410343   \n",
       "funded_amnt                         0.999997     0.954410    0.410343   \n",
       "funded_amnt_inv                     1.000000     0.954396    0.410374   \n",
       "installment                         0.954396     1.000000    0.407429   \n",
       "annual_inc                          0.410374     0.407429    1.000000   \n",
       "loan_status                        -0.061480    -0.049969    0.084076   \n",
       "dti                                 0.019575     0.013022   -0.226094   \n",
       "delinq_2yrs                        -0.000588     0.011715    0.052931   \n",
       "inq_last_6mths                     -0.010487     0.012371    0.057332   \n",
       "mths_since_last_delinq             -0.053329    -0.060426   -0.067830   \n",
       "mths_since_last_record              0.022066     0.005783   -0.086484   \n",
       "open_acc                            0.185379     0.178358    0.146846   \n",
       "pub_rec                            -0.125148    -0.107900   -0.036271   \n",
       "revol_bal                           0.351305     0.341046    0.325084   \n",
       "total_acc                           0.192679     0.176189    0.204482   \n",
       "out_prncp                           0.184419     0.155336    0.033185   \n",
       "out_prncp_inv                       0.184418     0.155335    0.033187   \n",
       "total_pymnt                         0.770093     0.748161    0.371695   \n",
       "total_pymnt_inv                     0.770090     0.748142    0.371716   \n",
       "total_rec_prncp                     0.687614     0.674470    0.355557   \n",
       "total_rec_int                       0.699870     0.647793    0.229894   \n",
       "total_rec_late_fee                  0.078370     0.085972    0.032318   \n",
       "recoveries                          0.167773     0.154329    0.028186   \n",
       "collection_recovery_fee             0.156187     0.147905    0.027372   \n",
       "last_pymnt_amnt                     0.558769     0.518601    0.294879   \n",
       "collections_12_mths_ex_med         -0.008380    -0.005934    0.003468   \n",
       "mths_since_last_major_derog        -0.063591    -0.066033   -0.050711   \n",
       "policy_code                              NaN          NaN         NaN   \n",
       "annual_inc_joint                         NaN          NaN         NaN   \n",
       "dti_joint                                NaN          NaN         NaN   \n",
       "verification_status_joint                NaN          NaN         NaN   \n",
       "acc_now_delinq                      0.004712     0.008197    0.021601   \n",
       "tot_coll_amt                       -0.002789    -0.001936    0.004113   \n",
       "tot_cur_bal                         0.332826     0.305698    0.488508   \n",
       "open_acc_6m                              NaN          NaN         NaN   \n",
       "open_il_6m                               NaN          NaN         NaN   \n",
       "open_il_12m                              NaN          NaN         NaN   \n",
       "open_il_24m                              NaN          NaN         NaN   \n",
       "mths_since_rcnt_il                       NaN          NaN         NaN   \n",
       "total_bal_il                             NaN          NaN         NaN   \n",
       "il_util                                  NaN          NaN         NaN   \n",
       "open_rv_12m                              NaN          NaN         NaN   \n",
       "open_rv_24m                              NaN          NaN         NaN   \n",
       "max_bal_bc                               NaN          NaN         NaN   \n",
       "all_util                                 NaN          NaN         NaN   \n",
       "total_credit_rv                     0.362353     0.341205    0.337263   \n",
       "inq_fi                                   NaN          NaN         NaN   \n",
       "total_fi_tl                              NaN          NaN         NaN   \n",
       "inq_last_12m                             NaN          NaN         NaN   \n",
       "\n",
       "                             loan_status       dti  delinq_2yrs  \\\n",
       "member_id                      -0.024568  0.064463    -0.000418   \n",
       "loan_amnt                      -0.061475  0.019603    -0.000564   \n",
       "funded_amnt                    -0.061475  0.019603    -0.000564   \n",
       "funded_amnt_inv                -0.061480  0.019575    -0.000588   \n",
       "installment                    -0.049969  0.013022     0.011715   \n",
       "annual_inc                      0.084076 -0.226094     0.052931   \n",
       "loan_status                     1.000000 -0.156588    -0.036069   \n",
       "dti                            -0.156588  1.000000    -0.011217   \n",
       "delinq_2yrs                    -0.036069 -0.011217     1.000000   \n",
       "inq_last_6mths                 -0.038670 -0.000778     0.032516   \n",
       "mths_since_last_delinq          0.045524 -0.004305    -0.573496   \n",
       "mths_since_last_record         -0.032456  0.093337    -0.056361   \n",
       "open_acc                       -0.013895  0.275328     0.048707   \n",
       "pub_rec                         0.011811 -0.073690    -0.017882   \n",
       "revol_bal                       0.008608  0.130162    -0.038085   \n",
       "total_acc                       0.054324  0.192634     0.122631   \n",
       "out_prncp                      -0.416765  0.068848     0.027844   \n",
       "out_prncp_inv                  -0.416757  0.068844     0.027839   \n",
       "total_pymnt                     0.481835 -0.062300    -0.017764   \n",
       "total_pymnt_inv                 0.481849 -0.062329    -0.017795   \n",
       "total_rec_prncp                 0.572036 -0.082544    -0.026125   \n",
       "total_rec_int                  -0.129786  0.065413     0.031172   \n",
       "total_rec_late_fee             -0.188725  0.013217     0.049509   \n",
       "recoveries                     -0.372655  0.047731     0.017527   \n",
       "collection_recovery_fee        -0.322313  0.049391     0.013618   \n",
       "last_pymnt_amnt                 0.569919 -0.066031    -0.025905   \n",
       "collections_12_mths_ex_med     -0.006959 -0.008914     0.048841   \n",
       "mths_since_last_major_derog     0.030533  0.016960    -0.432844   \n",
       "policy_code                          NaN       NaN          NaN   \n",
       "annual_inc_joint                     NaN       NaN          NaN   \n",
       "dti_joint                            NaN       NaN          NaN   \n",
       "verification_status_joint            NaN       NaN          NaN   \n",
       "acc_now_delinq                 -0.002739  0.007406     0.121504   \n",
       "tot_coll_amt                    0.002692 -0.005643    -0.001436   \n",
       "tot_cur_bal                     0.088421 -0.020824     0.057604   \n",
       "open_acc_6m                          NaN       NaN          NaN   \n",
       "open_il_6m                           NaN       NaN          NaN   \n",
       "open_il_12m                          NaN       NaN          NaN   \n",
       "open_il_24m                          NaN       NaN          NaN   \n",
       "mths_since_rcnt_il                   NaN       NaN          NaN   \n",
       "total_bal_il                         NaN       NaN          NaN   \n",
       "il_util                              NaN       NaN          NaN   \n",
       "open_rv_12m                          NaN       NaN          NaN   \n",
       "open_rv_24m                          NaN       NaN          NaN   \n",
       "max_bal_bc                           NaN       NaN          NaN   \n",
       "all_util                             NaN       NaN          NaN   \n",
       "total_credit_rv                 0.062027  0.060749    -0.047581   \n",
       "inq_fi                               NaN       NaN          NaN   \n",
       "total_fi_tl                          NaN       NaN          NaN   \n",
       "inq_last_12m                         NaN       NaN          NaN   \n",
       "\n",
       "                             inq_last_6mths      ...       total_bal_il  \\\n",
       "member_id                         -0.085196      ...                NaN   \n",
       "loan_amnt                         -0.010466      ...                NaN   \n",
       "funded_amnt                       -0.010466      ...                NaN   \n",
       "funded_amnt_inv                   -0.010487      ...                NaN   \n",
       "installment                        0.012371      ...                NaN   \n",
       "annual_inc                         0.057332      ...                NaN   \n",
       "loan_status                       -0.038670      ...                NaN   \n",
       "dti                               -0.000778      ...                NaN   \n",
       "delinq_2yrs                        0.032516      ...                NaN   \n",
       "inq_last_6mths                     1.000000      ...                NaN   \n",
       "mths_since_last_delinq             0.012876      ...                NaN   \n",
       "mths_since_last_record            -0.085696      ...                NaN   \n",
       "open_acc                           0.102062      ...                NaN   \n",
       "pub_rec                            0.071866      ...                NaN   \n",
       "revol_bal                         -0.028749      ...                NaN   \n",
       "total_acc                          0.137499      ...                NaN   \n",
       "out_prncp                         -0.002693      ...                NaN   \n",
       "out_prncp_inv                     -0.002702      ...                NaN   \n",
       "total_pymnt                       -0.020588      ...                NaN   \n",
       "total_pymnt_inv                   -0.020599      ...                NaN   \n",
       "total_rec_prncp                   -0.035214      ...                NaN   \n",
       "total_rec_int                      0.055296      ...                NaN   \n",
       "total_rec_late_fee                 0.013822      ...                NaN   \n",
       "recoveries                         0.038585      ...                NaN   \n",
       "collection_recovery_fee            0.034022      ...                NaN   \n",
       "last_pymnt_amnt                   -0.026029      ...                NaN   \n",
       "collections_12_mths_ex_med         0.006080      ...                NaN   \n",
       "mths_since_last_major_derog        0.014155      ...                NaN   \n",
       "policy_code                             NaN      ...                NaN   \n",
       "annual_inc_joint                        NaN      ...                NaN   \n",
       "dti_joint                               NaN      ...                NaN   \n",
       "verification_status_joint               NaN      ...                NaN   \n",
       "acc_now_delinq                    -0.005109      ...                NaN   \n",
       "tot_coll_amt                       0.001103      ...                NaN   \n",
       "tot_cur_bal                        0.035239      ...                NaN   \n",
       "open_acc_6m                             NaN      ...                NaN   \n",
       "open_il_6m                              NaN      ...                NaN   \n",
       "open_il_12m                             NaN      ...                NaN   \n",
       "open_il_24m                             NaN      ...                NaN   \n",
       "mths_since_rcnt_il                      NaN      ...                NaN   \n",
       "total_bal_il                            NaN      ...                NaN   \n",
       "il_util                                 NaN      ...                NaN   \n",
       "open_rv_12m                             NaN      ...                NaN   \n",
       "open_rv_24m                             NaN      ...                NaN   \n",
       "max_bal_bc                              NaN      ...                NaN   \n",
       "all_util                                NaN      ...                NaN   \n",
       "total_credit_rv                    0.000913      ...                NaN   \n",
       "inq_fi                                  NaN      ...                NaN   \n",
       "total_fi_tl                             NaN      ...                NaN   \n",
       "inq_last_12m                            NaN      ...                NaN   \n",
       "\n",
       "                             il_util  open_rv_12m  open_rv_24m  max_bal_bc  \\\n",
       "member_id                        NaN          NaN          NaN         NaN   \n",
       "loan_amnt                        NaN          NaN          NaN         NaN   \n",
       "funded_amnt                      NaN          NaN          NaN         NaN   \n",
       "funded_amnt_inv                  NaN          NaN          NaN         NaN   \n",
       "installment                      NaN          NaN          NaN         NaN   \n",
       "annual_inc                       NaN          NaN          NaN         NaN   \n",
       "loan_status                      NaN          NaN          NaN         NaN   \n",
       "dti                              NaN          NaN          NaN         NaN   \n",
       "delinq_2yrs                      NaN          NaN          NaN         NaN   \n",
       "inq_last_6mths                   NaN          NaN          NaN         NaN   \n",
       "mths_since_last_delinq           NaN          NaN          NaN         NaN   \n",
       "mths_since_last_record           NaN          NaN          NaN         NaN   \n",
       "open_acc                         NaN          NaN          NaN         NaN   \n",
       "pub_rec                          NaN          NaN          NaN         NaN   \n",
       "revol_bal                        NaN          NaN          NaN         NaN   \n",
       "total_acc                        NaN          NaN          NaN         NaN   \n",
       "out_prncp                        NaN          NaN          NaN         NaN   \n",
       "out_prncp_inv                    NaN          NaN          NaN         NaN   \n",
       "total_pymnt                      NaN          NaN          NaN         NaN   \n",
       "total_pymnt_inv                  NaN          NaN          NaN         NaN   \n",
       "total_rec_prncp                  NaN          NaN          NaN         NaN   \n",
       "total_rec_int                    NaN          NaN          NaN         NaN   \n",
       "total_rec_late_fee               NaN          NaN          NaN         NaN   \n",
       "recoveries                       NaN          NaN          NaN         NaN   \n",
       "collection_recovery_fee          NaN          NaN          NaN         NaN   \n",
       "last_pymnt_amnt                  NaN          NaN          NaN         NaN   \n",
       "collections_12_mths_ex_med       NaN          NaN          NaN         NaN   \n",
       "mths_since_last_major_derog      NaN          NaN          NaN         NaN   \n",
       "policy_code                      NaN          NaN          NaN         NaN   \n",
       "annual_inc_joint                 NaN          NaN          NaN         NaN   \n",
       "dti_joint                        NaN          NaN          NaN         NaN   \n",
       "verification_status_joint        NaN          NaN          NaN         NaN   \n",
       "acc_now_delinq                   NaN          NaN          NaN         NaN   \n",
       "tot_coll_amt                     NaN          NaN          NaN         NaN   \n",
       "tot_cur_bal                      NaN          NaN          NaN         NaN   \n",
       "open_acc_6m                      NaN          NaN          NaN         NaN   \n",
       "open_il_6m                       NaN          NaN          NaN         NaN   \n",
       "open_il_12m                      NaN          NaN          NaN         NaN   \n",
       "open_il_24m                      NaN          NaN          NaN         NaN   \n",
       "mths_since_rcnt_il               NaN          NaN          NaN         NaN   \n",
       "total_bal_il                     NaN          NaN          NaN         NaN   \n",
       "il_util                          NaN          NaN          NaN         NaN   \n",
       "open_rv_12m                      NaN          NaN          NaN         NaN   \n",
       "open_rv_24m                      NaN          NaN          NaN         NaN   \n",
       "max_bal_bc                       NaN          NaN          NaN         NaN   \n",
       "all_util                         NaN          NaN          NaN         NaN   \n",
       "total_credit_rv                  NaN          NaN          NaN         NaN   \n",
       "inq_fi                           NaN          NaN          NaN         NaN   \n",
       "total_fi_tl                      NaN          NaN          NaN         NaN   \n",
       "inq_last_12m                     NaN          NaN          NaN         NaN   \n",
       "\n",
       "                             all_util  total_credit_rv  inq_fi  total_fi_tl  \\\n",
       "member_id                         NaN         0.026991     NaN          NaN   \n",
       "loan_amnt                         NaN         0.362353     NaN          NaN   \n",
       "funded_amnt                       NaN         0.362353     NaN          NaN   \n",
       "funded_amnt_inv                   NaN         0.362353     NaN          NaN   \n",
       "installment                       NaN         0.341205     NaN          NaN   \n",
       "annual_inc                        NaN         0.337263     NaN          NaN   \n",
       "loan_status                       NaN         0.062027     NaN          NaN   \n",
       "dti                               NaN         0.060749     NaN          NaN   \n",
       "delinq_2yrs                       NaN        -0.047581     NaN          NaN   \n",
       "inq_last_6mths                    NaN         0.000913     NaN          NaN   \n",
       "mths_since_last_delinq            NaN        -0.041598     NaN          NaN   \n",
       "mths_since_last_record            NaN         0.019784     NaN          NaN   \n",
       "open_acc                          NaN         0.366575     NaN          NaN   \n",
       "pub_rec                           NaN        -0.147850     NaN          NaN   \n",
       "revol_bal                         NaN         0.819477     NaN          NaN   \n",
       "total_acc                         NaN         0.273707     NaN          NaN   \n",
       "out_prncp                         NaN         0.021561     NaN          NaN   \n",
       "out_prncp_inv                     NaN         0.021566     NaN          NaN   \n",
       "total_pymnt                       NaN         0.324442     NaN          NaN   \n",
       "total_pymnt_inv                   NaN         0.324442     NaN          NaN   \n",
       "total_rec_prncp                   NaN         0.317376     NaN          NaN   \n",
       "total_rec_int                     NaN         0.161624     NaN          NaN   \n",
       "total_rec_late_fee                NaN         0.004190     NaN          NaN   \n",
       "recoveries                        NaN         0.023704     NaN          NaN   \n",
       "collection_recovery_fee           NaN         0.023582     NaN          NaN   \n",
       "last_pymnt_amnt                   NaN         0.260440     NaN          NaN   \n",
       "collections_12_mths_ex_med        NaN        -0.013510     NaN          NaN   \n",
       "mths_since_last_major_derog       NaN        -0.042478     NaN          NaN   \n",
       "policy_code                       NaN              NaN     NaN          NaN   \n",
       "annual_inc_joint                  NaN              NaN     NaN          NaN   \n",
       "dti_joint                         NaN              NaN     NaN          NaN   \n",
       "verification_status_joint         NaN              NaN     NaN          NaN   \n",
       "acc_now_delinq                    NaN         0.020245     NaN          NaN   \n",
       "tot_coll_amt                      NaN        -0.003729     NaN          NaN   \n",
       "tot_cur_bal                       NaN         0.395285     NaN          NaN   \n",
       "open_acc_6m                       NaN              NaN     NaN          NaN   \n",
       "open_il_6m                        NaN              NaN     NaN          NaN   \n",
       "open_il_12m                       NaN              NaN     NaN          NaN   \n",
       "open_il_24m                       NaN              NaN     NaN          NaN   \n",
       "mths_since_rcnt_il                NaN              NaN     NaN          NaN   \n",
       "total_bal_il                      NaN              NaN     NaN          NaN   \n",
       "il_util                           NaN              NaN     NaN          NaN   \n",
       "open_rv_12m                       NaN              NaN     NaN          NaN   \n",
       "open_rv_24m                       NaN              NaN     NaN          NaN   \n",
       "max_bal_bc                        NaN              NaN     NaN          NaN   \n",
       "all_util                          NaN              NaN     NaN          NaN   \n",
       "total_credit_rv                   NaN         1.000000     NaN          NaN   \n",
       "inq_fi                            NaN              NaN     NaN          NaN   \n",
       "total_fi_tl                       NaN              NaN     NaN          NaN   \n",
       "inq_last_12m                      NaN              NaN     NaN          NaN   \n",
       "\n",
       "                             inq_last_12m  \n",
       "member_id                             NaN  \n",
       "loan_amnt                             NaN  \n",
       "funded_amnt                           NaN  \n",
       "funded_amnt_inv                       NaN  \n",
       "installment                           NaN  \n",
       "annual_inc                            NaN  \n",
       "loan_status                           NaN  \n",
       "dti                                   NaN  \n",
       "delinq_2yrs                           NaN  \n",
       "inq_last_6mths                        NaN  \n",
       "mths_since_last_delinq                NaN  \n",
       "mths_since_last_record                NaN  \n",
       "open_acc                              NaN  \n",
       "pub_rec                               NaN  \n",
       "revol_bal                             NaN  \n",
       "total_acc                             NaN  \n",
       "out_prncp                             NaN  \n",
       "out_prncp_inv                         NaN  \n",
       "total_pymnt                           NaN  \n",
       "total_pymnt_inv                       NaN  \n",
       "total_rec_prncp                       NaN  \n",
       "total_rec_int                         NaN  \n",
       "total_rec_late_fee                    NaN  \n",
       "recoveries                            NaN  \n",
       "collection_recovery_fee               NaN  \n",
       "last_pymnt_amnt                       NaN  \n",
       "collections_12_mths_ex_med            NaN  \n",
       "mths_since_last_major_derog           NaN  \n",
       "policy_code                           NaN  \n",
       "annual_inc_joint                      NaN  \n",
       "dti_joint                             NaN  \n",
       "verification_status_joint             NaN  \n",
       "acc_now_delinq                        NaN  \n",
       "tot_coll_amt                          NaN  \n",
       "tot_cur_bal                           NaN  \n",
       "open_acc_6m                           NaN  \n",
       "open_il_6m                            NaN  \n",
       "open_il_12m                           NaN  \n",
       "open_il_24m                           NaN  \n",
       "mths_since_rcnt_il                    NaN  \n",
       "total_bal_il                          NaN  \n",
       "il_util                               NaN  \n",
       "open_rv_12m                           NaN  \n",
       "open_rv_24m                           NaN  \n",
       "max_bal_bc                            NaN  \n",
       "all_util                              NaN  \n",
       "total_credit_rv                       NaN  \n",
       "inq_fi                                NaN  \n",
       "total_fi_tl                           NaN  \n",
       "inq_last_12m                          NaN  \n",
       "\n",
       "[50 rows x 50 columns]"
      ]
     },
     "execution_count": 155,
     "metadata": {},
     "output_type": "execute_result"
    }
   ],
   "source": [
    "df.corr()"
   ]
  },
  {
   "cell_type": "markdown",
   "metadata": {},
   "source": [
    "### Since correlation of funded amount and loan amount is 1.00000 we can remove one of them (we'll remove funded_amnt)"
   ]
  },
  {
   "cell_type": "code",
   "execution_count": 156,
   "metadata": {
    "collapsed": true
   },
   "outputs": [],
   "source": [
    "clean_data = df #so that we can keep the cleaned data as a back up"
   ]
  },
  {
   "cell_type": "code",
   "execution_count": 157,
   "metadata": {
    "collapsed": false,
    "scrolled": true
   },
   "outputs": [
    {
     "data": {
      "text/html": [
       "<div>\n",
       "<table border=\"1\" class=\"dataframe\">\n",
       "  <thead>\n",
       "    <tr style=\"text-align: right;\">\n",
       "      <th></th>\n",
       "      <th>id</th>\n",
       "      <th>member_id</th>\n",
       "      <th>loan_amnt</th>\n",
       "      <th>funded_amnt_inv</th>\n",
       "      <th>term</th>\n",
       "      <th>int_rate</th>\n",
       "      <th>installment</th>\n",
       "      <th>grade</th>\n",
       "      <th>sub_grade</th>\n",
       "      <th>emp_title</th>\n",
       "      <th>...</th>\n",
       "      <th>total_bal_il</th>\n",
       "      <th>il_util</th>\n",
       "      <th>open_rv_12m</th>\n",
       "      <th>open_rv_24m</th>\n",
       "      <th>max_bal_bc</th>\n",
       "      <th>all_util</th>\n",
       "      <th>total_credit_rv</th>\n",
       "      <th>inq_fi</th>\n",
       "      <th>total_fi_tl</th>\n",
       "      <th>inq_last_12m</th>\n",
       "    </tr>\n",
       "  </thead>\n",
       "  <tbody>\n",
       "    <tr>\n",
       "      <th>3</th>\n",
       "      <td>37822187</td>\n",
       "      <td>40585251</td>\n",
       "      <td>9600</td>\n",
       "      <td>9600</td>\n",
       "      <td>36 months</td>\n",
       "      <td>13.66%</td>\n",
       "      <td>326.53</td>\n",
       "      <td>C</td>\n",
       "      <td>C3</td>\n",
       "      <td>Admin Specialist</td>\n",
       "      <td>...</td>\n",
       "      <td>NaN</td>\n",
       "      <td>NaN</td>\n",
       "      <td>NaN</td>\n",
       "      <td>NaN</td>\n",
       "      <td>NaN</td>\n",
       "      <td>NaN</td>\n",
       "      <td>27600</td>\n",
       "      <td>NaN</td>\n",
       "      <td>NaN</td>\n",
       "      <td>NaN</td>\n",
       "    </tr>\n",
       "    <tr>\n",
       "      <th>5</th>\n",
       "      <td>37662224</td>\n",
       "      <td>40425321</td>\n",
       "      <td>7650</td>\n",
       "      <td>7650</td>\n",
       "      <td>36 months</td>\n",
       "      <td>13.66%</td>\n",
       "      <td>260.20</td>\n",
       "      <td>C</td>\n",
       "      <td>C3</td>\n",
       "      <td>Technical Specialist</td>\n",
       "      <td>...</td>\n",
       "      <td>NaN</td>\n",
       "      <td>NaN</td>\n",
       "      <td>NaN</td>\n",
       "      <td>NaN</td>\n",
       "      <td>NaN</td>\n",
       "      <td>NaN</td>\n",
       "      <td>18300</td>\n",
       "      <td>NaN</td>\n",
       "      <td>NaN</td>\n",
       "      <td>NaN</td>\n",
       "    </tr>\n",
       "    <tr>\n",
       "      <th>6</th>\n",
       "      <td>37800722</td>\n",
       "      <td>40563521</td>\n",
       "      <td>12975</td>\n",
       "      <td>12975</td>\n",
       "      <td>36 months</td>\n",
       "      <td>17.86%</td>\n",
       "      <td>468.17</td>\n",
       "      <td>D</td>\n",
       "      <td>D5</td>\n",
       "      <td>Sales</td>\n",
       "      <td>...</td>\n",
       "      <td>NaN</td>\n",
       "      <td>NaN</td>\n",
       "      <td>NaN</td>\n",
       "      <td>NaN</td>\n",
       "      <td>NaN</td>\n",
       "      <td>NaN</td>\n",
       "      <td>15700</td>\n",
       "      <td>NaN</td>\n",
       "      <td>NaN</td>\n",
       "      <td>NaN</td>\n",
       "    </tr>\n",
       "    <tr>\n",
       "      <th>11</th>\n",
       "      <td>37741884</td>\n",
       "      <td>40504905</td>\n",
       "      <td>2500</td>\n",
       "      <td>2500</td>\n",
       "      <td>36 months</td>\n",
       "      <td>11.99%</td>\n",
       "      <td>83.03</td>\n",
       "      <td>B</td>\n",
       "      <td>B5</td>\n",
       "      <td>Manufacturing Engineer</td>\n",
       "      <td>...</td>\n",
       "      <td>NaN</td>\n",
       "      <td>NaN</td>\n",
       "      <td>NaN</td>\n",
       "      <td>NaN</td>\n",
       "      <td>NaN</td>\n",
       "      <td>NaN</td>\n",
       "      <td>24300</td>\n",
       "      <td>NaN</td>\n",
       "      <td>NaN</td>\n",
       "      <td>NaN</td>\n",
       "    </tr>\n",
       "    <tr>\n",
       "      <th>12</th>\n",
       "      <td>37642222</td>\n",
       "      <td>40405288</td>\n",
       "      <td>5250</td>\n",
       "      <td>5250</td>\n",
       "      <td>36 months</td>\n",
       "      <td>11.44%</td>\n",
       "      <td>172.98</td>\n",
       "      <td>B</td>\n",
       "      <td>B4</td>\n",
       "      <td>Store Manager</td>\n",
       "      <td>...</td>\n",
       "      <td>NaN</td>\n",
       "      <td>NaN</td>\n",
       "      <td>NaN</td>\n",
       "      <td>NaN</td>\n",
       "      <td>NaN</td>\n",
       "      <td>NaN</td>\n",
       "      <td>22000</td>\n",
       "      <td>NaN</td>\n",
       "      <td>NaN</td>\n",
       "      <td>NaN</td>\n",
       "    </tr>\n",
       "    <tr>\n",
       "      <th>17</th>\n",
       "      <td>37742142</td>\n",
       "      <td>40505198</td>\n",
       "      <td>2000</td>\n",
       "      <td>2000</td>\n",
       "      <td>36 months</td>\n",
       "      <td>14.99%</td>\n",
       "      <td>69.33</td>\n",
       "      <td>C</td>\n",
       "      <td>C5</td>\n",
       "      <td>practice plan associate</td>\n",
       "      <td>...</td>\n",
       "      <td>NaN</td>\n",
       "      <td>NaN</td>\n",
       "      <td>NaN</td>\n",
       "      <td>NaN</td>\n",
       "      <td>NaN</td>\n",
       "      <td>NaN</td>\n",
       "      <td>15300</td>\n",
       "      <td>NaN</td>\n",
       "      <td>NaN</td>\n",
       "      <td>NaN</td>\n",
       "    </tr>\n",
       "    <tr>\n",
       "      <th>24</th>\n",
       "      <td>36109709</td>\n",
       "      <td>38821388</td>\n",
       "      <td>2000</td>\n",
       "      <td>2000</td>\n",
       "      <td>36 months</td>\n",
       "      <td>12.99%</td>\n",
       "      <td>67.38</td>\n",
       "      <td>C</td>\n",
       "      <td>C2</td>\n",
       "      <td>NaN</td>\n",
       "      <td>...</td>\n",
       "      <td>NaN</td>\n",
       "      <td>NaN</td>\n",
       "      <td>NaN</td>\n",
       "      <td>NaN</td>\n",
       "      <td>NaN</td>\n",
       "      <td>NaN</td>\n",
       "      <td>39600</td>\n",
       "      <td>NaN</td>\n",
       "      <td>NaN</td>\n",
       "      <td>NaN</td>\n",
       "    </tr>\n",
       "    <tr>\n",
       "      <th>28</th>\n",
       "      <td>37822030</td>\n",
       "      <td>40585070</td>\n",
       "      <td>18450</td>\n",
       "      <td>18450</td>\n",
       "      <td>36 months</td>\n",
       "      <td>14.31%</td>\n",
       "      <td>633.36</td>\n",
       "      <td>C</td>\n",
       "      <td>C4</td>\n",
       "      <td>construction foreman</td>\n",
       "      <td>...</td>\n",
       "      <td>NaN</td>\n",
       "      <td>NaN</td>\n",
       "      <td>NaN</td>\n",
       "      <td>NaN</td>\n",
       "      <td>NaN</td>\n",
       "      <td>NaN</td>\n",
       "      <td>6800</td>\n",
       "      <td>NaN</td>\n",
       "      <td>NaN</td>\n",
       "      <td>NaN</td>\n",
       "    </tr>\n",
       "    <tr>\n",
       "      <th>29</th>\n",
       "      <td>37692106</td>\n",
       "      <td>40465191</td>\n",
       "      <td>28000</td>\n",
       "      <td>28000</td>\n",
       "      <td>60 months</td>\n",
       "      <td>10.49%</td>\n",
       "      <td>601.70</td>\n",
       "      <td>B</td>\n",
       "      <td>B3</td>\n",
       "      <td>Humana Cares Manager</td>\n",
       "      <td>...</td>\n",
       "      <td>NaN</td>\n",
       "      <td>NaN</td>\n",
       "      <td>NaN</td>\n",
       "      <td>NaN</td>\n",
       "      <td>NaN</td>\n",
       "      <td>NaN</td>\n",
       "      <td>41700</td>\n",
       "      <td>NaN</td>\n",
       "      <td>NaN</td>\n",
       "      <td>NaN</td>\n",
       "    </tr>\n",
       "    <tr>\n",
       "      <th>32</th>\n",
       "      <td>10089665</td>\n",
       "      <td>11941194</td>\n",
       "      <td>8000</td>\n",
       "      <td>8000</td>\n",
       "      <td>36 months</td>\n",
       "      <td>10.49%</td>\n",
       "      <td>259.99</td>\n",
       "      <td>B</td>\n",
       "      <td>B3</td>\n",
       "      <td>Senior Logistics Analyst</td>\n",
       "      <td>...</td>\n",
       "      <td>NaN</td>\n",
       "      <td>NaN</td>\n",
       "      <td>NaN</td>\n",
       "      <td>NaN</td>\n",
       "      <td>NaN</td>\n",
       "      <td>NaN</td>\n",
       "      <td>74700</td>\n",
       "      <td>NaN</td>\n",
       "      <td>NaN</td>\n",
       "      <td>NaN</td>\n",
       "    </tr>\n",
       "    <tr>\n",
       "      <th>35</th>\n",
       "      <td>37742008</td>\n",
       "      <td>40505046</td>\n",
       "      <td>3000</td>\n",
       "      <td>3000</td>\n",
       "      <td>36 months</td>\n",
       "      <td>8.19%</td>\n",
       "      <td>94.28</td>\n",
       "      <td>A</td>\n",
       "      <td>A5</td>\n",
       "      <td>operator</td>\n",
       "      <td>...</td>\n",
       "      <td>NaN</td>\n",
       "      <td>NaN</td>\n",
       "      <td>NaN</td>\n",
       "      <td>NaN</td>\n",
       "      <td>NaN</td>\n",
       "      <td>NaN</td>\n",
       "      <td>15000</td>\n",
       "      <td>NaN</td>\n",
       "      <td>NaN</td>\n",
       "      <td>NaN</td>\n",
       "    </tr>\n",
       "    <tr>\n",
       "      <th>37</th>\n",
       "      <td>37802030</td>\n",
       "      <td>40565128</td>\n",
       "      <td>27525</td>\n",
       "      <td>27525</td>\n",
       "      <td>60 months</td>\n",
       "      <td>22.99%</td>\n",
       "      <td>775.79</td>\n",
       "      <td>F</td>\n",
       "      <td>F1</td>\n",
       "      <td>relationship manager</td>\n",
       "      <td>...</td>\n",
       "      <td>NaN</td>\n",
       "      <td>NaN</td>\n",
       "      <td>NaN</td>\n",
       "      <td>NaN</td>\n",
       "      <td>NaN</td>\n",
       "      <td>NaN</td>\n",
       "      <td>66500</td>\n",
       "      <td>NaN</td>\n",
       "      <td>NaN</td>\n",
       "      <td>NaN</td>\n",
       "    </tr>\n",
       "    <tr>\n",
       "      <th>40</th>\n",
       "      <td>37612144</td>\n",
       "      <td>40375239</td>\n",
       "      <td>5000</td>\n",
       "      <td>5000</td>\n",
       "      <td>36 months</td>\n",
       "      <td>14.99%</td>\n",
       "      <td>173.31</td>\n",
       "      <td>C</td>\n",
       "      <td>C5</td>\n",
       "      <td>HEAD TELLER</td>\n",
       "      <td>...</td>\n",
       "      <td>NaN</td>\n",
       "      <td>NaN</td>\n",
       "      <td>NaN</td>\n",
       "      <td>NaN</td>\n",
       "      <td>NaN</td>\n",
       "      <td>NaN</td>\n",
       "      <td>10400</td>\n",
       "      <td>NaN</td>\n",
       "      <td>NaN</td>\n",
       "      <td>NaN</td>\n",
       "    </tr>\n",
       "    <tr>\n",
       "      <th>50</th>\n",
       "      <td>37791945</td>\n",
       "      <td>40554984</td>\n",
       "      <td>12000</td>\n",
       "      <td>12000</td>\n",
       "      <td>60 months</td>\n",
       "      <td>17.86%</td>\n",
       "      <td>303.81</td>\n",
       "      <td>D</td>\n",
       "      <td>D5</td>\n",
       "      <td>Nurse</td>\n",
       "      <td>...</td>\n",
       "      <td>NaN</td>\n",
       "      <td>NaN</td>\n",
       "      <td>NaN</td>\n",
       "      <td>NaN</td>\n",
       "      <td>NaN</td>\n",
       "      <td>NaN</td>\n",
       "      <td>33700</td>\n",
       "      <td>NaN</td>\n",
       "      <td>NaN</td>\n",
       "      <td>NaN</td>\n",
       "    </tr>\n",
       "    <tr>\n",
       "      <th>55</th>\n",
       "      <td>37651933</td>\n",
       "      <td>40414965</td>\n",
       "      <td>6825</td>\n",
       "      <td>6825</td>\n",
       "      <td>36 months</td>\n",
       "      <td>15.99%</td>\n",
       "      <td>239.92</td>\n",
       "      <td>D</td>\n",
       "      <td>D2</td>\n",
       "      <td>Graduate Teaching Assistant</td>\n",
       "      <td>...</td>\n",
       "      <td>NaN</td>\n",
       "      <td>NaN</td>\n",
       "      <td>NaN</td>\n",
       "      <td>NaN</td>\n",
       "      <td>NaN</td>\n",
       "      <td>NaN</td>\n",
       "      <td>21000</td>\n",
       "      <td>NaN</td>\n",
       "      <td>NaN</td>\n",
       "      <td>NaN</td>\n",
       "    </tr>\n",
       "    <tr>\n",
       "      <th>56</th>\n",
       "      <td>37641966</td>\n",
       "      <td>40405009</td>\n",
       "      <td>18000</td>\n",
       "      <td>18000</td>\n",
       "      <td>36 months</td>\n",
       "      <td>11.44%</td>\n",
       "      <td>593.06</td>\n",
       "      <td>B</td>\n",
       "      <td>B4</td>\n",
       "      <td>Industrial Worker</td>\n",
       "      <td>...</td>\n",
       "      <td>NaN</td>\n",
       "      <td>NaN</td>\n",
       "      <td>NaN</td>\n",
       "      <td>NaN</td>\n",
       "      <td>NaN</td>\n",
       "      <td>NaN</td>\n",
       "      <td>12600</td>\n",
       "      <td>NaN</td>\n",
       "      <td>NaN</td>\n",
       "      <td>NaN</td>\n",
       "    </tr>\n",
       "    <tr>\n",
       "      <th>61</th>\n",
       "      <td>37791995</td>\n",
       "      <td>40555038</td>\n",
       "      <td>4500</td>\n",
       "      <td>4500</td>\n",
       "      <td>36 months</td>\n",
       "      <td>14.99%</td>\n",
       "      <td>155.98</td>\n",
       "      <td>C</td>\n",
       "      <td>C5</td>\n",
       "      <td>Nanny</td>\n",
       "      <td>...</td>\n",
       "      <td>NaN</td>\n",
       "      <td>NaN</td>\n",
       "      <td>NaN</td>\n",
       "      <td>NaN</td>\n",
       "      <td>NaN</td>\n",
       "      <td>NaN</td>\n",
       "      <td>27800</td>\n",
       "      <td>NaN</td>\n",
       "      <td>NaN</td>\n",
       "      <td>NaN</td>\n",
       "    </tr>\n",
       "    <tr>\n",
       "      <th>68</th>\n",
       "      <td>37711991</td>\n",
       "      <td>40485052</td>\n",
       "      <td>14000</td>\n",
       "      <td>14000</td>\n",
       "      <td>36 months</td>\n",
       "      <td>16.49%</td>\n",
       "      <td>495.60</td>\n",
       "      <td>D</td>\n",
       "      <td>D3</td>\n",
       "      <td>Customerservice</td>\n",
       "      <td>...</td>\n",
       "      <td>NaN</td>\n",
       "      <td>NaN</td>\n",
       "      <td>NaN</td>\n",
       "      <td>NaN</td>\n",
       "      <td>NaN</td>\n",
       "      <td>NaN</td>\n",
       "      <td>26500</td>\n",
       "      <td>NaN</td>\n",
       "      <td>NaN</td>\n",
       "      <td>NaN</td>\n",
       "    </tr>\n",
       "    <tr>\n",
       "      <th>69</th>\n",
       "      <td>37761127</td>\n",
       "      <td>40524066</td>\n",
       "      <td>2400</td>\n",
       "      <td>2400</td>\n",
       "      <td>36 months</td>\n",
       "      <td>8.19%</td>\n",
       "      <td>75.42</td>\n",
       "      <td>A</td>\n",
       "      <td>A5</td>\n",
       "      <td>Technologist</td>\n",
       "      <td>...</td>\n",
       "      <td>NaN</td>\n",
       "      <td>NaN</td>\n",
       "      <td>NaN</td>\n",
       "      <td>NaN</td>\n",
       "      <td>NaN</td>\n",
       "      <td>NaN</td>\n",
       "      <td>41400</td>\n",
       "      <td>NaN</td>\n",
       "      <td>NaN</td>\n",
       "      <td>NaN</td>\n",
       "    </tr>\n",
       "    <tr>\n",
       "      <th>70</th>\n",
       "      <td>37702003</td>\n",
       "      <td>40475030</td>\n",
       "      <td>2400</td>\n",
       "      <td>2400</td>\n",
       "      <td>36 months</td>\n",
       "      <td>14.31%</td>\n",
       "      <td>82.39</td>\n",
       "      <td>C</td>\n",
       "      <td>C4</td>\n",
       "      <td>Sgt</td>\n",
       "      <td>...</td>\n",
       "      <td>NaN</td>\n",
       "      <td>NaN</td>\n",
       "      <td>NaN</td>\n",
       "      <td>NaN</td>\n",
       "      <td>NaN</td>\n",
       "      <td>NaN</td>\n",
       "      <td>16200</td>\n",
       "      <td>NaN</td>\n",
       "      <td>NaN</td>\n",
       "      <td>NaN</td>\n",
       "    </tr>\n",
       "    <tr>\n",
       "      <th>75</th>\n",
       "      <td>37742002</td>\n",
       "      <td>40505040</td>\n",
       "      <td>3625</td>\n",
       "      <td>3625</td>\n",
       "      <td>36 months</td>\n",
       "      <td>16.49%</td>\n",
       "      <td>128.33</td>\n",
       "      <td>D</td>\n",
       "      <td>D3</td>\n",
       "      <td>Financial Advisor</td>\n",
       "      <td>...</td>\n",
       "      <td>NaN</td>\n",
       "      <td>NaN</td>\n",
       "      <td>NaN</td>\n",
       "      <td>NaN</td>\n",
       "      <td>NaN</td>\n",
       "      <td>NaN</td>\n",
       "      <td>1300</td>\n",
       "      <td>NaN</td>\n",
       "      <td>NaN</td>\n",
       "      <td>NaN</td>\n",
       "    </tr>\n",
       "    <tr>\n",
       "      <th>78</th>\n",
       "      <td>37691930</td>\n",
       "      <td>40464996</td>\n",
       "      <td>2800</td>\n",
       "      <td>2800</td>\n",
       "      <td>36 months</td>\n",
       "      <td>9.49%</td>\n",
       "      <td>89.68</td>\n",
       "      <td>B</td>\n",
       "      <td>B2</td>\n",
       "      <td>Cybersecuriity specialst</td>\n",
       "      <td>...</td>\n",
       "      <td>NaN</td>\n",
       "      <td>NaN</td>\n",
       "      <td>NaN</td>\n",
       "      <td>NaN</td>\n",
       "      <td>NaN</td>\n",
       "      <td>NaN</td>\n",
       "      <td>112400</td>\n",
       "      <td>NaN</td>\n",
       "      <td>NaN</td>\n",
       "      <td>NaN</td>\n",
       "    </tr>\n",
       "    <tr>\n",
       "      <th>84</th>\n",
       "      <td>37711908</td>\n",
       "      <td>40484957</td>\n",
       "      <td>12000</td>\n",
       "      <td>12000</td>\n",
       "      <td>60 months</td>\n",
       "      <td>17.14%</td>\n",
       "      <td>299.14</td>\n",
       "      <td>D</td>\n",
       "      <td>D4</td>\n",
       "      <td>IT specialist</td>\n",
       "      <td>...</td>\n",
       "      <td>NaN</td>\n",
       "      <td>NaN</td>\n",
       "      <td>NaN</td>\n",
       "      <td>NaN</td>\n",
       "      <td>NaN</td>\n",
       "      <td>NaN</td>\n",
       "      <td>28100</td>\n",
       "      <td>NaN</td>\n",
       "      <td>NaN</td>\n",
       "      <td>NaN</td>\n",
       "    </tr>\n",
       "    <tr>\n",
       "      <th>85</th>\n",
       "      <td>37681953</td>\n",
       "      <td>40455001</td>\n",
       "      <td>8000</td>\n",
       "      <td>8000</td>\n",
       "      <td>36 months</td>\n",
       "      <td>16.49%</td>\n",
       "      <td>283.20</td>\n",
       "      <td>D</td>\n",
       "      <td>D3</td>\n",
       "      <td>DRP Planner</td>\n",
       "      <td>...</td>\n",
       "      <td>NaN</td>\n",
       "      <td>NaN</td>\n",
       "      <td>NaN</td>\n",
       "      <td>NaN</td>\n",
       "      <td>NaN</td>\n",
       "      <td>NaN</td>\n",
       "      <td>23000</td>\n",
       "      <td>NaN</td>\n",
       "      <td>NaN</td>\n",
       "      <td>NaN</td>\n",
       "    </tr>\n",
       "    <tr>\n",
       "      <th>87</th>\n",
       "      <td>37661861</td>\n",
       "      <td>40424918</td>\n",
       "      <td>4800</td>\n",
       "      <td>4800</td>\n",
       "      <td>36 months</td>\n",
       "      <td>13.66%</td>\n",
       "      <td>163.27</td>\n",
       "      <td>C</td>\n",
       "      <td>C3</td>\n",
       "      <td>Shop Manager</td>\n",
       "      <td>...</td>\n",
       "      <td>NaN</td>\n",
       "      <td>NaN</td>\n",
       "      <td>NaN</td>\n",
       "      <td>NaN</td>\n",
       "      <td>NaN</td>\n",
       "      <td>NaN</td>\n",
       "      <td>5000</td>\n",
       "      <td>NaN</td>\n",
       "      <td>NaN</td>\n",
       "      <td>NaN</td>\n",
       "    </tr>\n",
       "    <tr>\n",
       "      <th>90</th>\n",
       "      <td>37761908</td>\n",
       "      <td>40524995</td>\n",
       "      <td>3000</td>\n",
       "      <td>3000</td>\n",
       "      <td>36 months</td>\n",
       "      <td>15.99%</td>\n",
       "      <td>105.46</td>\n",
       "      <td>D</td>\n",
       "      <td>D2</td>\n",
       "      <td>Monitor tech/secretary</td>\n",
       "      <td>...</td>\n",
       "      <td>NaN</td>\n",
       "      <td>NaN</td>\n",
       "      <td>NaN</td>\n",
       "      <td>NaN</td>\n",
       "      <td>NaN</td>\n",
       "      <td>NaN</td>\n",
       "      <td>10100</td>\n",
       "      <td>NaN</td>\n",
       "      <td>NaN</td>\n",
       "      <td>NaN</td>\n",
       "    </tr>\n",
       "    <tr>\n",
       "      <th>97</th>\n",
       "      <td>37671924</td>\n",
       "      <td>40434950</td>\n",
       "      <td>16000</td>\n",
       "      <td>16000</td>\n",
       "      <td>36 months</td>\n",
       "      <td>12.99%</td>\n",
       "      <td>539.03</td>\n",
       "      <td>C</td>\n",
       "      <td>C2</td>\n",
       "      <td>Sr manager</td>\n",
       "      <td>...</td>\n",
       "      <td>NaN</td>\n",
       "      <td>NaN</td>\n",
       "      <td>NaN</td>\n",
       "      <td>NaN</td>\n",
       "      <td>NaN</td>\n",
       "      <td>NaN</td>\n",
       "      <td>20000</td>\n",
       "      <td>NaN</td>\n",
       "      <td>NaN</td>\n",
       "      <td>NaN</td>\n",
       "    </tr>\n",
       "    <tr>\n",
       "      <th>103</th>\n",
       "      <td>37831974</td>\n",
       "      <td>40595038</td>\n",
       "      <td>6400</td>\n",
       "      <td>6400</td>\n",
       "      <td>36 months</td>\n",
       "      <td>10.49%</td>\n",
       "      <td>207.99</td>\n",
       "      <td>B</td>\n",
       "      <td>B3</td>\n",
       "      <td>loan officer</td>\n",
       "      <td>...</td>\n",
       "      <td>NaN</td>\n",
       "      <td>NaN</td>\n",
       "      <td>NaN</td>\n",
       "      <td>NaN</td>\n",
       "      <td>NaN</td>\n",
       "      <td>NaN</td>\n",
       "      <td>20300</td>\n",
       "      <td>NaN</td>\n",
       "      <td>NaN</td>\n",
       "      <td>NaN</td>\n",
       "    </tr>\n",
       "    <tr>\n",
       "      <th>112</th>\n",
       "      <td>37761915</td>\n",
       "      <td>40525003</td>\n",
       "      <td>10375</td>\n",
       "      <td>10375</td>\n",
       "      <td>36 months</td>\n",
       "      <td>13.66%</td>\n",
       "      <td>352.89</td>\n",
       "      <td>C</td>\n",
       "      <td>C3</td>\n",
       "      <td>Dept. Manager</td>\n",
       "      <td>...</td>\n",
       "      <td>NaN</td>\n",
       "      <td>NaN</td>\n",
       "      <td>NaN</td>\n",
       "      <td>NaN</td>\n",
       "      <td>NaN</td>\n",
       "      <td>NaN</td>\n",
       "      <td>24000</td>\n",
       "      <td>NaN</td>\n",
       "      <td>NaN</td>\n",
       "      <td>NaN</td>\n",
       "    </tr>\n",
       "    <tr>\n",
       "      <th>119</th>\n",
       "      <td>37791882</td>\n",
       "      <td>40554915</td>\n",
       "      <td>35000</td>\n",
       "      <td>35000</td>\n",
       "      <td>60 months</td>\n",
       "      <td>15.99%</td>\n",
       "      <td>850.95</td>\n",
       "      <td>D</td>\n",
       "      <td>D2</td>\n",
       "      <td>Firefighter</td>\n",
       "      <td>...</td>\n",
       "      <td>NaN</td>\n",
       "      <td>NaN</td>\n",
       "      <td>NaN</td>\n",
       "      <td>NaN</td>\n",
       "      <td>NaN</td>\n",
       "      <td>NaN</td>\n",
       "      <td>29500</td>\n",
       "      <td>NaN</td>\n",
       "      <td>NaN</td>\n",
       "      <td>NaN</td>\n",
       "    </tr>\n",
       "    <tr>\n",
       "      <th>...</th>\n",
       "      <td>...</td>\n",
       "      <td>...</td>\n",
       "      <td>...</td>\n",
       "      <td>...</td>\n",
       "      <td>...</td>\n",
       "      <td>...</td>\n",
       "      <td>...</td>\n",
       "      <td>...</td>\n",
       "      <td>...</td>\n",
       "      <td>...</td>\n",
       "      <td>...</td>\n",
       "      <td>...</td>\n",
       "      <td>...</td>\n",
       "      <td>...</td>\n",
       "      <td>...</td>\n",
       "      <td>...</td>\n",
       "      <td>...</td>\n",
       "      <td>...</td>\n",
       "      <td>...</td>\n",
       "      <td>...</td>\n",
       "      <td>...</td>\n",
       "    </tr>\n",
       "    <tr>\n",
       "      <th>235558</th>\n",
       "      <td>9934676</td>\n",
       "      <td>11786815</td>\n",
       "      <td>35000</td>\n",
       "      <td>35000</td>\n",
       "      <td>36 months</td>\n",
       "      <td>16.99%</td>\n",
       "      <td>1247.68</td>\n",
       "      <td>D</td>\n",
       "      <td>D1</td>\n",
       "      <td>NaN</td>\n",
       "      <td>...</td>\n",
       "      <td>NaN</td>\n",
       "      <td>NaN</td>\n",
       "      <td>NaN</td>\n",
       "      <td>NaN</td>\n",
       "      <td>NaN</td>\n",
       "      <td>NaN</td>\n",
       "      <td>41300</td>\n",
       "      <td>NaN</td>\n",
       "      <td>NaN</td>\n",
       "      <td>NaN</td>\n",
       "    </tr>\n",
       "    <tr>\n",
       "      <th>235559</th>\n",
       "      <td>9001565</td>\n",
       "      <td>10792984</td>\n",
       "      <td>24000</td>\n",
       "      <td>24000</td>\n",
       "      <td>60 months</td>\n",
       "      <td>14.47%</td>\n",
       "      <td>564.31</td>\n",
       "      <td>C</td>\n",
       "      <td>C2</td>\n",
       "      <td>NaN</td>\n",
       "      <td>...</td>\n",
       "      <td>NaN</td>\n",
       "      <td>NaN</td>\n",
       "      <td>NaN</td>\n",
       "      <td>NaN</td>\n",
       "      <td>NaN</td>\n",
       "      <td>NaN</td>\n",
       "      <td>52300</td>\n",
       "      <td>NaN</td>\n",
       "      <td>NaN</td>\n",
       "      <td>NaN</td>\n",
       "    </tr>\n",
       "    <tr>\n",
       "      <th>235561</th>\n",
       "      <td>9934597</td>\n",
       "      <td>11786747</td>\n",
       "      <td>10700</td>\n",
       "      <td>10700</td>\n",
       "      <td>36 months</td>\n",
       "      <td>22.40%</td>\n",
       "      <td>410.86</td>\n",
       "      <td>E</td>\n",
       "      <td>E3</td>\n",
       "      <td>NaN</td>\n",
       "      <td>...</td>\n",
       "      <td>NaN</td>\n",
       "      <td>NaN</td>\n",
       "      <td>NaN</td>\n",
       "      <td>NaN</td>\n",
       "      <td>NaN</td>\n",
       "      <td>NaN</td>\n",
       "      <td>34000</td>\n",
       "      <td>NaN</td>\n",
       "      <td>NaN</td>\n",
       "      <td>NaN</td>\n",
       "    </tr>\n",
       "    <tr>\n",
       "      <th>235563</th>\n",
       "      <td>9808126</td>\n",
       "      <td>11659971</td>\n",
       "      <td>9600</td>\n",
       "      <td>9600</td>\n",
       "      <td>36 months</td>\n",
       "      <td>17.57%</td>\n",
       "      <td>345.00</td>\n",
       "      <td>D</td>\n",
       "      <td>D2</td>\n",
       "      <td>Bench Tech</td>\n",
       "      <td>...</td>\n",
       "      <td>NaN</td>\n",
       "      <td>NaN</td>\n",
       "      <td>NaN</td>\n",
       "      <td>NaN</td>\n",
       "      <td>NaN</td>\n",
       "      <td>NaN</td>\n",
       "      <td>21300</td>\n",
       "      <td>NaN</td>\n",
       "      <td>NaN</td>\n",
       "      <td>NaN</td>\n",
       "    </tr>\n",
       "    <tr>\n",
       "      <th>235564</th>\n",
       "      <td>9858164</td>\n",
       "      <td>11710004</td>\n",
       "      <td>5000</td>\n",
       "      <td>5000</td>\n",
       "      <td>36 months</td>\n",
       "      <td>8.90%</td>\n",
       "      <td>158.77</td>\n",
       "      <td>A</td>\n",
       "      <td>A5</td>\n",
       "      <td>Field Service Representative</td>\n",
       "      <td>...</td>\n",
       "      <td>NaN</td>\n",
       "      <td>NaN</td>\n",
       "      <td>NaN</td>\n",
       "      <td>NaN</td>\n",
       "      <td>NaN</td>\n",
       "      <td>NaN</td>\n",
       "      <td>29300</td>\n",
       "      <td>NaN</td>\n",
       "      <td>NaN</td>\n",
       "      <td>NaN</td>\n",
       "    </tr>\n",
       "    <tr>\n",
       "      <th>235565</th>\n",
       "      <td>9828271</td>\n",
       "      <td>11680132</td>\n",
       "      <td>35000</td>\n",
       "      <td>35000</td>\n",
       "      <td>60 months</td>\n",
       "      <td>23.40%</td>\n",
       "      <td>994.73</td>\n",
       "      <td>E</td>\n",
       "      <td>E5</td>\n",
       "      <td>Business Develpment Manager</td>\n",
       "      <td>...</td>\n",
       "      <td>NaN</td>\n",
       "      <td>NaN</td>\n",
       "      <td>NaN</td>\n",
       "      <td>NaN</td>\n",
       "      <td>NaN</td>\n",
       "      <td>NaN</td>\n",
       "      <td>59700</td>\n",
       "      <td>NaN</td>\n",
       "      <td>NaN</td>\n",
       "      <td>NaN</td>\n",
       "    </tr>\n",
       "    <tr>\n",
       "      <th>235567</th>\n",
       "      <td>9767996</td>\n",
       "      <td>11619870</td>\n",
       "      <td>24000</td>\n",
       "      <td>23925</td>\n",
       "      <td>60 months</td>\n",
       "      <td>25.83%</td>\n",
       "      <td>716.16</td>\n",
       "      <td>G</td>\n",
       "      <td>G2</td>\n",
       "      <td>teacher</td>\n",
       "      <td>...</td>\n",
       "      <td>NaN</td>\n",
       "      <td>NaN</td>\n",
       "      <td>NaN</td>\n",
       "      <td>NaN</td>\n",
       "      <td>NaN</td>\n",
       "      <td>NaN</td>\n",
       "      <td>34100</td>\n",
       "      <td>NaN</td>\n",
       "      <td>NaN</td>\n",
       "      <td>NaN</td>\n",
       "    </tr>\n",
       "    <tr>\n",
       "      <th>235570</th>\n",
       "      <td>9186018</td>\n",
       "      <td>11018069</td>\n",
       "      <td>35000</td>\n",
       "      <td>34975</td>\n",
       "      <td>36 months</td>\n",
       "      <td>11.99%</td>\n",
       "      <td>1162.34</td>\n",
       "      <td>B</td>\n",
       "      <td>B3</td>\n",
       "      <td>electrical supervisor</td>\n",
       "      <td>...</td>\n",
       "      <td>NaN</td>\n",
       "      <td>NaN</td>\n",
       "      <td>NaN</td>\n",
       "      <td>NaN</td>\n",
       "      <td>NaN</td>\n",
       "      <td>NaN</td>\n",
       "      <td>56500</td>\n",
       "      <td>NaN</td>\n",
       "      <td>NaN</td>\n",
       "      <td>NaN</td>\n",
       "    </tr>\n",
       "    <tr>\n",
       "      <th>235571</th>\n",
       "      <td>7450630</td>\n",
       "      <td>1552101</td>\n",
       "      <td>6000</td>\n",
       "      <td>6000</td>\n",
       "      <td>36 months</td>\n",
       "      <td>18.25%</td>\n",
       "      <td>217.67</td>\n",
       "      <td>D</td>\n",
       "      <td>D3</td>\n",
       "      <td>DIRECTOR OF SALES</td>\n",
       "      <td>...</td>\n",
       "      <td>NaN</td>\n",
       "      <td>NaN</td>\n",
       "      <td>NaN</td>\n",
       "      <td>NaN</td>\n",
       "      <td>NaN</td>\n",
       "      <td>NaN</td>\n",
       "      <td>22500</td>\n",
       "      <td>NaN</td>\n",
       "      <td>NaN</td>\n",
       "      <td>NaN</td>\n",
       "    </tr>\n",
       "    <tr>\n",
       "      <th>235581</th>\n",
       "      <td>9787297</td>\n",
       "      <td>11639199</td>\n",
       "      <td>7200</td>\n",
       "      <td>7200</td>\n",
       "      <td>36 months</td>\n",
       "      <td>16.24%</td>\n",
       "      <td>253.99</td>\n",
       "      <td>C</td>\n",
       "      <td>C5</td>\n",
       "      <td>Human Resources</td>\n",
       "      <td>...</td>\n",
       "      <td>NaN</td>\n",
       "      <td>NaN</td>\n",
       "      <td>NaN</td>\n",
       "      <td>NaN</td>\n",
       "      <td>NaN</td>\n",
       "      <td>NaN</td>\n",
       "      <td>38600</td>\n",
       "      <td>NaN</td>\n",
       "      <td>NaN</td>\n",
       "      <td>NaN</td>\n",
       "    </tr>\n",
       "    <tr>\n",
       "      <th>235584</th>\n",
       "      <td>9767190</td>\n",
       "      <td>11619120</td>\n",
       "      <td>32350</td>\n",
       "      <td>32350</td>\n",
       "      <td>36 months</td>\n",
       "      <td>16.99%</td>\n",
       "      <td>1153.21</td>\n",
       "      <td>D</td>\n",
       "      <td>D1</td>\n",
       "      <td>Director of Operation</td>\n",
       "      <td>...</td>\n",
       "      <td>NaN</td>\n",
       "      <td>NaN</td>\n",
       "      <td>NaN</td>\n",
       "      <td>NaN</td>\n",
       "      <td>NaN</td>\n",
       "      <td>NaN</td>\n",
       "      <td>27100</td>\n",
       "      <td>NaN</td>\n",
       "      <td>NaN</td>\n",
       "      <td>NaN</td>\n",
       "    </tr>\n",
       "    <tr>\n",
       "      <th>235585</th>\n",
       "      <td>7700050</td>\n",
       "      <td>9401574</td>\n",
       "      <td>7200</td>\n",
       "      <td>7200</td>\n",
       "      <td>36 months</td>\n",
       "      <td>14.98%</td>\n",
       "      <td>249.52</td>\n",
       "      <td>C</td>\n",
       "      <td>C3</td>\n",
       "      <td>MANAGER</td>\n",
       "      <td>...</td>\n",
       "      <td>NaN</td>\n",
       "      <td>NaN</td>\n",
       "      <td>NaN</td>\n",
       "      <td>NaN</td>\n",
       "      <td>NaN</td>\n",
       "      <td>NaN</td>\n",
       "      <td>5300</td>\n",
       "      <td>NaN</td>\n",
       "      <td>NaN</td>\n",
       "      <td>NaN</td>\n",
       "    </tr>\n",
       "    <tr>\n",
       "      <th>235595</th>\n",
       "      <td>9836077</td>\n",
       "      <td>11688097</td>\n",
       "      <td>9000</td>\n",
       "      <td>9000</td>\n",
       "      <td>36 months</td>\n",
       "      <td>16.99%</td>\n",
       "      <td>320.83</td>\n",
       "      <td>D</td>\n",
       "      <td>D1</td>\n",
       "      <td>NaN</td>\n",
       "      <td>...</td>\n",
       "      <td>NaN</td>\n",
       "      <td>NaN</td>\n",
       "      <td>NaN</td>\n",
       "      <td>NaN</td>\n",
       "      <td>NaN</td>\n",
       "      <td>NaN</td>\n",
       "      <td>32000</td>\n",
       "      <td>NaN</td>\n",
       "      <td>NaN</td>\n",
       "      <td>NaN</td>\n",
       "    </tr>\n",
       "    <tr>\n",
       "      <th>235596</th>\n",
       "      <td>9825536</td>\n",
       "      <td>11677574</td>\n",
       "      <td>6000</td>\n",
       "      <td>6000</td>\n",
       "      <td>36 months</td>\n",
       "      <td>13.53%</td>\n",
       "      <td>203.70</td>\n",
       "      <td>B</td>\n",
       "      <td>B5</td>\n",
       "      <td>registered nurse</td>\n",
       "      <td>...</td>\n",
       "      <td>NaN</td>\n",
       "      <td>NaN</td>\n",
       "      <td>NaN</td>\n",
       "      <td>NaN</td>\n",
       "      <td>NaN</td>\n",
       "      <td>NaN</td>\n",
       "      <td>20100</td>\n",
       "      <td>NaN</td>\n",
       "      <td>NaN</td>\n",
       "      <td>NaN</td>\n",
       "    </tr>\n",
       "    <tr>\n",
       "      <th>235598</th>\n",
       "      <td>9856168</td>\n",
       "      <td>11708132</td>\n",
       "      <td>6000</td>\n",
       "      <td>6000</td>\n",
       "      <td>60 months</td>\n",
       "      <td>23.40%</td>\n",
       "      <td>170.53</td>\n",
       "      <td>E</td>\n",
       "      <td>E5</td>\n",
       "      <td>NaN</td>\n",
       "      <td>...</td>\n",
       "      <td>NaN</td>\n",
       "      <td>NaN</td>\n",
       "      <td>NaN</td>\n",
       "      <td>NaN</td>\n",
       "      <td>NaN</td>\n",
       "      <td>NaN</td>\n",
       "      <td>8200</td>\n",
       "      <td>NaN</td>\n",
       "      <td>NaN</td>\n",
       "      <td>NaN</td>\n",
       "    </tr>\n",
       "    <tr>\n",
       "      <th>235599</th>\n",
       "      <td>9776036</td>\n",
       "      <td>11628030</td>\n",
       "      <td>35000</td>\n",
       "      <td>35000</td>\n",
       "      <td>36 months</td>\n",
       "      <td>18.25%</td>\n",
       "      <td>1269.73</td>\n",
       "      <td>D</td>\n",
       "      <td>D3</td>\n",
       "      <td>NaN</td>\n",
       "      <td>...</td>\n",
       "      <td>NaN</td>\n",
       "      <td>NaN</td>\n",
       "      <td>NaN</td>\n",
       "      <td>NaN</td>\n",
       "      <td>NaN</td>\n",
       "      <td>NaN</td>\n",
       "      <td>153800</td>\n",
       "      <td>NaN</td>\n",
       "      <td>NaN</td>\n",
       "      <td>NaN</td>\n",
       "    </tr>\n",
       "    <tr>\n",
       "      <th>235600</th>\n",
       "      <td>9835883</td>\n",
       "      <td>9309502</td>\n",
       "      <td>15000</td>\n",
       "      <td>15000</td>\n",
       "      <td>36 months</td>\n",
       "      <td>16.99%</td>\n",
       "      <td>534.72</td>\n",
       "      <td>D</td>\n",
       "      <td>D1</td>\n",
       "      <td>NaN</td>\n",
       "      <td>...</td>\n",
       "      <td>NaN</td>\n",
       "      <td>NaN</td>\n",
       "      <td>NaN</td>\n",
       "      <td>NaN</td>\n",
       "      <td>NaN</td>\n",
       "      <td>NaN</td>\n",
       "      <td>29300</td>\n",
       "      <td>NaN</td>\n",
       "      <td>NaN</td>\n",
       "      <td>NaN</td>\n",
       "    </tr>\n",
       "    <tr>\n",
       "      <th>235601</th>\n",
       "      <td>9845880</td>\n",
       "      <td>11697888</td>\n",
       "      <td>12800</td>\n",
       "      <td>12800</td>\n",
       "      <td>36 months</td>\n",
       "      <td>13.53%</td>\n",
       "      <td>434.56</td>\n",
       "      <td>B</td>\n",
       "      <td>B5</td>\n",
       "      <td>Chief Information Officer</td>\n",
       "      <td>...</td>\n",
       "      <td>NaN</td>\n",
       "      <td>NaN</td>\n",
       "      <td>NaN</td>\n",
       "      <td>NaN</td>\n",
       "      <td>NaN</td>\n",
       "      <td>NaN</td>\n",
       "      <td>40800</td>\n",
       "      <td>NaN</td>\n",
       "      <td>NaN</td>\n",
       "      <td>NaN</td>\n",
       "    </tr>\n",
       "    <tr>\n",
       "      <th>235603</th>\n",
       "      <td>8646060</td>\n",
       "      <td>10418080</td>\n",
       "      <td>18000</td>\n",
       "      <td>17975</td>\n",
       "      <td>36 months</td>\n",
       "      <td>15.61%</td>\n",
       "      <td>629.37</td>\n",
       "      <td>C</td>\n",
       "      <td>C4</td>\n",
       "      <td>security guard</td>\n",
       "      <td>...</td>\n",
       "      <td>NaN</td>\n",
       "      <td>NaN</td>\n",
       "      <td>NaN</td>\n",
       "      <td>NaN</td>\n",
       "      <td>NaN</td>\n",
       "      <td>NaN</td>\n",
       "      <td>9200</td>\n",
       "      <td>NaN</td>\n",
       "      <td>NaN</td>\n",
       "      <td>NaN</td>\n",
       "    </tr>\n",
       "    <tr>\n",
       "      <th>235605</th>\n",
       "      <td>9824767</td>\n",
       "      <td>11676888</td>\n",
       "      <td>14400</td>\n",
       "      <td>14375</td>\n",
       "      <td>36 months</td>\n",
       "      <td>13.53%</td>\n",
       "      <td>488.88</td>\n",
       "      <td>B</td>\n",
       "      <td>B5</td>\n",
       "      <td>President, CEO, CFO, VP, Director</td>\n",
       "      <td>...</td>\n",
       "      <td>NaN</td>\n",
       "      <td>NaN</td>\n",
       "      <td>NaN</td>\n",
       "      <td>NaN</td>\n",
       "      <td>NaN</td>\n",
       "      <td>NaN</td>\n",
       "      <td>38100</td>\n",
       "      <td>NaN</td>\n",
       "      <td>NaN</td>\n",
       "      <td>NaN</td>\n",
       "    </tr>\n",
       "    <tr>\n",
       "      <th>235606</th>\n",
       "      <td>9825193</td>\n",
       "      <td>11677266</td>\n",
       "      <td>14000</td>\n",
       "      <td>14000</td>\n",
       "      <td>36 months</td>\n",
       "      <td>16.24%</td>\n",
       "      <td>493.86</td>\n",
       "      <td>C</td>\n",
       "      <td>C5</td>\n",
       "      <td>NaN</td>\n",
       "      <td>...</td>\n",
       "      <td>NaN</td>\n",
       "      <td>NaN</td>\n",
       "      <td>NaN</td>\n",
       "      <td>NaN</td>\n",
       "      <td>NaN</td>\n",
       "      <td>NaN</td>\n",
       "      <td>24400</td>\n",
       "      <td>NaN</td>\n",
       "      <td>NaN</td>\n",
       "      <td>NaN</td>\n",
       "    </tr>\n",
       "    <tr>\n",
       "      <th>235608</th>\n",
       "      <td>9795013</td>\n",
       "      <td>11647121</td>\n",
       "      <td>15250</td>\n",
       "      <td>15250</td>\n",
       "      <td>36 months</td>\n",
       "      <td>17.57%</td>\n",
       "      <td>548.05</td>\n",
       "      <td>D</td>\n",
       "      <td>D2</td>\n",
       "      <td>Installer</td>\n",
       "      <td>...</td>\n",
       "      <td>NaN</td>\n",
       "      <td>NaN</td>\n",
       "      <td>NaN</td>\n",
       "      <td>NaN</td>\n",
       "      <td>NaN</td>\n",
       "      <td>NaN</td>\n",
       "      <td>40200</td>\n",
       "      <td>NaN</td>\n",
       "      <td>NaN</td>\n",
       "      <td>NaN</td>\n",
       "    </tr>\n",
       "    <tr>\n",
       "      <th>235609</th>\n",
       "      <td>9774870</td>\n",
       "      <td>11626983</td>\n",
       "      <td>32000</td>\n",
       "      <td>31975</td>\n",
       "      <td>36 months</td>\n",
       "      <td>7.90%</td>\n",
       "      <td>1001.29</td>\n",
       "      <td>A</td>\n",
       "      <td>A4</td>\n",
       "      <td>NaN</td>\n",
       "      <td>...</td>\n",
       "      <td>NaN</td>\n",
       "      <td>NaN</td>\n",
       "      <td>NaN</td>\n",
       "      <td>NaN</td>\n",
       "      <td>NaN</td>\n",
       "      <td>NaN</td>\n",
       "      <td>30800</td>\n",
       "      <td>NaN</td>\n",
       "      <td>NaN</td>\n",
       "      <td>NaN</td>\n",
       "    </tr>\n",
       "    <tr>\n",
       "      <th>235616</th>\n",
       "      <td>9199716</td>\n",
       "      <td>11061625</td>\n",
       "      <td>6000</td>\n",
       "      <td>6000</td>\n",
       "      <td>36 months</td>\n",
       "      <td>10.99%</td>\n",
       "      <td>196.41</td>\n",
       "      <td>B</td>\n",
       "      <td>B2</td>\n",
       "      <td>NaN</td>\n",
       "      <td>...</td>\n",
       "      <td>NaN</td>\n",
       "      <td>NaN</td>\n",
       "      <td>NaN</td>\n",
       "      <td>NaN</td>\n",
       "      <td>NaN</td>\n",
       "      <td>NaN</td>\n",
       "      <td>25400</td>\n",
       "      <td>NaN</td>\n",
       "      <td>NaN</td>\n",
       "      <td>NaN</td>\n",
       "    </tr>\n",
       "    <tr>\n",
       "      <th>235619</th>\n",
       "      <td>9715141</td>\n",
       "      <td>11567259</td>\n",
       "      <td>6000</td>\n",
       "      <td>6000</td>\n",
       "      <td>36 months</td>\n",
       "      <td>15.61%</td>\n",
       "      <td>209.79</td>\n",
       "      <td>C</td>\n",
       "      <td>C4</td>\n",
       "      <td>manager</td>\n",
       "      <td>...</td>\n",
       "      <td>NaN</td>\n",
       "      <td>NaN</td>\n",
       "      <td>NaN</td>\n",
       "      <td>NaN</td>\n",
       "      <td>NaN</td>\n",
       "      <td>NaN</td>\n",
       "      <td>10500</td>\n",
       "      <td>NaN</td>\n",
       "      <td>NaN</td>\n",
       "      <td>NaN</td>\n",
       "    </tr>\n",
       "    <tr>\n",
       "      <th>235620</th>\n",
       "      <td>9695736</td>\n",
       "      <td>11547808</td>\n",
       "      <td>8525</td>\n",
       "      <td>8525</td>\n",
       "      <td>60 months</td>\n",
       "      <td>18.25%</td>\n",
       "      <td>217.65</td>\n",
       "      <td>D</td>\n",
       "      <td>D3</td>\n",
       "      <td>MANAGER</td>\n",
       "      <td>...</td>\n",
       "      <td>NaN</td>\n",
       "      <td>NaN</td>\n",
       "      <td>NaN</td>\n",
       "      <td>NaN</td>\n",
       "      <td>NaN</td>\n",
       "      <td>NaN</td>\n",
       "      <td>49800</td>\n",
       "      <td>NaN</td>\n",
       "      <td>NaN</td>\n",
       "      <td>NaN</td>\n",
       "    </tr>\n",
       "    <tr>\n",
       "      <th>235621</th>\n",
       "      <td>9007579</td>\n",
       "      <td>10799568</td>\n",
       "      <td>18000</td>\n",
       "      <td>17975</td>\n",
       "      <td>36 months</td>\n",
       "      <td>7.90%</td>\n",
       "      <td>563.23</td>\n",
       "      <td>A</td>\n",
       "      <td>A4</td>\n",
       "      <td>sales rep</td>\n",
       "      <td>...</td>\n",
       "      <td>NaN</td>\n",
       "      <td>NaN</td>\n",
       "      <td>NaN</td>\n",
       "      <td>NaN</td>\n",
       "      <td>NaN</td>\n",
       "      <td>NaN</td>\n",
       "      <td>50300</td>\n",
       "      <td>NaN</td>\n",
       "      <td>NaN</td>\n",
       "      <td>NaN</td>\n",
       "    </tr>\n",
       "    <tr>\n",
       "      <th>235622</th>\n",
       "      <td>9745590</td>\n",
       "      <td>11597671</td>\n",
       "      <td>10000</td>\n",
       "      <td>10000</td>\n",
       "      <td>36 months</td>\n",
       "      <td>18.25%</td>\n",
       "      <td>362.78</td>\n",
       "      <td>D</td>\n",
       "      <td>D3</td>\n",
       "      <td>MecÃ¡nica</td>\n",
       "      <td>...</td>\n",
       "      <td>NaN</td>\n",
       "      <td>NaN</td>\n",
       "      <td>NaN</td>\n",
       "      <td>NaN</td>\n",
       "      <td>NaN</td>\n",
       "      <td>NaN</td>\n",
       "      <td>11100</td>\n",
       "      <td>NaN</td>\n",
       "      <td>NaN</td>\n",
       "      <td>NaN</td>\n",
       "    </tr>\n",
       "    <tr>\n",
       "      <th>235625</th>\n",
       "      <td>9684700</td>\n",
       "      <td>11536848</td>\n",
       "      <td>22000</td>\n",
       "      <td>22000</td>\n",
       "      <td>60 months</td>\n",
       "      <td>19.97%</td>\n",
       "      <td>582.50</td>\n",
       "      <td>D</td>\n",
       "      <td>D5</td>\n",
       "      <td>Chief of Interpretation (Park Ranger)</td>\n",
       "      <td>...</td>\n",
       "      <td>NaN</td>\n",
       "      <td>NaN</td>\n",
       "      <td>NaN</td>\n",
       "      <td>NaN</td>\n",
       "      <td>NaN</td>\n",
       "      <td>NaN</td>\n",
       "      <td>39400</td>\n",
       "      <td>NaN</td>\n",
       "      <td>NaN</td>\n",
       "      <td>NaN</td>\n",
       "    </tr>\n",
       "    <tr>\n",
       "      <th>235626</th>\n",
       "      <td>9604874</td>\n",
       "      <td>11457002</td>\n",
       "      <td>2000</td>\n",
       "      <td>2000</td>\n",
       "      <td>36 months</td>\n",
       "      <td>7.90%</td>\n",
       "      <td>62.59</td>\n",
       "      <td>A</td>\n",
       "      <td>A4</td>\n",
       "      <td>Server Engineer Lead</td>\n",
       "      <td>...</td>\n",
       "      <td>NaN</td>\n",
       "      <td>NaN</td>\n",
       "      <td>NaN</td>\n",
       "      <td>NaN</td>\n",
       "      <td>NaN</td>\n",
       "      <td>NaN</td>\n",
       "      <td>53100</td>\n",
       "      <td>NaN</td>\n",
       "      <td>NaN</td>\n",
       "      <td>NaN</td>\n",
       "    </tr>\n",
       "  </tbody>\n",
       "</table>\n",
       "<p>71364 rows × 73 columns</p>\n",
       "</div>"
      ],
      "text/plain": [
       "              id  member_id  loan_amnt  funded_amnt_inv        term int_rate  \\\n",
       "3       37822187   40585251       9600             9600   36 months   13.66%   \n",
       "5       37662224   40425321       7650             7650   36 months   13.66%   \n",
       "6       37800722   40563521      12975            12975   36 months   17.86%   \n",
       "11      37741884   40504905       2500             2500   36 months   11.99%   \n",
       "12      37642222   40405288       5250             5250   36 months   11.44%   \n",
       "17      37742142   40505198       2000             2000   36 months   14.99%   \n",
       "24      36109709   38821388       2000             2000   36 months   12.99%   \n",
       "28      37822030   40585070      18450            18450   36 months   14.31%   \n",
       "29      37692106   40465191      28000            28000   60 months   10.49%   \n",
       "32      10089665   11941194       8000             8000   36 months   10.49%   \n",
       "35      37742008   40505046       3000             3000   36 months    8.19%   \n",
       "37      37802030   40565128      27525            27525   60 months   22.99%   \n",
       "40      37612144   40375239       5000             5000   36 months   14.99%   \n",
       "50      37791945   40554984      12000            12000   60 months   17.86%   \n",
       "55      37651933   40414965       6825             6825   36 months   15.99%   \n",
       "56      37641966   40405009      18000            18000   36 months   11.44%   \n",
       "61      37791995   40555038       4500             4500   36 months   14.99%   \n",
       "68      37711991   40485052      14000            14000   36 months   16.49%   \n",
       "69      37761127   40524066       2400             2400   36 months    8.19%   \n",
       "70      37702003   40475030       2400             2400   36 months   14.31%   \n",
       "75      37742002   40505040       3625             3625   36 months   16.49%   \n",
       "78      37691930   40464996       2800             2800   36 months    9.49%   \n",
       "84      37711908   40484957      12000            12000   60 months   17.14%   \n",
       "85      37681953   40455001       8000             8000   36 months   16.49%   \n",
       "87      37661861   40424918       4800             4800   36 months   13.66%   \n",
       "90      37761908   40524995       3000             3000   36 months   15.99%   \n",
       "97      37671924   40434950      16000            16000   36 months   12.99%   \n",
       "103     37831974   40595038       6400             6400   36 months   10.49%   \n",
       "112     37761915   40525003      10375            10375   36 months   13.66%   \n",
       "119     37791882   40554915      35000            35000   60 months   15.99%   \n",
       "...          ...        ...        ...              ...         ...      ...   \n",
       "235558   9934676   11786815      35000            35000   36 months   16.99%   \n",
       "235559   9001565   10792984      24000            24000   60 months   14.47%   \n",
       "235561   9934597   11786747      10700            10700   36 months   22.40%   \n",
       "235563   9808126   11659971       9600             9600   36 months   17.57%   \n",
       "235564   9858164   11710004       5000             5000   36 months    8.90%   \n",
       "235565   9828271   11680132      35000            35000   60 months   23.40%   \n",
       "235567   9767996   11619870      24000            23925   60 months   25.83%   \n",
       "235570   9186018   11018069      35000            34975   36 months   11.99%   \n",
       "235571   7450630    1552101       6000             6000   36 months   18.25%   \n",
       "235581   9787297   11639199       7200             7200   36 months   16.24%   \n",
       "235584   9767190   11619120      32350            32350   36 months   16.99%   \n",
       "235585   7700050    9401574       7200             7200   36 months   14.98%   \n",
       "235595   9836077   11688097       9000             9000   36 months   16.99%   \n",
       "235596   9825536   11677574       6000             6000   36 months   13.53%   \n",
       "235598   9856168   11708132       6000             6000   60 months   23.40%   \n",
       "235599   9776036   11628030      35000            35000   36 months   18.25%   \n",
       "235600   9835883    9309502      15000            15000   36 months   16.99%   \n",
       "235601   9845880   11697888      12800            12800   36 months   13.53%   \n",
       "235603   8646060   10418080      18000            17975   36 months   15.61%   \n",
       "235605   9824767   11676888      14400            14375   36 months   13.53%   \n",
       "235606   9825193   11677266      14000            14000   36 months   16.24%   \n",
       "235608   9795013   11647121      15250            15250   36 months   17.57%   \n",
       "235609   9774870   11626983      32000            31975   36 months    7.90%   \n",
       "235616   9199716   11061625       6000             6000   36 months   10.99%   \n",
       "235619   9715141   11567259       6000             6000   36 months   15.61%   \n",
       "235620   9695736   11547808       8525             8525   60 months   18.25%   \n",
       "235621   9007579   10799568      18000            17975   36 months    7.90%   \n",
       "235622   9745590   11597671      10000            10000   36 months   18.25%   \n",
       "235625   9684700   11536848      22000            22000   60 months   19.97%   \n",
       "235626   9604874   11457002       2000             2000   36 months    7.90%   \n",
       "\n",
       "        installment grade sub_grade                              emp_title  \\\n",
       "3            326.53     C        C3                       Admin Specialist   \n",
       "5            260.20     C        C3                   Technical Specialist   \n",
       "6            468.17     D        D5                                  Sales   \n",
       "11            83.03     B        B5                 Manufacturing Engineer   \n",
       "12           172.98     B        B4                          Store Manager   \n",
       "17            69.33     C        C5                practice plan associate   \n",
       "24            67.38     C        C2                                    NaN   \n",
       "28           633.36     C        C4                   construction foreman   \n",
       "29           601.70     B        B3                   Humana Cares Manager   \n",
       "32           259.99     B        B3               Senior Logistics Analyst   \n",
       "35            94.28     A        A5                               operator   \n",
       "37           775.79     F        F1                   relationship manager   \n",
       "40           173.31     C        C5                            HEAD TELLER   \n",
       "50           303.81     D        D5                                  Nurse   \n",
       "55           239.92     D        D2            Graduate Teaching Assistant   \n",
       "56           593.06     B        B4                      Industrial Worker   \n",
       "61           155.98     C        C5                                  Nanny   \n",
       "68           495.60     D        D3                        Customerservice   \n",
       "69            75.42     A        A5                           Technologist   \n",
       "70            82.39     C        C4                                    Sgt   \n",
       "75           128.33     D        D3                      Financial Advisor   \n",
       "78            89.68     B        B2               Cybersecuriity specialst   \n",
       "84           299.14     D        D4                          IT specialist   \n",
       "85           283.20     D        D3                            DRP Planner   \n",
       "87           163.27     C        C3                          Shop Manager    \n",
       "90           105.46     D        D2                 Monitor tech/secretary   \n",
       "97           539.03     C        C2                             Sr manager   \n",
       "103          207.99     B        B3                           loan officer   \n",
       "112          352.89     C        C3                          Dept. Manager   \n",
       "119          850.95     D        D2                            Firefighter   \n",
       "...             ...   ...       ...                                    ...   \n",
       "235558      1247.68     D        D1                                    NaN   \n",
       "235559       564.31     C        C2                                    NaN   \n",
       "235561       410.86     E        E3                                    NaN   \n",
       "235563       345.00     D        D2                             Bench Tech   \n",
       "235564       158.77     A        A5           Field Service Representative   \n",
       "235565       994.73     E        E5            Business Develpment Manager   \n",
       "235567       716.16     G        G2                                teacher   \n",
       "235570      1162.34     B        B3                  electrical supervisor   \n",
       "235571       217.67     D        D3                      DIRECTOR OF SALES   \n",
       "235581       253.99     C        C5                        Human Resources   \n",
       "235584      1153.21     D        D1                  Director of Operation   \n",
       "235585       249.52     C        C3                                MANAGER   \n",
       "235595       320.83     D        D1                                    NaN   \n",
       "235596       203.70     B        B5                       registered nurse   \n",
       "235598       170.53     E        E5                                    NaN   \n",
       "235599      1269.73     D        D3                                    NaN   \n",
       "235600       534.72     D        D1                                    NaN   \n",
       "235601       434.56     B        B5              Chief Information Officer   \n",
       "235603       629.37     C        C4                         security guard   \n",
       "235605       488.88     B        B5      President, CEO, CFO, VP, Director   \n",
       "235606       493.86     C        C5                                    NaN   \n",
       "235608       548.05     D        D2                              Installer   \n",
       "235609      1001.29     A        A4                                    NaN   \n",
       "235616       196.41     B        B2                                    NaN   \n",
       "235619       209.79     C        C4                                manager   \n",
       "235620       217.65     D        D3                                MANAGER   \n",
       "235621       563.23     A        A4                              sales rep   \n",
       "235622       362.78     D        D3                              MecÃ¡nica   \n",
       "235625       582.50     D        D5  Chief of Interpretation (Park Ranger)   \n",
       "235626        62.59     A        A4                   Server Engineer Lead   \n",
       "\n",
       "           ...      total_bal_il il_util  open_rv_12m open_rv_24m max_bal_bc  \\\n",
       "3          ...               NaN     NaN          NaN         NaN        NaN   \n",
       "5          ...               NaN     NaN          NaN         NaN        NaN   \n",
       "6          ...               NaN     NaN          NaN         NaN        NaN   \n",
       "11         ...               NaN     NaN          NaN         NaN        NaN   \n",
       "12         ...               NaN     NaN          NaN         NaN        NaN   \n",
       "17         ...               NaN     NaN          NaN         NaN        NaN   \n",
       "24         ...               NaN     NaN          NaN         NaN        NaN   \n",
       "28         ...               NaN     NaN          NaN         NaN        NaN   \n",
       "29         ...               NaN     NaN          NaN         NaN        NaN   \n",
       "32         ...               NaN     NaN          NaN         NaN        NaN   \n",
       "35         ...               NaN     NaN          NaN         NaN        NaN   \n",
       "37         ...               NaN     NaN          NaN         NaN        NaN   \n",
       "40         ...               NaN     NaN          NaN         NaN        NaN   \n",
       "50         ...               NaN     NaN          NaN         NaN        NaN   \n",
       "55         ...               NaN     NaN          NaN         NaN        NaN   \n",
       "56         ...               NaN     NaN          NaN         NaN        NaN   \n",
       "61         ...               NaN     NaN          NaN         NaN        NaN   \n",
       "68         ...               NaN     NaN          NaN         NaN        NaN   \n",
       "69         ...               NaN     NaN          NaN         NaN        NaN   \n",
       "70         ...               NaN     NaN          NaN         NaN        NaN   \n",
       "75         ...               NaN     NaN          NaN         NaN        NaN   \n",
       "78         ...               NaN     NaN          NaN         NaN        NaN   \n",
       "84         ...               NaN     NaN          NaN         NaN        NaN   \n",
       "85         ...               NaN     NaN          NaN         NaN        NaN   \n",
       "87         ...               NaN     NaN          NaN         NaN        NaN   \n",
       "90         ...               NaN     NaN          NaN         NaN        NaN   \n",
       "97         ...               NaN     NaN          NaN         NaN        NaN   \n",
       "103        ...               NaN     NaN          NaN         NaN        NaN   \n",
       "112        ...               NaN     NaN          NaN         NaN        NaN   \n",
       "119        ...               NaN     NaN          NaN         NaN        NaN   \n",
       "...        ...               ...     ...          ...         ...        ...   \n",
       "235558     ...               NaN     NaN          NaN         NaN        NaN   \n",
       "235559     ...               NaN     NaN          NaN         NaN        NaN   \n",
       "235561     ...               NaN     NaN          NaN         NaN        NaN   \n",
       "235563     ...               NaN     NaN          NaN         NaN        NaN   \n",
       "235564     ...               NaN     NaN          NaN         NaN        NaN   \n",
       "235565     ...               NaN     NaN          NaN         NaN        NaN   \n",
       "235567     ...               NaN     NaN          NaN         NaN        NaN   \n",
       "235570     ...               NaN     NaN          NaN         NaN        NaN   \n",
       "235571     ...               NaN     NaN          NaN         NaN        NaN   \n",
       "235581     ...               NaN     NaN          NaN         NaN        NaN   \n",
       "235584     ...               NaN     NaN          NaN         NaN        NaN   \n",
       "235585     ...               NaN     NaN          NaN         NaN        NaN   \n",
       "235595     ...               NaN     NaN          NaN         NaN        NaN   \n",
       "235596     ...               NaN     NaN          NaN         NaN        NaN   \n",
       "235598     ...               NaN     NaN          NaN         NaN        NaN   \n",
       "235599     ...               NaN     NaN          NaN         NaN        NaN   \n",
       "235600     ...               NaN     NaN          NaN         NaN        NaN   \n",
       "235601     ...               NaN     NaN          NaN         NaN        NaN   \n",
       "235603     ...               NaN     NaN          NaN         NaN        NaN   \n",
       "235605     ...               NaN     NaN          NaN         NaN        NaN   \n",
       "235606     ...               NaN     NaN          NaN         NaN        NaN   \n",
       "235608     ...               NaN     NaN          NaN         NaN        NaN   \n",
       "235609     ...               NaN     NaN          NaN         NaN        NaN   \n",
       "235616     ...               NaN     NaN          NaN         NaN        NaN   \n",
       "235619     ...               NaN     NaN          NaN         NaN        NaN   \n",
       "235620     ...               NaN     NaN          NaN         NaN        NaN   \n",
       "235621     ...               NaN     NaN          NaN         NaN        NaN   \n",
       "235622     ...               NaN     NaN          NaN         NaN        NaN   \n",
       "235625     ...               NaN     NaN          NaN         NaN        NaN   \n",
       "235626     ...               NaN     NaN          NaN         NaN        NaN   \n",
       "\n",
       "        all_util total_credit_rv inq_fi total_fi_tl inq_last_12m  \n",
       "3            NaN           27600    NaN         NaN          NaN  \n",
       "5            NaN           18300    NaN         NaN          NaN  \n",
       "6            NaN           15700    NaN         NaN          NaN  \n",
       "11           NaN           24300    NaN         NaN          NaN  \n",
       "12           NaN           22000    NaN         NaN          NaN  \n",
       "17           NaN           15300    NaN         NaN          NaN  \n",
       "24           NaN           39600    NaN         NaN          NaN  \n",
       "28           NaN            6800    NaN         NaN          NaN  \n",
       "29           NaN           41700    NaN         NaN          NaN  \n",
       "32           NaN           74700    NaN         NaN          NaN  \n",
       "35           NaN           15000    NaN         NaN          NaN  \n",
       "37           NaN           66500    NaN         NaN          NaN  \n",
       "40           NaN           10400    NaN         NaN          NaN  \n",
       "50           NaN           33700    NaN         NaN          NaN  \n",
       "55           NaN           21000    NaN         NaN          NaN  \n",
       "56           NaN           12600    NaN         NaN          NaN  \n",
       "61           NaN           27800    NaN         NaN          NaN  \n",
       "68           NaN           26500    NaN         NaN          NaN  \n",
       "69           NaN           41400    NaN         NaN          NaN  \n",
       "70           NaN           16200    NaN         NaN          NaN  \n",
       "75           NaN            1300    NaN         NaN          NaN  \n",
       "78           NaN          112400    NaN         NaN          NaN  \n",
       "84           NaN           28100    NaN         NaN          NaN  \n",
       "85           NaN           23000    NaN         NaN          NaN  \n",
       "87           NaN            5000    NaN         NaN          NaN  \n",
       "90           NaN           10100    NaN         NaN          NaN  \n",
       "97           NaN           20000    NaN         NaN          NaN  \n",
       "103          NaN           20300    NaN         NaN          NaN  \n",
       "112          NaN           24000    NaN         NaN          NaN  \n",
       "119          NaN           29500    NaN         NaN          NaN  \n",
       "...          ...             ...    ...         ...          ...  \n",
       "235558       NaN           41300    NaN         NaN          NaN  \n",
       "235559       NaN           52300    NaN         NaN          NaN  \n",
       "235561       NaN           34000    NaN         NaN          NaN  \n",
       "235563       NaN           21300    NaN         NaN          NaN  \n",
       "235564       NaN           29300    NaN         NaN          NaN  \n",
       "235565       NaN           59700    NaN         NaN          NaN  \n",
       "235567       NaN           34100    NaN         NaN          NaN  \n",
       "235570       NaN           56500    NaN         NaN          NaN  \n",
       "235571       NaN           22500    NaN         NaN          NaN  \n",
       "235581       NaN           38600    NaN         NaN          NaN  \n",
       "235584       NaN           27100    NaN         NaN          NaN  \n",
       "235585       NaN            5300    NaN         NaN          NaN  \n",
       "235595       NaN           32000    NaN         NaN          NaN  \n",
       "235596       NaN           20100    NaN         NaN          NaN  \n",
       "235598       NaN            8200    NaN         NaN          NaN  \n",
       "235599       NaN          153800    NaN         NaN          NaN  \n",
       "235600       NaN           29300    NaN         NaN          NaN  \n",
       "235601       NaN           40800    NaN         NaN          NaN  \n",
       "235603       NaN            9200    NaN         NaN          NaN  \n",
       "235605       NaN           38100    NaN         NaN          NaN  \n",
       "235606       NaN           24400    NaN         NaN          NaN  \n",
       "235608       NaN           40200    NaN         NaN          NaN  \n",
       "235609       NaN           30800    NaN         NaN          NaN  \n",
       "235616       NaN           25400    NaN         NaN          NaN  \n",
       "235619       NaN           10500    NaN         NaN          NaN  \n",
       "235620       NaN           49800    NaN         NaN          NaN  \n",
       "235621       NaN           50300    NaN         NaN          NaN  \n",
       "235622       NaN           11100    NaN         NaN          NaN  \n",
       "235625       NaN           39400    NaN         NaN          NaN  \n",
       "235626       NaN           53100    NaN         NaN          NaN  \n",
       "\n",
       "[71364 rows x 73 columns]"
      ]
     },
     "execution_count": 157,
     "metadata": {},
     "output_type": "execute_result"
    }
   ],
   "source": [
    "df.drop(\"funded_amnt\",1,)"
   ]
  },
  {
   "cell_type": "markdown",
   "metadata": {
    "collapsed": true
   },
   "source": [
    "### Trying to clean emp_length"
   ]
  },
  {
   "cell_type": "code",
   "execution_count": 158,
   "metadata": {
    "collapsed": false
   },
   "outputs": [],
   "source": [
    "df.emp_length = df.emp_length.apply(lambda x : x[:-6] if 'years' in x else '<1')"
   ]
  },
  {
   "cell_type": "code",
   "execution_count": 159,
   "metadata": {
    "collapsed": false
   },
   "outputs": [],
   "source": [
    "df.emp_length = df.emp_length.astype(object)"
   ]
  },
  {
   "cell_type": "code",
   "execution_count": 160,
   "metadata": {
    "collapsed": false,
    "scrolled": true
   },
   "outputs": [
    {
     "data": {
      "text/plain": [
       "3         10+\n",
       "5          <1\n",
       "6         10+\n",
       "11         <1\n",
       "12          2\n",
       "17          8\n",
       "24         <1\n",
       "28        10+\n",
       "29          2\n",
       "32          3\n",
       "35        10+\n",
       "37          5\n",
       "40          4\n",
       "50          4\n",
       "55         <1\n",
       "56          2\n",
       "61          4\n",
       "68          9\n",
       "69          5\n",
       "70          7\n",
       "75         <1\n",
       "78          2\n",
       "84          7\n",
       "85          2\n",
       "87          2\n",
       "90        10+\n",
       "97         <1\n",
       "103        <1\n",
       "112       10+\n",
       "119       10+\n",
       "         ... \n",
       "235558    10+\n",
       "235559    10+\n",
       "235561     <1\n",
       "235563     <1\n",
       "235564      2\n",
       "235565    10+\n",
       "235567    10+\n",
       "235570    10+\n",
       "235571     <1\n",
       "235581    10+\n",
       "235584      2\n",
       "235585     <1\n",
       "235595    10+\n",
       "235596      4\n",
       "235598     <1\n",
       "235599      9\n",
       "235600     <1\n",
       "235601    10+\n",
       "235603      4\n",
       "235605     <1\n",
       "235606     <1\n",
       "235608    10+\n",
       "235609     <1\n",
       "235616     <1\n",
       "235619      7\n",
       "235620      5\n",
       "235621      3\n",
       "235622    10+\n",
       "235625    10+\n",
       "235626      3\n",
       "Name: emp_length, dtype: object"
      ]
     },
     "execution_count": 160,
     "metadata": {},
     "output_type": "execute_result"
    }
   ],
   "source": [
    "df.emp_length"
   ]
  },
  {
   "cell_type": "markdown",
   "metadata": {},
   "source": [
    "### Removing emp_title, issue_d"
   ]
  },
  {
   "cell_type": "code",
   "execution_count": 161,
   "metadata": {
    "collapsed": false
   },
   "outputs": [],
   "source": [
    "columns_to_remove = ['emp_title', 'issue_d', 'url', 'zip_code']"
   ]
  },
  {
   "cell_type": "code",
   "execution_count": 162,
   "metadata": {
    "collapsed": false,
    "scrolled": true
   },
   "outputs": [],
   "source": [
    "for column in columns_to_remove:\n",
    "    df = df.drop(column, axis=1)"
   ]
  },
  {
   "cell_type": "code",
   "execution_count": 163,
   "metadata": {
    "collapsed": false,
    "scrolled": false
   },
   "outputs": [
    {
     "data": {
      "text/html": [
       "<div>\n",
       "<table border=\"1\" class=\"dataframe\">\n",
       "  <thead>\n",
       "    <tr style=\"text-align: right;\">\n",
       "      <th></th>\n",
       "      <th>id</th>\n",
       "      <th>member_id</th>\n",
       "      <th>loan_amnt</th>\n",
       "      <th>funded_amnt</th>\n",
       "      <th>funded_amnt_inv</th>\n",
       "      <th>term</th>\n",
       "      <th>int_rate</th>\n",
       "      <th>installment</th>\n",
       "      <th>grade</th>\n",
       "      <th>sub_grade</th>\n",
       "      <th>...</th>\n",
       "      <th>total_bal_il</th>\n",
       "      <th>il_util</th>\n",
       "      <th>open_rv_12m</th>\n",
       "      <th>open_rv_24m</th>\n",
       "      <th>max_bal_bc</th>\n",
       "      <th>all_util</th>\n",
       "      <th>total_credit_rv</th>\n",
       "      <th>inq_fi</th>\n",
       "      <th>total_fi_tl</th>\n",
       "      <th>inq_last_12m</th>\n",
       "    </tr>\n",
       "  </thead>\n",
       "  <tbody>\n",
       "    <tr>\n",
       "      <th>3</th>\n",
       "      <td>37822187</td>\n",
       "      <td>40585251</td>\n",
       "      <td>9600</td>\n",
       "      <td>9600</td>\n",
       "      <td>9600</td>\n",
       "      <td>36 months</td>\n",
       "      <td>13.66%</td>\n",
       "      <td>326.53</td>\n",
       "      <td>C</td>\n",
       "      <td>C3</td>\n",
       "      <td>...</td>\n",
       "      <td>NaN</td>\n",
       "      <td>NaN</td>\n",
       "      <td>NaN</td>\n",
       "      <td>NaN</td>\n",
       "      <td>NaN</td>\n",
       "      <td>NaN</td>\n",
       "      <td>27600</td>\n",
       "      <td>NaN</td>\n",
       "      <td>NaN</td>\n",
       "      <td>NaN</td>\n",
       "    </tr>\n",
       "    <tr>\n",
       "      <th>5</th>\n",
       "      <td>37662224</td>\n",
       "      <td>40425321</td>\n",
       "      <td>7650</td>\n",
       "      <td>7650</td>\n",
       "      <td>7650</td>\n",
       "      <td>36 months</td>\n",
       "      <td>13.66%</td>\n",
       "      <td>260.20</td>\n",
       "      <td>C</td>\n",
       "      <td>C3</td>\n",
       "      <td>...</td>\n",
       "      <td>NaN</td>\n",
       "      <td>NaN</td>\n",
       "      <td>NaN</td>\n",
       "      <td>NaN</td>\n",
       "      <td>NaN</td>\n",
       "      <td>NaN</td>\n",
       "      <td>18300</td>\n",
       "      <td>NaN</td>\n",
       "      <td>NaN</td>\n",
       "      <td>NaN</td>\n",
       "    </tr>\n",
       "    <tr>\n",
       "      <th>6</th>\n",
       "      <td>37800722</td>\n",
       "      <td>40563521</td>\n",
       "      <td>12975</td>\n",
       "      <td>12975</td>\n",
       "      <td>12975</td>\n",
       "      <td>36 months</td>\n",
       "      <td>17.86%</td>\n",
       "      <td>468.17</td>\n",
       "      <td>D</td>\n",
       "      <td>D5</td>\n",
       "      <td>...</td>\n",
       "      <td>NaN</td>\n",
       "      <td>NaN</td>\n",
       "      <td>NaN</td>\n",
       "      <td>NaN</td>\n",
       "      <td>NaN</td>\n",
       "      <td>NaN</td>\n",
       "      <td>15700</td>\n",
       "      <td>NaN</td>\n",
       "      <td>NaN</td>\n",
       "      <td>NaN</td>\n",
       "    </tr>\n",
       "    <tr>\n",
       "      <th>11</th>\n",
       "      <td>37741884</td>\n",
       "      <td>40504905</td>\n",
       "      <td>2500</td>\n",
       "      <td>2500</td>\n",
       "      <td>2500</td>\n",
       "      <td>36 months</td>\n",
       "      <td>11.99%</td>\n",
       "      <td>83.03</td>\n",
       "      <td>B</td>\n",
       "      <td>B5</td>\n",
       "      <td>...</td>\n",
       "      <td>NaN</td>\n",
       "      <td>NaN</td>\n",
       "      <td>NaN</td>\n",
       "      <td>NaN</td>\n",
       "      <td>NaN</td>\n",
       "      <td>NaN</td>\n",
       "      <td>24300</td>\n",
       "      <td>NaN</td>\n",
       "      <td>NaN</td>\n",
       "      <td>NaN</td>\n",
       "    </tr>\n",
       "    <tr>\n",
       "      <th>12</th>\n",
       "      <td>37642222</td>\n",
       "      <td>40405288</td>\n",
       "      <td>5250</td>\n",
       "      <td>5250</td>\n",
       "      <td>5250</td>\n",
       "      <td>36 months</td>\n",
       "      <td>11.44%</td>\n",
       "      <td>172.98</td>\n",
       "      <td>B</td>\n",
       "      <td>B4</td>\n",
       "      <td>...</td>\n",
       "      <td>NaN</td>\n",
       "      <td>NaN</td>\n",
       "      <td>NaN</td>\n",
       "      <td>NaN</td>\n",
       "      <td>NaN</td>\n",
       "      <td>NaN</td>\n",
       "      <td>22000</td>\n",
       "      <td>NaN</td>\n",
       "      <td>NaN</td>\n",
       "      <td>NaN</td>\n",
       "    </tr>\n",
       "  </tbody>\n",
       "</table>\n",
       "<p>5 rows × 70 columns</p>\n",
       "</div>"
      ],
      "text/plain": [
       "          id  member_id  loan_amnt  funded_amnt  funded_amnt_inv        term  \\\n",
       "3   37822187   40585251       9600         9600             9600   36 months   \n",
       "5   37662224   40425321       7650         7650             7650   36 months   \n",
       "6   37800722   40563521      12975        12975            12975   36 months   \n",
       "11  37741884   40504905       2500         2500             2500   36 months   \n",
       "12  37642222   40405288       5250         5250             5250   36 months   \n",
       "\n",
       "   int_rate  installment grade sub_grade     ...      total_bal_il il_util  \\\n",
       "3    13.66%       326.53     C        C3     ...               NaN     NaN   \n",
       "5    13.66%       260.20     C        C3     ...               NaN     NaN   \n",
       "6    17.86%       468.17     D        D5     ...               NaN     NaN   \n",
       "11   11.99%        83.03     B        B5     ...               NaN     NaN   \n",
       "12   11.44%       172.98     B        B4     ...               NaN     NaN   \n",
       "\n",
       "    open_rv_12m open_rv_24m  max_bal_bc all_util total_credit_rv inq_fi  \\\n",
       "3           NaN         NaN         NaN      NaN           27600    NaN   \n",
       "5           NaN         NaN         NaN      NaN           18300    NaN   \n",
       "6           NaN         NaN         NaN      NaN           15700    NaN   \n",
       "11          NaN         NaN         NaN      NaN           24300    NaN   \n",
       "12          NaN         NaN         NaN      NaN           22000    NaN   \n",
       "\n",
       "   total_fi_tl inq_last_12m  \n",
       "3          NaN          NaN  \n",
       "5          NaN          NaN  \n",
       "6          NaN          NaN  \n",
       "11         NaN          NaN  \n",
       "12         NaN          NaN  \n",
       "\n",
       "[5 rows x 70 columns]"
      ]
     },
     "execution_count": 163,
     "metadata": {},
     "output_type": "execute_result"
    }
   ],
   "source": [
    "df.head()"
   ]
  },
  {
   "cell_type": "code",
   "execution_count": 164,
   "metadata": {
    "collapsed": false
   },
   "outputs": [
    {
     "data": {
      "text/plain": [
       "count                  71364\n",
       "unique                    13\n",
       "top       debt_consolidation\n",
       "freq                   44681\n",
       "Name: purpose, dtype: object"
      ]
     },
     "execution_count": 164,
     "metadata": {},
     "output_type": "execute_result"
    }
   ],
   "source": [
    "df.purpose.describe()"
   ]
  },
  {
   "cell_type": "code",
   "execution_count": 165,
   "metadata": {
    "collapsed": false
   },
   "outputs": [
    {
     "data": {
      "text/plain": [
       "count                  71364\n",
       "unique                  1010\n",
       "top       Debt consolidation\n",
       "freq                   43623\n",
       "Name: title, dtype: object"
      ]
     },
     "execution_count": 165,
     "metadata": {},
     "output_type": "execute_result"
    }
   ],
   "source": [
    "df.title.describe()"
   ]
  },
  {
   "cell_type": "code",
   "execution_count": 166,
   "metadata": {
    "collapsed": false
   },
   "outputs": [
    {
     "data": {
      "text/plain": [
       "0"
      ]
     },
     "execution_count": 166,
     "metadata": {},
     "output_type": "execute_result"
    }
   ],
   "source": [
    "sum(df.emp_length == 10)"
   ]
  },
  {
   "cell_type": "code",
   "execution_count": 167,
   "metadata": {
    "collapsed": false
   },
   "outputs": [
    {
     "data": {
      "text/plain": [
       "dtype('O')"
      ]
     },
     "execution_count": 167,
     "metadata": {},
     "output_type": "execute_result"
    }
   ],
   "source": [
    "df.emp_length.dtype"
   ]
  },
  {
   "cell_type": "code",
   "execution_count": 168,
   "metadata": {
    "collapsed": false
   },
   "outputs": [
    {
     "data": {
      "text/plain": [
       "0"
      ]
     },
     "execution_count": 168,
     "metadata": {},
     "output_type": "execute_result"
    }
   ],
   "source": [
    "sum(df.emp_length.isnull()) # no null values"
   ]
  },
  {
   "cell_type": "code",
   "execution_count": 169,
   "metadata": {
    "collapsed": true
   },
   "outputs": [],
   "source": [
    "import re #regular expressions (ABhinav dekh le)"
   ]
  },
  {
   "cell_type": "code",
   "execution_count": 170,
   "metadata": {
    "collapsed": false
   },
   "outputs": [],
   "source": [
    "emp = []\n",
    "for i in df.emp_length:\n",
    "    emp.append(re.sub('[^0-9]', '', i))\n"
   ]
  },
  {
   "cell_type": "code",
   "execution_count": 171,
   "metadata": {
    "collapsed": false
   },
   "outputs": [],
   "source": [
    "df.emp_length = emp"
   ]
  },
  {
   "cell_type": "code",
   "execution_count": 172,
   "metadata": {
    "collapsed": false
   },
   "outputs": [
    {
     "data": {
      "text/plain": [
       "dtype('O')"
      ]
     },
     "execution_count": 172,
     "metadata": {},
     "output_type": "execute_result"
    }
   ],
   "source": [
    "df.emp_length.dtype"
   ]
  },
  {
   "cell_type": "markdown",
   "metadata": {},
   "source": [
    "#We need to change the data type to int64"
   ]
  },
  {
   "cell_type": "code",
   "execution_count": 173,
   "metadata": {
    "collapsed": false,
    "scrolled": true
   },
   "outputs": [],
   "source": [
    "df.emp_length = df.emp_length.astype(int)"
   ]
  },
  {
   "cell_type": "code",
   "execution_count": 174,
   "metadata": {
    "collapsed": false
   },
   "outputs": [
    {
     "data": {
      "text/plain": [
       "dtype('int64')"
      ]
     },
     "execution_count": 174,
     "metadata": {},
     "output_type": "execute_result"
    }
   ],
   "source": [
    "df.emp_length.dtype #done"
   ]
  },
  {
   "cell_type": "code",
   "execution_count": 175,
   "metadata": {
    "collapsed": false,
    "scrolled": true
   },
   "outputs": [
    {
     "data": {
      "text/plain": [
       "<bound method Series.head of 3         10\n",
       "5          1\n",
       "6         10\n",
       "11         1\n",
       "12         2\n",
       "17         8\n",
       "24         1\n",
       "28        10\n",
       "29         2\n",
       "32         3\n",
       "35        10\n",
       "37         5\n",
       "40         4\n",
       "50         4\n",
       "55         1\n",
       "56         2\n",
       "61         4\n",
       "68         9\n",
       "69         5\n",
       "70         7\n",
       "75         1\n",
       "78         2\n",
       "84         7\n",
       "85         2\n",
       "87         2\n",
       "90        10\n",
       "97         1\n",
       "103        1\n",
       "112       10\n",
       "119       10\n",
       "          ..\n",
       "235558    10\n",
       "235559    10\n",
       "235561     1\n",
       "235563     1\n",
       "235564     2\n",
       "235565    10\n",
       "235567    10\n",
       "235570    10\n",
       "235571     1\n",
       "235581    10\n",
       "235584     2\n",
       "235585     1\n",
       "235595    10\n",
       "235596     4\n",
       "235598     1\n",
       "235599     9\n",
       "235600     1\n",
       "235601    10\n",
       "235603     4\n",
       "235605     1\n",
       "235606     1\n",
       "235608    10\n",
       "235609     1\n",
       "235616     1\n",
       "235619     7\n",
       "235620     5\n",
       "235621     3\n",
       "235622    10\n",
       "235625    10\n",
       "235626     3\n",
       "Name: emp_length, dtype: int64>"
      ]
     },
     "execution_count": 175,
     "metadata": {},
     "output_type": "execute_result"
    }
   ],
   "source": [
    "df.emp_length.head"
   ]
  },
  {
   "cell_type": "code",
   "execution_count": 176,
   "metadata": {
    "collapsed": false,
    "scrolled": true
   },
   "outputs": [
    {
     "data": {
      "text/plain": [
       "3      13.66%\n",
       "5      13.66%\n",
       "6      17.86%\n",
       "11     11.99%\n",
       "12     11.44%\n",
       "Name: int_rate, dtype: object"
      ]
     },
     "execution_count": 176,
     "metadata": {},
     "output_type": "execute_result"
    }
   ],
   "source": [
    "df.int_rate.head()\n"
   ]
  },
  {
   "cell_type": "markdown",
   "metadata": {
    "collapsed": true
   },
   "source": [
    "#Converting the datatype of \"int_rate\" from object to float64 and removing \"%\" sign"
   ]
  },
  {
   "cell_type": "code",
   "execution_count": 177,
   "metadata": {
    "collapsed": false
   },
   "outputs": [],
   "source": [
    "df.int_rate = [x[:-1] for x in df.int_rate]"
   ]
  },
  {
   "cell_type": "code",
   "execution_count": 178,
   "metadata": {
    "collapsed": false,
    "scrolled": true
   },
   "outputs": [
    {
     "data": {
      "text/plain": [
       "3      13.66\n",
       "5      13.66\n",
       "6      17.86\n",
       "11     11.99\n",
       "12     11.44\n",
       "Name: int_rate, dtype: object"
      ]
     },
     "execution_count": 178,
     "metadata": {},
     "output_type": "execute_result"
    }
   ],
   "source": [
    "df.int_rate.head()"
   ]
  },
  {
   "cell_type": "code",
   "execution_count": 179,
   "metadata": {
    "collapsed": true
   },
   "outputs": [],
   "source": [
    "df.int_rate = df.int_rate.astype(float)"
   ]
  },
  {
   "cell_type": "code",
   "execution_count": 180,
   "metadata": {
    "collapsed": false
   },
   "outputs": [
    {
     "data": {
      "text/plain": [
       "count    71364.000000\n",
       "mean        14.374701\n",
       "std          4.429493\n",
       "min          6.000000\n",
       "25%         11.670000\n",
       "50%         13.980000\n",
       "75%         16.990000\n",
       "max         26.060000\n",
       "Name: int_rate, dtype: float64"
      ]
     },
     "execution_count": 180,
     "metadata": {},
     "output_type": "execute_result"
    }
   ],
   "source": [
    "df.int_rate.describe()"
   ]
  },
  {
   "cell_type": "code",
   "execution_count": 181,
   "metadata": {
    "collapsed": false
   },
   "outputs": [
    {
     "data": {
      "text/plain": [
       "0    0\n",
       "Name: int_rate, dtype: int64"
      ]
     },
     "execution_count": 181,
     "metadata": {},
     "output_type": "execute_result"
    }
   ],
   "source": [
    "null.int_rate #so no missing values"
   ]
  },
  {
   "cell_type": "markdown",
   "metadata": {},
   "source": [
    "## This plot is showing the mean value of loan_status for a particular home_ownership value"
   ]
  },
  {
   "cell_type": "code",
   "execution_count": 182,
   "metadata": {
    "collapsed": false,
    "scrolled": false
   },
   "outputs": [
    {
     "data": {
      "text/plain": [
       "<seaborn.axisgrid.FacetGrid at 0x12f238ed0>"
      ]
     },
     "execution_count": 182,
     "metadata": {},
     "output_type": "execute_result"
    },
    {
     "data": {
      "image/png": "[encoded data removed]",
      "text/plain": [
       "<matplotlib.figure.Figure at 0x12efa13d0>"
      ]
     },
     "metadata": {},
     "output_type": "display_data"
    }
   ],
   "source": [
    "sns.factorplot(x=\"home_ownership\",y=\"loan_status\",data = df)# 'ANY' has only one data point"
   ]
  },
  {
   "cell_type": "code",
   "execution_count": 183,
   "metadata": {
    "collapsed": false
   },
   "outputs": [
    {
     "data": {
      "text/plain": [
       "0.7190546528803545"
      ]
     },
     "execution_count": 183,
     "metadata": {},
     "output_type": "execute_result"
    }
   ],
   "source": [
    "np.mean(df[df.home_ownership == \"OWN\"].loan_status)"
   ]
  },
  {
   "cell_type": "code",
   "execution_count": 184,
   "metadata": {
    "collapsed": false
   },
   "outputs": [
    {
     "data": {
      "text/plain": [
       "dtype('float64')"
      ]
     },
     "execution_count": 184,
     "metadata": {},
     "output_type": "execute_result"
    }
   ],
   "source": [
    "df.annual_inc.dtype"
   ]
  },
  {
   "cell_type": "code",
   "execution_count": 185,
   "metadata": {
    "collapsed": false
   },
   "outputs": [
    {
     "data": {
      "text/plain": [
       "['annual_inc_joint',\n",
       " 'dti_joint',\n",
       " 'verification_status_joint',\n",
       " 'open_acc_6m',\n",
       " 'open_il_6m',\n",
       " 'open_il_12m',\n",
       " 'open_il_24m',\n",
       " 'mths_since_rcnt_il',\n",
       " 'total_bal_il',\n",
       " 'il_util',\n",
       " 'open_rv_12m',\n",
       " 'open_rv_24m',\n",
       " 'max_bal_bc',\n",
       " 'all_util',\n",
       " 'inq_fi',\n",
       " 'total_fi_tl',\n",
       " 'inq_last_12m']"
      ]
     },
     "execution_count": 185,
     "metadata": {},
     "output_type": "execute_result"
    }
   ],
   "source": [
    "to_remove = []\n",
    "\n",
    "for i in df.columns:\n",
    "    if null[i][0] == 71364:\n",
    "        to_remove.append(i)\n",
    "        \n",
    "to_remove"
   ]
  },
  {
   "cell_type": "code",
   "execution_count": 186,
   "metadata": {
    "collapsed": true
   },
   "outputs": [],
   "source": [
    "df1 = df #keeping the version of df as df1"
   ]
  },
  {
   "cell_type": "code",
   "execution_count": 187,
   "metadata": {
    "collapsed": true
   },
   "outputs": [],
   "source": [
    "for feature in to_remove:\n",
    "    df = df.drop(feature,axis = 1)"
   ]
  },
  {
   "cell_type": "code",
   "execution_count": 188,
   "metadata": {
    "collapsed": false
   },
   "outputs": [
    {
     "data": {
      "text/plain": [
       "53"
      ]
     },
     "execution_count": 188,
     "metadata": {},
     "output_type": "execute_result"
    }
   ],
   "source": [
    "len(df.columns)"
   ]
  },
  {
   "cell_type": "code",
   "execution_count": 189,
   "metadata": {
    "collapsed": false
   },
   "outputs": [
    {
     "name": "stdout",
     "output_type": "stream",
     "text": [
      "desc\n",
      "mths_since_last_record\n",
      "next_pymnt_d\n",
      "mths_since_last_major_derog\n"
     ]
    }
   ],
   "source": [
    "for i in df.columns:\n",
    "    if null[i][0] > 50000:   #These features should also be removed as it'll be difficult to fill these missing values from a regression fitting as the available values are very less and missing values are very large\n",
    "        print i"
   ]
  },
  {
   "cell_type": "markdown",
   "metadata": {
    "collapsed": true
   },
   "source": [
    "### Plotting against total_credit_rv"
   ]
  },
  {
   "cell_type": "code",
   "execution_count": 190,
   "metadata": {
    "collapsed": false,
    "scrolled": true
   },
   "outputs": [
    {
     "data": {
      "text/plain": [
       "3          27600\n",
       "5          18300\n",
       "6          15700\n",
       "11         24300\n",
       "12         22000\n",
       "17         15300\n",
       "24         39600\n",
       "28          6800\n",
       "29         41700\n",
       "32         74700\n",
       "35         15000\n",
       "37         66500\n",
       "40         10400\n",
       "50         33700\n",
       "55         21000\n",
       "56         12600\n",
       "61         27800\n",
       "68         26500\n",
       "69         41400\n",
       "70         16200\n",
       "75          1300\n",
       "78        112400\n",
       "84         28100\n",
       "85         23000\n",
       "87          5000\n",
       "90         10100\n",
       "97         20000\n",
       "103        20300\n",
       "112        24000\n",
       "119        29500\n",
       "           ...  \n",
       "235558     41300\n",
       "235559     52300\n",
       "235561     34000\n",
       "235563     21300\n",
       "235564     29300\n",
       "235565     59700\n",
       "235567     34100\n",
       "235570     56500\n",
       "235571     22500\n",
       "235581     38600\n",
       "235584     27100\n",
       "235585      5300\n",
       "235595     32000\n",
       "235596     20100\n",
       "235598      8200\n",
       "235599    153800\n",
       "235600     29300\n",
       "235601     40800\n",
       "235603      9200\n",
       "235605     38100\n",
       "235606     24400\n",
       "235608     40200\n",
       "235609     30800\n",
       "235616     25400\n",
       "235619     10500\n",
       "235620     49800\n",
       "235621     50300\n",
       "235622     11100\n",
       "235625     39400\n",
       "235626     53100\n",
       "Name: total_credit_rv, dtype: float64"
      ]
     },
     "execution_count": 190,
     "metadata": {},
     "output_type": "execute_result"
    }
   ],
   "source": [
    "df.total_credit_rv"
   ]
  },
  {
   "cell_type": "code",
   "execution_count": 191,
   "metadata": {
    "collapsed": false
   },
   "outputs": [
    {
     "data": {
      "text/plain": [
       "<matplotlib.collections.PathCollection at 0x13f392110>"
      ]
     },
     "execution_count": 191,
     "metadata": {},
     "output_type": "execute_result"
    },
    {
     "data": {
      "image/png": "[encoded data removed]",
      "text/plain": [
       "<matplotlib.figure.Figure at 0x12efab5d0>"
      ]
     },
     "metadata": {},
     "output_type": "display_data"
    }
   ],
   "source": [
    "plt.scatter(df.total_credit_rv, df.loan_status)"
   ]
  },
  {
   "cell_type": "markdown",
   "metadata": {},
   "source": [
    "### Plotting against tot_cur_bal"
   ]
  },
  {
   "cell_type": "code",
   "execution_count": 192,
   "metadata": {
    "collapsed": false,
    "scrolled": true
   },
   "outputs": [
    {
     "data": {
      "text/plain": [
       "3          38566\n",
       "5          64426\n",
       "6          17281\n",
       "11        397223\n",
       "12         10133\n",
       "17         20539\n",
       "24           744\n",
       "28        237795\n",
       "29        239362\n",
       "32        256696\n",
       "35        128450\n",
       "37         59623\n",
       "40         53901\n",
       "50         47115\n",
       "55         15894\n",
       "56         69669\n",
       "61         24481\n",
       "68         15659\n",
       "69         66967\n",
       "70         18342\n",
       "75         51161\n",
       "78        629294\n",
       "84        200512\n",
       "85        230664\n",
       "87        166080\n",
       "90          5805\n",
       "97        318905\n",
       "103        77421\n",
       "112        26790\n",
       "119         7562\n",
       "           ...  \n",
       "235558    141512\n",
       "235559     26409\n",
       "235561     51830\n",
       "235563     17755\n",
       "235564    102722\n",
       "235565     37886\n",
       "235567    237415\n",
       "235570    521411\n",
       "235571     12587\n",
       "235581    404265\n",
       "235584     37638\n",
       "235585      7226\n",
       "235595     21265\n",
       "235596    135047\n",
       "235598      1199\n",
       "235599    383345\n",
       "235600     34157\n",
       "235601    297745\n",
       "235603     32971\n",
       "235605    116175\n",
       "235606    197078\n",
       "235608     13021\n",
       "235609    334899\n",
       "235616    125641\n",
       "235619    259863\n",
       "235620    116995\n",
       "235621     42592\n",
       "235622     10170\n",
       "235625    221830\n",
       "235626    591610\n",
       "Name: tot_cur_bal, dtype: float64"
      ]
     },
     "execution_count": 192,
     "metadata": {},
     "output_type": "execute_result"
    }
   ],
   "source": [
    "df.tot_cur_bal"
   ]
  },
  {
   "cell_type": "code",
   "execution_count": 193,
   "metadata": {
    "collapsed": false
   },
   "outputs": [
    {
     "data": {
      "text/plain": [
       "<matplotlib.collections.PathCollection at 0x13f50a550>"
      ]
     },
     "execution_count": 193,
     "metadata": {},
     "output_type": "execute_result"
    },
    {
     "data": {
      "image/png": "[encoded data removed]",
      "text/plain": [
       "<matplotlib.figure.Figure at 0x12f164e90>"
      ]
     },
     "metadata": {},
     "output_type": "display_data"
    }
   ],
   "source": [
    "plt.scatter(df.tot_cur_bal, df.loan_status)"
   ]
  },
  {
   "cell_type": "markdown",
   "metadata": {},
   "source": [
    "### Plotting against tot_coll_amt"
   ]
  },
  {
   "cell_type": "code",
   "execution_count": 194,
   "metadata": {
    "collapsed": false
   },
   "outputs": [
    {
     "data": {
      "text/plain": [
       "<matplotlib.collections.PathCollection at 0x10ae81190>"
      ]
     },
     "execution_count": 194,
     "metadata": {},
     "output_type": "execute_result"
    },
    {
     "data": {
      "image/png": "[encoded data removed]",
      "text/plain": [
       "<matplotlib.figure.Figure at 0x13f3a9750>"
      ]
     },
     "metadata": {},
     "output_type": "display_data"
    }
   ],
   "source": [
    "plt.scatter(df.tot_coll_amt/10e6, df.loan_status)"
   ]
  },
  {
   "cell_type": "markdown",
   "metadata": {},
   "source": [
    "##### The above plot is intersting, Kaustabh take a look"
   ]
  },
  {
   "cell_type": "markdown",
   "metadata": {},
   "source": [
    "### Plotting against acc_now_delinq"
   ]
  },
  {
   "cell_type": "code",
   "execution_count": 195,
   "metadata": {
    "collapsed": false
   },
   "outputs": [
    {
     "data": {
      "text/plain": [
       "<matplotlib.collections.PathCollection at 0x13271d410>"
      ]
     },
     "execution_count": 195,
     "metadata": {},
     "output_type": "execute_result"
    },
    {
     "data": {
      "image/png": "[encoded data removed]",
      "text/plain": [
       "<matplotlib.figure.Figure at 0x10a04a150>"
      ]
     },
     "metadata": {},
     "output_type": "display_data"
    }
   ],
   "source": [
    "plt.scatter(df.acc_now_delinq, df.loan_status)"
   ]
  },
  {
   "cell_type": "markdown",
   "metadata": {},
   "source": [
    "#### This shows that if a person has 3 deliquent accounts, then he is definitely 1(good). This is counter intuitive"
   ]
  },
  {
   "cell_type": "code",
   "execution_count": 196,
   "metadata": {
    "collapsed": false
   },
   "outputs": [
    {
     "data": {
      "text/plain": [
       "145595    3\n",
       "Name: acc_now_delinq, dtype: float64"
      ]
     },
     "execution_count": 196,
     "metadata": {},
     "output_type": "execute_result"
    }
   ],
   "source": [
    "df.acc_now_delinq[df.acc_now_delinq == 3]"
   ]
  },
  {
   "cell_type": "markdown",
   "metadata": {},
   "source": [
    "#### But we can see that there is only one person who has 3 deliquencies, so this is an outlier"
   ]
  },
  {
   "cell_type": "markdown",
   "metadata": {},
   "source": [
    "### Removing application_type"
   ]
  },
  {
   "cell_type": "code",
   "execution_count": 197,
   "metadata": {
    "collapsed": false
   },
   "outputs": [
    {
     "data": {
      "text/plain": [
       "1"
      ]
     },
     "execution_count": 197,
     "metadata": {},
     "output_type": "execute_result"
    }
   ],
   "source": [
    "len(df.application_type[df.application_type == 'INDIVIDUAL'])/len(df.application_type)"
   ]
  },
  {
   "cell_type": "markdown",
   "metadata": {},
   "source": [
    "#### We can see that there is only one type of 'application_type', so we can remove it"
   ]
  },
  {
   "cell_type": "code",
   "execution_count": 198,
   "metadata": {
    "collapsed": false
   },
   "outputs": [],
   "source": [
    "df = df.drop(['application_type'], axis=1)"
   ]
  },
  {
   "cell_type": "markdown",
   "metadata": {},
   "source": [
    "### Removing policy_code"
   ]
  },
  {
   "cell_type": "code",
   "execution_count": 199,
   "metadata": {
    "collapsed": false
   },
   "outputs": [
    {
     "data": {
      "text/plain": [
       "1    71364\n",
       "dtype: int64"
      ]
     },
     "execution_count": 199,
     "metadata": {},
     "output_type": "execute_result"
    }
   ],
   "source": [
    "df.policy_code.value_counts()"
   ]
  },
  {
   "cell_type": "markdown",
   "metadata": {},
   "source": [
    "#### We can see that there is only one type of 'policy_code', so we can remove it"
   ]
  },
  {
   "cell_type": "code",
   "execution_count": 200,
   "metadata": {
    "collapsed": false
   },
   "outputs": [],
   "source": [
    "df = df.drop(['policy_code'], axis=1)"
   ]
  },
  {
   "cell_type": "markdown",
   "metadata": {},
   "source": [
    "### Plotting against collections_12_mths_ex_med"
   ]
  },
  {
   "cell_type": "code",
   "execution_count": 201,
   "metadata": {
    "collapsed": false
   },
   "outputs": [
    {
     "data": {
      "text/plain": [
       "<matplotlib.collections.PathCollection at 0x1327e76d0>"
      ]
     },
     "execution_count": 201,
     "metadata": {},
     "output_type": "execute_result"
    },
    {
     "data": {
      "image/png": "[encoded data removed]",
      "text/plain": [
       "<matplotlib.figure.Figure at 0x13276e390>"
      ]
     },
     "metadata": {},
     "output_type": "display_data"
    }
   ],
   "source": [
    "plt.scatter(df.collections_12_mths_ex_med, df.loan_status)"
   ]
  },
  {
   "cell_type": "markdown",
   "metadata": {},
   "source": [
    "### Plotting against mths_since_last_major_derog  { we'll later remove this column and check whether our accuracy increases ?}    "
   ]
  },
  {
   "cell_type": "code",
   "execution_count": 202,
   "metadata": {
    "collapsed": false
   },
   "outputs": [
    {
     "data": {
      "text/plain": [
       "<matplotlib.collections.PathCollection at 0x1333a0590>"
      ]
     },
     "execution_count": 202,
     "metadata": {},
     "output_type": "execute_result"
    },
    {
     "data": {
      "image/png": "[encoded data removed]",
      "text/plain": [
       "<matplotlib.figure.Figure at 0x10ae98e50>"
      ]
     },
     "metadata": {},
     "output_type": "display_data"
    }
   ],
   "source": [
    "plt.scatter(df.mths_since_last_major_derog , df.loan_status)"
   ]
  },
  {
   "cell_type": "markdown",
   "metadata": {},
   "source": [
    "### Dealing with last_credit_pull_d"
   ]
  },
  {
   "cell_type": "code",
   "execution_count": 203,
   "metadata": {
    "collapsed": false,
    "scrolled": true
   },
   "outputs": [
    {
     "data": {
      "text/plain": [
       "3         Dec-2015\n",
       "5         Dec-2015\n",
       "6         Dec-2015\n",
       "11        Dec-2015\n",
       "12        Apr-2015\n",
       "17        Dec-2015\n",
       "24        Mar-2015\n",
       "28        Dec-2015\n",
       "29        Dec-2015\n",
       "32        Oct-2015\n",
       "35        Dec-2015\n",
       "37        Jan-2015\n",
       "40        Dec-2015\n",
       "50        Jun-2015\n",
       "55        Aug-2015\n",
       "56        May-2015\n",
       "61        Dec-2015\n",
       "68        Jun-2015\n",
       "69        Aug-2015\n",
       "70        Dec-2015\n",
       "75        May-2015\n",
       "78        Nov-2015\n",
       "84        Nov-2015\n",
       "85        Dec-2015\n",
       "87        Apr-2015\n",
       "90        Dec-2015\n",
       "97        Dec-2015\n",
       "103       Nov-2015\n",
       "112       Mar-2015\n",
       "119       Dec-2015\n",
       "            ...   \n",
       "235558    Nov-2014\n",
       "235559    Oct-2015\n",
       "235561    Dec-2015\n",
       "235563    Dec-2015\n",
       "235564    Jul-2014\n",
       "235565    Dec-2015\n",
       "235567    Dec-2015\n",
       "235570    Oct-2015\n",
       "235571    Nov-2015\n",
       "235581    Mar-2015\n",
       "235584    Dec-2015\n",
       "235585    Dec-2015\n",
       "235595    Dec-2015\n",
       "235596    Feb-2015\n",
       "235598    Dec-2015\n",
       "235599    Aug-2015\n",
       "235600    Dec-2015\n",
       "235601    Dec-2015\n",
       "235603    Dec-2015\n",
       "235605    Apr-2015\n",
       "235606    Dec-2015\n",
       "235608    Sep-2015\n",
       "235609    Dec-2015\n",
       "235616    Oct-2015\n",
       "235619    Dec-2015\n",
       "235620    Oct-2014\n",
       "235621    Oct-2014\n",
       "235622    Dec-2015\n",
       "235625    Dec-2015\n",
       "235626    Apr-2015\n",
       "Name: last_credit_pull_d, dtype: object"
      ]
     },
     "execution_count": 203,
     "metadata": {},
     "output_type": "execute_result"
    }
   ],
   "source": [
    "df.last_credit_pull_d"
   ]
  },
  {
   "cell_type": "code",
   "execution_count": 204,
   "metadata": {
    "collapsed": false
   },
   "outputs": [],
   "source": [
    "df.last_credit_pull_d = pd.to_datetime(df.last_credit_pull_d)"
   ]
  },
  {
   "cell_type": "markdown",
   "metadata": {},
   "source": [
    "#### Someone try to plot this datetime against loan_status"
   ]
  },
  {
   "cell_type": "markdown",
   "metadata": {},
   "source": [
    "### Dealing with collection_recovery_fee"
   ]
  },
  {
   "cell_type": "code",
   "execution_count": 205,
   "metadata": {
    "collapsed": false,
    "scrolled": true
   },
   "outputs": [
    {
     "data": {
      "text/plain": [
       "<matplotlib.collections.PathCollection at 0x133752990>"
      ]
     },
     "execution_count": 205,
     "metadata": {},
     "output_type": "execute_result"
    },
    {
     "data": {
      "image/png": "[encoded data removed]",
      "text/plain": [
       "<matplotlib.figure.Figure at 0x1327638d0>"
      ]
     },
     "metadata": {},
     "output_type": "display_data"
    }
   ],
   "source": [
    "plt.scatter(df.collection_recovery_fee, df.loan_status)"
   ]
  },
  {
   "cell_type": "code",
   "execution_count": 206,
   "metadata": {
    "collapsed": false,
    "scrolled": true
   },
   "outputs": [
    {
     "data": {
      "text/plain": [
       "1"
      ]
     },
     "execution_count": 206,
     "metadata": {},
     "output_type": "execute_result"
    }
   ],
   "source": [
    "len(df.collection_recovery_fee[df.loan_status == 1][df.collection_recovery_fee == 0])/len(df.collection_recovery_fee[df.loan_status == 1])"
   ]
  },
  {
   "cell_type": "markdown",
   "metadata": {},
   "source": [
    "#### All good people have collection_recovery_fee = 0"
   ]
  },
  {
   "cell_type": "markdown",
   "metadata": {},
   "source": [
    "### Dealing with recoveries "
   ]
  },
  {
   "cell_type": "code",
   "execution_count": 207,
   "metadata": {
    "collapsed": false
   },
   "outputs": [
    {
     "data": {
      "text/plain": [
       "<matplotlib.collections.PathCollection at 0x147008950>"
      ]
     },
     "execution_count": 207,
     "metadata": {},
     "output_type": "execute_result"
    },
    {
     "data": {
      "image/png": "[encoded data removed]",
      "text/plain": [
       "<matplotlib.figure.Figure at 0x13f2eef90>"
      ]
     },
     "metadata": {},
     "output_type": "display_data"
    }
   ],
   "source": [
    "plt.scatter(df.recoveries, df.loan_status)"
   ]
  },
  {
   "cell_type": "markdown",
   "metadata": {},
   "source": [
    "#### All good people have recoveries = 0"
   ]
  },
  {
   "cell_type": "markdown",
   "metadata": {},
   "source": [
    "### Plotting against total_rec_int"
   ]
  },
  {
   "cell_type": "code",
   "execution_count": 208,
   "metadata": {
    "collapsed": false
   },
   "outputs": [
    {
     "data": {
      "text/plain": [
       "<matplotlib.collections.PathCollection at 0x1435ba650>"
      ]
     },
     "execution_count": 208,
     "metadata": {},
     "output_type": "execute_result"
    },
    {
     "data": {
      "image/png": "[encoded data removed]",
      "text/plain": [
       "<matplotlib.figure.Figure at 0x147021f50>"
      ]
     },
     "metadata": {},
     "output_type": "display_data"
    }
   ],
   "source": [
    "plt.scatter(df.total_rec_int, df.loan_status)"
   ]
  },
  {
   "cell_type": "markdown",
   "metadata": {},
   "source": [
    "### Plotting against total_rec_late_fee"
   ]
  },
  {
   "cell_type": "code",
   "execution_count": 209,
   "metadata": {
    "collapsed": false
   },
   "outputs": [
    {
     "data": {
      "text/plain": [
       "<matplotlib.collections.PathCollection at 0x147146ed0>"
      ]
     },
     "execution_count": 209,
     "metadata": {},
     "output_type": "execute_result"
    },
    {
     "data": {
      "image/png": "[encoded data removed]",
      "text/plain": [
       "<matplotlib.figure.Figure at 0x143551290>"
      ]
     },
     "metadata": {},
     "output_type": "display_data"
    }
   ],
   "source": [
    "plt.scatter(df.total_rec_late_fee, df.loan_status)"
   ]
  },
  {
   "cell_type": "markdown",
   "metadata": {},
   "source": [
    "#### We can observe that if total_rec_late_fee is > 140 then the is definetely bad"
   ]
  },
  {
   "cell_type": "markdown",
   "metadata": {},
   "source": [
    "### Plotting against total_rec_prncp"
   ]
  },
  {
   "cell_type": "code",
   "execution_count": 210,
   "metadata": {
    "collapsed": false
   },
   "outputs": [
    {
     "data": {
      "text/plain": [
       "<matplotlib.collections.PathCollection at 0x1477a6550>"
      ]
     },
     "execution_count": 210,
     "metadata": {},
     "output_type": "execute_result"
    },
    {
     "data": {
      "image/png": "[encoded data removed]",
      "text/plain": [
       "<matplotlib.figure.Figure at 0x14859e210>"
      ]
     },
     "metadata": {},
     "output_type": "display_data"
    }
   ],
   "source": [
    "plt.scatter(df.total_rec_prncp, df.loan_status)"
   ]
  },
  {
   "cell_type": "markdown",
   "metadata": {},
   "source": [
    "### Plotting against total_pymnt_inv & total_pymnt"
   ]
  },
  {
   "cell_type": "code",
   "execution_count": 211,
   "metadata": {
    "collapsed": false
   },
   "outputs": [
    {
     "data": {
      "text/plain": [
       "<matplotlib.collections.PathCollection at 0x1499fea90>"
      ]
     },
     "execution_count": 211,
     "metadata": {},
     "output_type": "execute_result"
    },
    {
     "data": {
      "image/png": "[encoded data removed]",
      "text/plain": [
       "<matplotlib.figure.Figure at 0x149a474d0>"
      ]
     },
     "metadata": {},
     "output_type": "display_data"
    }
   ],
   "source": [
    "plt.scatter(df.total_pymnt_inv, df.loan_status)"
   ]
  },
  {
   "cell_type": "code",
   "execution_count": 212,
   "metadata": {
    "collapsed": false
   },
   "outputs": [
    {
     "data": {
      "text/plain": [
       "<matplotlib.collections.PathCollection at 0x149d967d0>"
      ]
     },
     "execution_count": 212,
     "metadata": {},
     "output_type": "execute_result"
    },
    {
     "data": {
      "image/png": "[encoded data removed]",
      "text/plain": [
       "<matplotlib.figure.Figure at 0x149dd3c90>"
      ]
     },
     "metadata": {},
     "output_type": "display_data"
    }
   ],
   "source": [
    "plt.scatter(df.total_pymnt, df.loan_status)"
   ]
  },
  {
   "cell_type": "code",
   "execution_count": 213,
   "metadata": {
    "collapsed": false
   },
   "outputs": [
    {
     "data": {
      "text/plain": [
       "<matplotlib.collections.PathCollection at 0x14c041dd0>"
      ]
     },
     "execution_count": 213,
     "metadata": {},
     "output_type": "execute_result"
    },
    {
     "data": {
      "image/png": "[encoded data removed]",
      "text/plain": [
       "<matplotlib.figure.Figure at 0x149e33f10>"
      ]
     },
     "metadata": {},
     "output_type": "display_data"
    }
   ],
   "source": [
    "plt.scatter(df.total_pymnt, df.total_pymnt_inv)"
   ]
  },
  {
   "cell_type": "markdown",
   "metadata": {},
   "source": [
    "#### We can see that there is linear relation between there 2 columns"
   ]
  },
  {
   "cell_type": "code",
   "execution_count": 214,
   "metadata": {
    "collapsed": false
   },
   "outputs": [
    {
     "data": {
      "text/plain": [
       "0.99999770105624086"
      ]
     },
     "execution_count": 214,
     "metadata": {},
     "output_type": "execute_result"
    }
   ],
   "source": [
    "df.corr()['total_pymnt']['total_pymnt_inv']"
   ]
  },
  {
   "cell_type": "markdown",
   "metadata": {},
   "source": [
    "#### And this is also supported by correlation also, which is 0.99999"
   ]
  },
  {
   "cell_type": "markdown",
   "metadata": {},
   "source": [
    "### Plotting against out_prncp"
   ]
  },
  {
   "cell_type": "code",
   "execution_count": 215,
   "metadata": {
    "collapsed": false
   },
   "outputs": [
    {
     "data": {
      "text/plain": [
       "<matplotlib.collections.PathCollection at 0x14f496e90>"
      ]
     },
     "execution_count": 215,
     "metadata": {},
     "output_type": "execute_result"
    },
    {
     "data": {
      "image/png": "[encoded data removed]",
      "text/plain": [
       "<matplotlib.figure.Figure at 0x14c05c390>"
      ]
     },
     "metadata": {},
     "output_type": "display_data"
    }
   ],
   "source": [
    "plt.scatter(df.out_prncp, df.loan_status)"
   ]
  },
  {
   "cell_type": "markdown",
   "metadata": {},
   "source": [
    "###  Plot of loan status v/s states"
   ]
  },
  {
   "cell_type": "code",
   "execution_count": 216,
   "metadata": {
    "collapsed": false
   },
   "outputs": [
    {
     "data": {
      "text/plain": [
       "<matplotlib.axes._subplots.AxesSubplot at 0x14f4ba690>"
      ]
     },
     "execution_count": 216,
     "metadata": {},
     "output_type": "execute_result"
    },
    {
     "data": {
      "image/png": "[encoded data removed]",
      "text/plain": [
       "<matplotlib.figure.Figure at 0x14c065a50>"
      ]
     },
     "metadata": {},
     "output_type": "display_data"
    }
   ],
   "source": [
    "sns.barplot(x=\"addr_state\",y=\"loan_status\",data = df)"
   ]
  },
  {
   "cell_type": "markdown",
   "metadata": {},
   "source": [
    "### Plot of grades v/s int_rates"
   ]
  },
  {
   "cell_type": "code",
   "execution_count": 217,
   "metadata": {
    "collapsed": false
   },
   "outputs": [
    {
     "data": {
      "text/plain": [
       "<matplotlib.axes._subplots.AxesSubplot at 0x15d02f110>"
      ]
     },
     "execution_count": 217,
     "metadata": {},
     "output_type": "execute_result"
    },
    {
     "data": {
      "image/png": "[encoded data removed]",
      "text/plain": [
       "<matplotlib.figure.Figure at 0x14c065a90>"
      ]
     },
     "metadata": {},
     "output_type": "display_data"
    }
   ],
   "source": [
    "sns.barplot(x=\"grade\",y=\"int_rate\",data = df)"
   ]
  },
  {
   "cell_type": "markdown",
   "metadata": {},
   "source": [
    "**we see that with increase in grade int_rate also increases so grade and sub grade have high corelation with the int_rates so it can be removed**"
   ]
  },
  {
   "cell_type": "code",
   "execution_count": 218,
   "metadata": {
    "collapsed": false
   },
   "outputs": [],
   "source": [
    "df= df.drop(['grade','sub_grade'],1)"
   ]
  },
  {
   "cell_type": "code",
   "execution_count": 219,
   "metadata": {
    "collapsed": false
   },
   "outputs": [
    {
     "data": {
      "text/html": [
       "<div>\n",
       "<table border=\"1\" class=\"dataframe\">\n",
       "  <thead>\n",
       "    <tr style=\"text-align: right;\">\n",
       "      <th></th>\n",
       "      <th>id</th>\n",
       "      <th>member_id</th>\n",
       "      <th>loan_amnt</th>\n",
       "      <th>funded_amnt</th>\n",
       "      <th>funded_amnt_inv</th>\n",
       "      <th>term</th>\n",
       "      <th>int_rate</th>\n",
       "      <th>installment</th>\n",
       "      <th>emp_length</th>\n",
       "      <th>home_ownership</th>\n",
       "      <th>...</th>\n",
       "      <th>last_pymnt_d</th>\n",
       "      <th>last_pymnt_amnt</th>\n",
       "      <th>next_pymnt_d</th>\n",
       "      <th>last_credit_pull_d</th>\n",
       "      <th>collections_12_mths_ex_med</th>\n",
       "      <th>mths_since_last_major_derog</th>\n",
       "      <th>acc_now_delinq</th>\n",
       "      <th>tot_coll_amt</th>\n",
       "      <th>tot_cur_bal</th>\n",
       "      <th>total_credit_rv</th>\n",
       "    </tr>\n",
       "  </thead>\n",
       "  <tbody>\n",
       "    <tr>\n",
       "      <th>3</th>\n",
       "      <td>37822187</td>\n",
       "      <td>40585251</td>\n",
       "      <td>9600</td>\n",
       "      <td>9600</td>\n",
       "      <td>9600</td>\n",
       "      <td>36 months</td>\n",
       "      <td>13.66</td>\n",
       "      <td>326.53</td>\n",
       "      <td>10</td>\n",
       "      <td>RENT</td>\n",
       "      <td>...</td>\n",
       "      <td>Apr-2015</td>\n",
       "      <td>9338.58</td>\n",
       "      <td>NaN</td>\n",
       "      <td>2015-12-26</td>\n",
       "      <td>0</td>\n",
       "      <td>NaN</td>\n",
       "      <td>0</td>\n",
       "      <td>0</td>\n",
       "      <td>38566</td>\n",
       "      <td>27600</td>\n",
       "    </tr>\n",
       "    <tr>\n",
       "      <th>5</th>\n",
       "      <td>37662224</td>\n",
       "      <td>40425321</td>\n",
       "      <td>7650</td>\n",
       "      <td>7650</td>\n",
       "      <td>7650</td>\n",
       "      <td>36 months</td>\n",
       "      <td>13.66</td>\n",
       "      <td>260.20</td>\n",
       "      <td>1</td>\n",
       "      <td>RENT</td>\n",
       "      <td>...</td>\n",
       "      <td>Aug-2015</td>\n",
       "      <td>17.70</td>\n",
       "      <td>NaN</td>\n",
       "      <td>2015-12-26</td>\n",
       "      <td>0</td>\n",
       "      <td>NaN</td>\n",
       "      <td>0</td>\n",
       "      <td>0</td>\n",
       "      <td>64426</td>\n",
       "      <td>18300</td>\n",
       "    </tr>\n",
       "    <tr>\n",
       "      <th>6</th>\n",
       "      <td>37800722</td>\n",
       "      <td>40563521</td>\n",
       "      <td>12975</td>\n",
       "      <td>12975</td>\n",
       "      <td>12975</td>\n",
       "      <td>36 months</td>\n",
       "      <td>17.86</td>\n",
       "      <td>468.17</td>\n",
       "      <td>10</td>\n",
       "      <td>RENT</td>\n",
       "      <td>...</td>\n",
       "      <td>Oct-2015</td>\n",
       "      <td>468.17</td>\n",
       "      <td>Jan-2016</td>\n",
       "      <td>2015-12-26</td>\n",
       "      <td>0</td>\n",
       "      <td>NaN</td>\n",
       "      <td>0</td>\n",
       "      <td>900</td>\n",
       "      <td>17281</td>\n",
       "      <td>15700</td>\n",
       "    </tr>\n",
       "    <tr>\n",
       "      <th>11</th>\n",
       "      <td>37741884</td>\n",
       "      <td>40504905</td>\n",
       "      <td>2500</td>\n",
       "      <td>2500</td>\n",
       "      <td>2500</td>\n",
       "      <td>36 months</td>\n",
       "      <td>11.99</td>\n",
       "      <td>83.03</td>\n",
       "      <td>1</td>\n",
       "      <td>MORTGAGE</td>\n",
       "      <td>...</td>\n",
       "      <td>Jun-2015</td>\n",
       "      <td>2294.26</td>\n",
       "      <td>NaN</td>\n",
       "      <td>2015-12-26</td>\n",
       "      <td>0</td>\n",
       "      <td>NaN</td>\n",
       "      <td>0</td>\n",
       "      <td>0</td>\n",
       "      <td>397223</td>\n",
       "      <td>24300</td>\n",
       "    </tr>\n",
       "    <tr>\n",
       "      <th>12</th>\n",
       "      <td>37642222</td>\n",
       "      <td>40405288</td>\n",
       "      <td>5250</td>\n",
       "      <td>5250</td>\n",
       "      <td>5250</td>\n",
       "      <td>36 months</td>\n",
       "      <td>11.44</td>\n",
       "      <td>172.98</td>\n",
       "      <td>2</td>\n",
       "      <td>RENT</td>\n",
       "      <td>...</td>\n",
       "      <td>May-2015</td>\n",
       "      <td>43.40</td>\n",
       "      <td>NaN</td>\n",
       "      <td>2015-04-26</td>\n",
       "      <td>0</td>\n",
       "      <td>NaN</td>\n",
       "      <td>0</td>\n",
       "      <td>0</td>\n",
       "      <td>10133</td>\n",
       "      <td>22000</td>\n",
       "    </tr>\n",
       "  </tbody>\n",
       "</table>\n",
       "<p>5 rows × 49 columns</p>\n",
       "</div>"
      ],
      "text/plain": [
       "          id  member_id  loan_amnt  funded_amnt  funded_amnt_inv        term  \\\n",
       "3   37822187   40585251       9600         9600             9600   36 months   \n",
       "5   37662224   40425321       7650         7650             7650   36 months   \n",
       "6   37800722   40563521      12975        12975            12975   36 months   \n",
       "11  37741884   40504905       2500         2500             2500   36 months   \n",
       "12  37642222   40405288       5250         5250             5250   36 months   \n",
       "\n",
       "    int_rate  installment  emp_length home_ownership       ...         \\\n",
       "3      13.66       326.53          10           RENT       ...          \n",
       "5      13.66       260.20           1           RENT       ...          \n",
       "6      17.86       468.17          10           RENT       ...          \n",
       "11     11.99        83.03           1       MORTGAGE       ...          \n",
       "12     11.44       172.98           2           RENT       ...          \n",
       "\n",
       "    last_pymnt_d last_pymnt_amnt  next_pymnt_d last_credit_pull_d  \\\n",
       "3       Apr-2015         9338.58           NaN         2015-12-26   \n",
       "5       Aug-2015           17.70           NaN         2015-12-26   \n",
       "6       Oct-2015          468.17      Jan-2016         2015-12-26   \n",
       "11      Jun-2015         2294.26           NaN         2015-12-26   \n",
       "12      May-2015           43.40           NaN         2015-04-26   \n",
       "\n",
       "   collections_12_mths_ex_med mths_since_last_major_derog acc_now_delinq  \\\n",
       "3                           0                         NaN              0   \n",
       "5                           0                         NaN              0   \n",
       "6                           0                         NaN              0   \n",
       "11                          0                         NaN              0   \n",
       "12                          0                         NaN              0   \n",
       "\n",
       "   tot_coll_amt  tot_cur_bal  total_credit_rv  \n",
       "3             0        38566            27600  \n",
       "5             0        64426            18300  \n",
       "6           900        17281            15700  \n",
       "11            0       397223            24300  \n",
       "12            0        10133            22000  \n",
       "\n",
       "[5 rows x 49 columns]"
      ]
     },
     "execution_count": 219,
     "metadata": {},
     "output_type": "execute_result"
    }
   ],
   "source": [
    "df.head()"
   ]
  },
  {
   "cell_type": "code",
   "execution_count": 220,
   "metadata": {
    "collapsed": false
   },
   "outputs": [
    {
     "data": {
      "text/plain": [
       "49"
      ]
     },
     "execution_count": 220,
     "metadata": {},
     "output_type": "execute_result"
    }
   ],
   "source": [
    "len(df.columns)"
   ]
  },
  {
   "cell_type": "code",
   "execution_count": 221,
   "metadata": {
    "collapsed": false
   },
   "outputs": [],
   "source": [
    "df=df.drop('initial_list_status',1) # not relevant as explained in data discription"
   ]
  },
  {
   "cell_type": "code",
   "execution_count": 222,
   "metadata": {
    "collapsed": false
   },
   "outputs": [
    {
     "data": {
      "text/plain": [
       "48"
      ]
     },
     "execution_count": 222,
     "metadata": {},
     "output_type": "execute_result"
    }
   ],
   "source": [
    "len(df.columns)"
   ]
  },
  {
   "cell_type": "code",
   "execution_count": 223,
   "metadata": {
    "collapsed": false
   },
   "outputs": [
    {
     "name": "stdout",
     "output_type": "stream",
     "text": [
      "desc 65340\n",
      "mths_since_last_delinq 35266\n",
      "mths_since_last_record 57398\n",
      "next_pymnt_d 65373\n",
      "mths_since_last_major_derog 50274\n"
     ]
    }
   ],
   "source": [
    "cols=[]\n",
    "for col in df.columns:\n",
    "    if null[col][0] > 35000:\n",
    "        cols.append(col)\n",
    "        print col + ' ' +str(null[col][0])"
   ]
  },
  {
   "cell_type": "code",
   "execution_count": 224,
   "metadata": {
    "collapsed": false
   },
   "outputs": [],
   "source": [
    "df2=df"
   ]
  },
  {
   "cell_type": "code",
   "execution_count": 225,
   "metadata": {
    "collapsed": false,
    "scrolled": true
   },
   "outputs": [
    {
     "data": {
      "text/plain": [
       "debt_consolidation    44681\n",
       "credit_card           14770\n",
       "home_improvement       4035\n",
       "other                  3279\n",
       "major_purchase         1165\n",
       "medical                 831\n",
       "small_business          752\n",
       "car                     572\n",
       "moving                  500\n",
       "vacation                416\n",
       "house                   310\n",
       "renewable_energy         50\n",
       "wedding                   3\n",
       "dtype: int64"
      ]
     },
     "execution_count": 225,
     "metadata": {},
     "output_type": "execute_result"
    }
   ],
   "source": [
    "df.purpose.value_counts()"
   ]
  },
  {
   "cell_type": "code",
   "execution_count": 226,
   "metadata": {
    "collapsed": false
   },
   "outputs": [
    {
     "data": {
      "text/plain": [
       "count                  71364\n",
       "unique                    13\n",
       "top       debt_consolidation\n",
       "freq                   44681\n",
       "Name: purpose, dtype: object"
      ]
     },
     "execution_count": 226,
     "metadata": {},
     "output_type": "execute_result"
    }
   ],
   "source": [
    "df.purpose.describe()"
   ]
  },
  {
   "cell_type": "code",
   "execution_count": 227,
   "metadata": {
    "collapsed": false,
    "scrolled": true
   },
   "outputs": [
    {
     "data": {
      "text/plain": [
       "0    0\n",
       "Name: purpose, dtype: int64"
      ]
     },
     "execution_count": 227,
     "metadata": {},
     "output_type": "execute_result"
    }
   ],
   "source": [
    "null.purpose"
   ]
  },
  {
   "cell_type": "code",
   "execution_count": 228,
   "metadata": {
    "collapsed": true
   },
   "outputs": [],
   "source": [
    "df=df.drop('title',1)"
   ]
  },
  {
   "cell_type": "code",
   "execution_count": 229,
   "metadata": {
    "collapsed": false
   },
   "outputs": [
    {
     "data": {
      "text/plain": [
       "47"
      ]
     },
     "execution_count": 229,
     "metadata": {},
     "output_type": "execute_result"
    }
   ],
   "source": [
    "len(df.columns)"
   ]
  },
  {
   "cell_type": "code",
   "execution_count": 230,
   "metadata": {
    "collapsed": false,
    "scrolled": true
   },
   "outputs": [
    {
     "data": {
      "text/html": [
       "<div>\n",
       "<table border=\"1\" class=\"dataframe\">\n",
       "  <thead>\n",
       "    <tr style=\"text-align: right;\">\n",
       "      <th></th>\n",
       "      <th>id</th>\n",
       "      <th>member_id</th>\n",
       "      <th>loan_amnt</th>\n",
       "      <th>funded_amnt</th>\n",
       "      <th>funded_amnt_inv</th>\n",
       "      <th>term</th>\n",
       "      <th>int_rate</th>\n",
       "      <th>installment</th>\n",
       "      <th>emp_length</th>\n",
       "      <th>home_ownership</th>\n",
       "      <th>...</th>\n",
       "      <th>last_pymnt_d</th>\n",
       "      <th>last_pymnt_amnt</th>\n",
       "      <th>next_pymnt_d</th>\n",
       "      <th>last_credit_pull_d</th>\n",
       "      <th>collections_12_mths_ex_med</th>\n",
       "      <th>mths_since_last_major_derog</th>\n",
       "      <th>acc_now_delinq</th>\n",
       "      <th>tot_coll_amt</th>\n",
       "      <th>tot_cur_bal</th>\n",
       "      <th>total_credit_rv</th>\n",
       "    </tr>\n",
       "  </thead>\n",
       "  <tbody>\n",
       "    <tr>\n",
       "      <th>3</th>\n",
       "      <td>37822187</td>\n",
       "      <td>40585251</td>\n",
       "      <td>9600</td>\n",
       "      <td>9600</td>\n",
       "      <td>9600</td>\n",
       "      <td>36 months</td>\n",
       "      <td>13.66</td>\n",
       "      <td>326.53</td>\n",
       "      <td>10</td>\n",
       "      <td>RENT</td>\n",
       "      <td>...</td>\n",
       "      <td>Apr-2015</td>\n",
       "      <td>9338.58</td>\n",
       "      <td>NaN</td>\n",
       "      <td>2015-12-26</td>\n",
       "      <td>0</td>\n",
       "      <td>NaN</td>\n",
       "      <td>0</td>\n",
       "      <td>0</td>\n",
       "      <td>38566</td>\n",
       "      <td>27600</td>\n",
       "    </tr>\n",
       "    <tr>\n",
       "      <th>5</th>\n",
       "      <td>37662224</td>\n",
       "      <td>40425321</td>\n",
       "      <td>7650</td>\n",
       "      <td>7650</td>\n",
       "      <td>7650</td>\n",
       "      <td>36 months</td>\n",
       "      <td>13.66</td>\n",
       "      <td>260.20</td>\n",
       "      <td>1</td>\n",
       "      <td>RENT</td>\n",
       "      <td>...</td>\n",
       "      <td>Aug-2015</td>\n",
       "      <td>17.70</td>\n",
       "      <td>NaN</td>\n",
       "      <td>2015-12-26</td>\n",
       "      <td>0</td>\n",
       "      <td>NaN</td>\n",
       "      <td>0</td>\n",
       "      <td>0</td>\n",
       "      <td>64426</td>\n",
       "      <td>18300</td>\n",
       "    </tr>\n",
       "    <tr>\n",
       "      <th>6</th>\n",
       "      <td>37800722</td>\n",
       "      <td>40563521</td>\n",
       "      <td>12975</td>\n",
       "      <td>12975</td>\n",
       "      <td>12975</td>\n",
       "      <td>36 months</td>\n",
       "      <td>17.86</td>\n",
       "      <td>468.17</td>\n",
       "      <td>10</td>\n",
       "      <td>RENT</td>\n",
       "      <td>...</td>\n",
       "      <td>Oct-2015</td>\n",
       "      <td>468.17</td>\n",
       "      <td>Jan-2016</td>\n",
       "      <td>2015-12-26</td>\n",
       "      <td>0</td>\n",
       "      <td>NaN</td>\n",
       "      <td>0</td>\n",
       "      <td>900</td>\n",
       "      <td>17281</td>\n",
       "      <td>15700</td>\n",
       "    </tr>\n",
       "    <tr>\n",
       "      <th>11</th>\n",
       "      <td>37741884</td>\n",
       "      <td>40504905</td>\n",
       "      <td>2500</td>\n",
       "      <td>2500</td>\n",
       "      <td>2500</td>\n",
       "      <td>36 months</td>\n",
       "      <td>11.99</td>\n",
       "      <td>83.03</td>\n",
       "      <td>1</td>\n",
       "      <td>MORTGAGE</td>\n",
       "      <td>...</td>\n",
       "      <td>Jun-2015</td>\n",
       "      <td>2294.26</td>\n",
       "      <td>NaN</td>\n",
       "      <td>2015-12-26</td>\n",
       "      <td>0</td>\n",
       "      <td>NaN</td>\n",
       "      <td>0</td>\n",
       "      <td>0</td>\n",
       "      <td>397223</td>\n",
       "      <td>24300</td>\n",
       "    </tr>\n",
       "    <tr>\n",
       "      <th>12</th>\n",
       "      <td>37642222</td>\n",
       "      <td>40405288</td>\n",
       "      <td>5250</td>\n",
       "      <td>5250</td>\n",
       "      <td>5250</td>\n",
       "      <td>36 months</td>\n",
       "      <td>11.44</td>\n",
       "      <td>172.98</td>\n",
       "      <td>2</td>\n",
       "      <td>RENT</td>\n",
       "      <td>...</td>\n",
       "      <td>May-2015</td>\n",
       "      <td>43.40</td>\n",
       "      <td>NaN</td>\n",
       "      <td>2015-04-26</td>\n",
       "      <td>0</td>\n",
       "      <td>NaN</td>\n",
       "      <td>0</td>\n",
       "      <td>0</td>\n",
       "      <td>10133</td>\n",
       "      <td>22000</td>\n",
       "    </tr>\n",
       "  </tbody>\n",
       "</table>\n",
       "<p>5 rows × 47 columns</p>\n",
       "</div>"
      ],
      "text/plain": [
       "          id  member_id  loan_amnt  funded_amnt  funded_amnt_inv        term  \\\n",
       "3   37822187   40585251       9600         9600             9600   36 months   \n",
       "5   37662224   40425321       7650         7650             7650   36 months   \n",
       "6   37800722   40563521      12975        12975            12975   36 months   \n",
       "11  37741884   40504905       2500         2500             2500   36 months   \n",
       "12  37642222   40405288       5250         5250             5250   36 months   \n",
       "\n",
       "    int_rate  installment  emp_length home_ownership       ...        \\\n",
       "3      13.66       326.53          10           RENT       ...         \n",
       "5      13.66       260.20           1           RENT       ...         \n",
       "6      17.86       468.17          10           RENT       ...         \n",
       "11     11.99        83.03           1       MORTGAGE       ...         \n",
       "12     11.44       172.98           2           RENT       ...         \n",
       "\n",
       "    last_pymnt_d last_pymnt_amnt  next_pymnt_d last_credit_pull_d  \\\n",
       "3       Apr-2015         9338.58           NaN         2015-12-26   \n",
       "5       Aug-2015           17.70           NaN         2015-12-26   \n",
       "6       Oct-2015          468.17      Jan-2016         2015-12-26   \n",
       "11      Jun-2015         2294.26           NaN         2015-12-26   \n",
       "12      May-2015           43.40           NaN         2015-04-26   \n",
       "\n",
       "   collections_12_mths_ex_med mths_since_last_major_derog acc_now_delinq  \\\n",
       "3                           0                         NaN              0   \n",
       "5                           0                         NaN              0   \n",
       "6                           0                         NaN              0   \n",
       "11                          0                         NaN              0   \n",
       "12                          0                         NaN              0   \n",
       "\n",
       "    tot_coll_amt  tot_cur_bal total_credit_rv  \n",
       "3              0        38566           27600  \n",
       "5              0        64426           18300  \n",
       "6            900        17281           15700  \n",
       "11             0       397223           24300  \n",
       "12             0        10133           22000  \n",
       "\n",
       "[5 rows x 47 columns]"
      ]
     },
     "execution_count": 230,
     "metadata": {},
     "output_type": "execute_result"
    }
   ],
   "source": [
    "df.head()"
   ]
  },
  {
   "cell_type": "code",
   "execution_count": 231,
   "metadata": {
    "collapsed": false
   },
   "outputs": [
    {
     "data": {
      "text/plain": [
       "dtype('O')"
      ]
     },
     "execution_count": 231,
     "metadata": {},
     "output_type": "execute_result"
    }
   ],
   "source": [
    "df.home_ownership.dtype"
   ]
  },
  {
   "cell_type": "code",
   "execution_count": 232,
   "metadata": {
    "collapsed": false
   },
   "outputs": [],
   "source": [
    "df = df.drop('funded_amnt_inv',1)"
   ]
  },
  {
   "cell_type": "code",
   "execution_count": 233,
   "metadata": {
    "collapsed": false
   },
   "outputs": [
    {
     "data": {
      "text/plain": [
       "1.0"
      ]
     },
     "execution_count": 233,
     "metadata": {},
     "output_type": "execute_result"
    }
   ],
   "source": [
    "df.corr()['loan_amnt']['funded_amnt']"
   ]
  },
  {
   "cell_type": "code",
   "execution_count": 234,
   "metadata": {
    "collapsed": true
   },
   "outputs": [],
   "source": [
    "df = df.drop('funded_amnt',1)"
   ]
  },
  {
   "cell_type": "code",
   "execution_count": 235,
   "metadata": {
    "collapsed": false
   },
   "outputs": [
    {
     "data": {
      "text/plain": [
       "45"
      ]
     },
     "execution_count": 235,
     "metadata": {},
     "output_type": "execute_result"
    }
   ],
   "source": [
    "len(df.columns)"
   ]
  },
  {
   "cell_type": "code",
   "execution_count": 236,
   "metadata": {
    "collapsed": false
   },
   "outputs": [
    {
     "data": {
      "text/plain": [
       "0    65373\n",
       "Name: next_pymnt_d, dtype: int64"
      ]
     },
     "execution_count": 236,
     "metadata": {},
     "output_type": "execute_result"
    }
   ],
   "source": [
    "null.next_pymnt_d"
   ]
  },
  {
   "cell_type": "code",
   "execution_count": 237,
   "metadata": {
    "collapsed": true
   },
   "outputs": [],
   "source": [
    "df4 = df #retaining the old version of dataframe "
   ]
  },
  {
   "cell_type": "code",
   "execution_count": 238,
   "metadata": {
    "collapsed": true
   },
   "outputs": [],
   "source": [
    "df = df.drop('next_pymnt_d',1)"
   ]
  },
  {
   "cell_type": "code",
   "execution_count": 239,
   "metadata": {
    "collapsed": false
   },
   "outputs": [
    {
     "name": "stdout",
     "output_type": "stream",
     "text": [
      "desc\n",
      "mths_since_last_delinq\n",
      "mths_since_last_record\n",
      "mths_since_last_major_derog\n"
     ]
    }
   ],
   "source": [
    "for i in df.columns:\n",
    "    if(null[i][0]>35000):\n",
    "        print i"
   ]
  },
  {
   "cell_type": "code",
   "execution_count": 240,
   "metadata": {
    "collapsed": false,
    "scrolled": true
   },
   "outputs": [],
   "source": [
    "df.mths_since_last_record = df.mths_since_last_record.fillna(500)"
   ]
  },
  {
   "cell_type": "code",
   "execution_count": 241,
   "metadata": {
    "collapsed": false,
    "scrolled": true
   },
   "outputs": [
    {
     "data": {
      "text/plain": [
       "3         NaN\n",
       "5         NaN\n",
       "6         NaN\n",
       "11        NaN\n",
       "12        NaN\n",
       "17        NaN\n",
       "24        NaN\n",
       "28        100\n",
       "29        NaN\n",
       "32        NaN\n",
       "35         63\n",
       "37        NaN\n",
       "40        NaN\n",
       "50        NaN\n",
       "55        NaN\n",
       "56        NaN\n",
       "61         25\n",
       "68        NaN\n",
       "69        NaN\n",
       "70        NaN\n",
       "75        NaN\n",
       "78        NaN\n",
       "84         69\n",
       "85         45\n",
       "87        NaN\n",
       "90         66\n",
       "97        NaN\n",
       "103       NaN\n",
       "112       NaN\n",
       "119       NaN\n",
       "         ... \n",
       "235558    NaN\n",
       "235559    NaN\n",
       "235561     47\n",
       "235563     27\n",
       "235564    NaN\n",
       "235565    NaN\n",
       "235567     39\n",
       "235570    NaN\n",
       "235571    NaN\n",
       "235581    NaN\n",
       "235584     79\n",
       "235585    NaN\n",
       "235595     57\n",
       "235596    NaN\n",
       "235598     15\n",
       "235599    NaN\n",
       "235600    NaN\n",
       "235601    NaN\n",
       "235603    NaN\n",
       "235605    NaN\n",
       "235606     22\n",
       "235608     56\n",
       "235609    NaN\n",
       "235616    NaN\n",
       "235619    NaN\n",
       "235620      4\n",
       "235621     14\n",
       "235622     32\n",
       "235625    NaN\n",
       "235626    NaN\n",
       "Name: mths_since_last_major_derog, dtype: float64"
      ]
     },
     "execution_count": 241,
     "metadata": {},
     "output_type": "execute_result"
    }
   ],
   "source": [
    "df.mths_since_last_major_derog"
   ]
  },
  {
   "cell_type": "code",
   "execution_count": 242,
   "metadata": {
    "collapsed": false
   },
   "outputs": [
    {
     "data": {
      "text/plain": [
       "154.0"
      ]
     },
     "execution_count": 242,
     "metadata": {},
     "output_type": "execute_result"
    }
   ],
   "source": [
    "np.max(df.mths_since_last_major_derog)"
   ]
  },
  {
   "cell_type": "code",
   "execution_count": 243,
   "metadata": {
    "collapsed": false,
    "scrolled": true
   },
   "outputs": [],
   "source": [
    "df.mths_since_last_major_derog = df.mths_since_last_major_derog.fillna(500)"
   ]
  },
  {
   "cell_type": "code",
   "execution_count": 244,
   "metadata": {
    "collapsed": false
   },
   "outputs": [],
   "source": [
    "df5 = df #keeping the version where the desciption is intact"
   ]
  },
  {
   "cell_type": "code",
   "execution_count": 245,
   "metadata": {
    "collapsed": true
   },
   "outputs": [],
   "source": [
    "df = df.drop('desc',1)"
   ]
  },
  {
   "cell_type": "code",
   "execution_count": 246,
   "metadata": {
    "collapsed": false
   },
   "outputs": [
    {
     "data": {
      "text/plain": [
       "0    35266\n",
       "Name: mths_since_last_delinq, dtype: int64"
      ]
     },
     "execution_count": 246,
     "metadata": {},
     "output_type": "execute_result"
    }
   ],
   "source": [
    "null.mths_since_last_delinq"
   ]
  },
  {
   "cell_type": "code",
   "execution_count": 247,
   "metadata": {
    "collapsed": false
   },
   "outputs": [],
   "source": [
    "df.mths_since_last_delinq = df.mths_since_last_delinq.fillna(500)"
   ]
  },
  {
   "cell_type": "code",
   "execution_count": 248,
   "metadata": {
    "collapsed": false,
    "scrolled": true
   },
   "outputs": [
    {
     "name": "stdout",
     "output_type": "stream",
     "text": [
      "id 0\n",
      "member_id 0\n",
      "loan_amnt 0\n",
      "term 0\n",
      "int_rate 0\n",
      "installment 0\n",
      "emp_length 0\n",
      "home_ownership 0\n",
      "annual_inc 0\n",
      "verification_status 0\n",
      "loan_status 0\n",
      "pymnt_plan 0\n",
      "purpose 0\n",
      "addr_state 0\n",
      "dti 0\n",
      "delinq_2yrs 0\n",
      "earliest_cr_line 0\n",
      "inq_last_6mths 0\n",
      "mths_since_last_delinq 0\n",
      "mths_since_last_record 0\n",
      "open_acc 0\n",
      "pub_rec 0\n",
      "revol_bal 0\n",
      "revol_util 49\n",
      "total_acc 0\n",
      "out_prncp 0\n",
      "out_prncp_inv 0\n",
      "total_pymnt 0\n",
      "total_pymnt_inv 0\n",
      "total_rec_prncp 0\n",
      "total_rec_int 0\n",
      "total_rec_late_fee 0\n",
      "recoveries 0\n",
      "collection_recovery_fee 0\n",
      "last_pymnt_d 143\n",
      "last_pymnt_amnt 0\n",
      "last_credit_pull_d 10\n",
      "collections_12_mths_ex_med 0\n",
      "mths_since_last_major_derog 0\n",
      "acc_now_delinq 0\n",
      "tot_coll_amt 0\n",
      "tot_cur_bal 0\n",
      "total_credit_rv 0\n"
     ]
    }
   ],
   "source": [
    "for i in df.columns:\n",
    "    print i + \" \" + str(sum(df[i].isnull()))"
   ]
  },
  {
   "cell_type": "code",
   "execution_count": 249,
   "metadata": {
    "collapsed": false
   },
   "outputs": [],
   "source": [
    "df.revol_util = df.revol_util.fillna(1000)\n",
    "df.revol_util = df.revol_util.astype(str)\n",
    "# temp = [\"revol_util\",\"last_pymnt_d\",\"last_credit_pull_d\"]\n",
    "# temp\n",
    "# for i in temp:\n",
    "#     print df.corr()[\"loan_status\"][i]"
   ]
  },
  {
   "cell_type": "code",
   "execution_count": 250,
   "metadata": {
    "collapsed": false
   },
   "outputs": [],
   "source": [
    "df.revol_util = [x[:-1] for x in df.revol_util]\n",
    "\n",
    "df.revol_util = df.revol_util.astype(object)\n",
    "df.revol_util = df.revol_util.astype(float) "
   ]
  },
  {
   "cell_type": "code",
   "execution_count": 251,
   "metadata": {
    "collapsed": false
   },
   "outputs": [],
   "source": [
    "for i in df.revol_util:\n",
    "    if(i==100):\n",
    "        i = np.median(df.revol_util[df.revol_util != 100])\n",
    "        "
   ]
  },
  {
   "cell_type": "code",
   "execution_count": 252,
   "metadata": {
    "collapsed": false
   },
   "outputs": [
    {
     "data": {
      "text/plain": [
       "count        71221\n",
       "unique          23\n",
       "top       Jul-2015\n",
       "freq          5880\n",
       "Name: last_pymnt_d, dtype: object"
      ]
     },
     "execution_count": 252,
     "metadata": {},
     "output_type": "execute_result"
    }
   ],
   "source": [
    "df.last_pymnt_d.describe()"
   ]
  },
  {
   "cell_type": "code",
   "execution_count": 253,
   "metadata": {
    "collapsed": false
   },
   "outputs": [],
   "source": [
    "df.last_pymnt_d = df.last_pymnt_d.fillna(\"no\")"
   ]
  },
  {
   "cell_type": "code",
   "execution_count": 254,
   "metadata": {
    "collapsed": true
   },
   "outputs": [],
   "source": [
    "df6 = df #keeping the version of dataframe intact"
   ]
  },
  {
   "cell_type": "markdown",
   "metadata": {},
   "source": [
    "##Working with df6"
   ]
  },
  {
   "cell_type": "code",
   "execution_count": 255,
   "metadata": {
    "collapsed": false
   },
   "outputs": [],
   "source": [
    "df = df.drop('last_credit_pull_d',axis = 1)"
   ]
  },
  {
   "cell_type": "code",
   "execution_count": 256,
   "metadata": {
    "collapsed": false
   },
   "outputs": [
    {
     "name": "stdout",
     "output_type": "stream",
     "text": [
      "<type 'int'>\n",
      "<type 'numpy.float64'>\n",
      "<type 'numpy.float64'>\n",
      "<type 'str'>\n",
      "<type 'numpy.float64'>\n",
      "<type 'numpy.float64'>\n",
      "<type 'numpy.int64'>\n",
      "<type 'str'>\n",
      "<type 'numpy.float64'>\n",
      "<type 'str'>\n",
      "<type 'numpy.int64'>\n",
      "<type 'str'>\n",
      "<type 'str'>\n",
      "<type 'str'>\n",
      "<type 'numpy.float64'>\n",
      "<type 'numpy.float64'>\n",
      "<type 'str'>\n",
      "<type 'numpy.float64'>\n",
      "<type 'numpy.float64'>\n",
      "<type 'numpy.float64'>\n",
      "<type 'numpy.float64'>\n",
      "<type 'numpy.float64'>\n",
      "<type 'numpy.float64'>\n",
      "<type 'numpy.float64'>\n",
      "<type 'numpy.float64'>\n",
      "<type 'numpy.float64'>\n",
      "<type 'numpy.float64'>\n",
      "<type 'numpy.float64'>\n",
      "<type 'numpy.float64'>\n",
      "<type 'numpy.float64'>\n",
      "<type 'numpy.float64'>\n",
      "<type 'numpy.float64'>\n",
      "<type 'numpy.float64'>\n",
      "<type 'numpy.float64'>\n",
      "<type 'str'>\n",
      "<type 'numpy.float64'>\n",
      "<type 'numpy.float64'>\n",
      "<type 'numpy.float64'>\n",
      "<type 'numpy.float64'>\n",
      "<type 'numpy.float64'>\n",
      "<type 'numpy.float64'>\n",
      "<type 'numpy.float64'>\n"
     ]
    }
   ],
   "source": [
    "for i in df.iloc[4]:\n",
    "    print type(i)"
   ]
  },
  {
   "cell_type": "code",
   "execution_count": 257,
   "metadata": {
    "collapsed": true
   },
   "outputs": [],
   "source": [
    "for i in df.columns:\n",
    "    if df[i].dtype == object:\n",
    "        df = df.drop(i,axis = 1)"
   ]
  },
  {
   "cell_type": "code",
   "execution_count": 258,
   "metadata": {
    "collapsed": false,
    "scrolled": true
   },
   "outputs": [
    {
     "data": {
      "text/plain": [
       "member_id                      float64\n",
       "loan_amnt                      float64\n",
       "int_rate                       float64\n",
       "installment                    float64\n",
       "emp_length                       int64\n",
       "annual_inc                     float64\n",
       "loan_status                      int64\n",
       "dti                            float64\n",
       "delinq_2yrs                    float64\n",
       "inq_last_6mths                 float64\n",
       "mths_since_last_delinq         float64\n",
       "mths_since_last_record         float64\n",
       "open_acc                       float64\n",
       "pub_rec                        float64\n",
       "revol_bal                      float64\n",
       "revol_util                     float64\n",
       "total_acc                      float64\n",
       "out_prncp                      float64\n",
       "out_prncp_inv                  float64\n",
       "total_pymnt                    float64\n",
       "total_pymnt_inv                float64\n",
       "total_rec_prncp                float64\n",
       "total_rec_int                  float64\n",
       "total_rec_late_fee             float64\n",
       "recoveries                     float64\n",
       "collection_recovery_fee        float64\n",
       "last_pymnt_amnt                float64\n",
       "collections_12_mths_ex_med     float64\n",
       "mths_since_last_major_derog    float64\n",
       "acc_now_delinq                 float64\n",
       "tot_coll_amt                   float64\n",
       "tot_cur_bal                    float64\n",
       "total_credit_rv                float64\n",
       "dtype: object"
      ]
     },
     "execution_count": 258,
     "metadata": {},
     "output_type": "execute_result"
    }
   ],
   "source": [
    "df.dtypes"
   ]
  },
  {
   "cell_type": "code",
   "execution_count": 259,
   "metadata": {
    "collapsed": false
   },
   "outputs": [
    {
     "data": {
      "text/plain": [
       "33"
      ]
     },
     "execution_count": 259,
     "metadata": {},
     "output_type": "execute_result"
    }
   ],
   "source": [
    "len(df.columns)"
   ]
  },
  {
   "cell_type": "code",
   "execution_count": 260,
   "metadata": {
    "collapsed": false
   },
   "outputs": [],
   "source": [
    "df = df.drop( 'member_id', axis=1)"
   ]
  },
  {
   "cell_type": "code",
   "execution_count": 261,
   "metadata": {
    "collapsed": true
   },
   "outputs": [],
   "source": [
    "to_remove = []\n",
    "\n",
    "for i in df.columns:\n",
    "    if 'rec' in i:\n",
    "        to_remove.append(i)"
   ]
  },
  {
   "cell_type": "code",
   "execution_count": 262,
   "metadata": {
    "collapsed": false
   },
   "outputs": [
    {
     "data": {
      "text/plain": [
       "['mths_since_last_record',\n",
       " 'pub_rec',\n",
       " 'total_rec_prncp',\n",
       " 'total_rec_int',\n",
       " 'total_rec_late_fee',\n",
       " 'recoveries',\n",
       " 'collection_recovery_fee']"
      ]
     },
     "execution_count": 262,
     "metadata": {},
     "output_type": "execute_result"
    }
   ],
   "source": [
    "to_remove"
   ]
  },
  {
   "cell_type": "code",
   "execution_count": 263,
   "metadata": {
    "collapsed": false
   },
   "outputs": [
    {
     "data": {
      "text/plain": [
       "Index([u'loan_amnt', u'int_rate', u'installment', u'emp_length', u'annual_inc',\n",
       "       u'loan_status', u'dti', u'delinq_2yrs', u'inq_last_6mths',\n",
       "       u'mths_since_last_delinq', u'mths_since_last_record', u'open_acc',\n",
       "       u'pub_rec', u'revol_bal', u'revol_util', u'total_acc', u'out_prncp',\n",
       "       u'out_prncp_inv', u'total_pymnt', u'total_pymnt_inv',\n",
       "       u'total_rec_prncp', u'total_rec_int', u'total_rec_late_fee',\n",
       "       u'recoveries', u'collection_recovery_fee', u'last_pymnt_amnt',\n",
       "       u'collections_12_mths_ex_med', u'mths_since_last_major_derog',\n",
       "       u'acc_now_delinq', u'tot_coll_amt', u'tot_cur_bal', u'total_credit_rv'],\n",
       "      dtype='object')"
      ]
     },
     "execution_count": 263,
     "metadata": {},
     "output_type": "execute_result"
    }
   ],
   "source": [
    "df.columns"
   ]
  },
  {
   "cell_type": "code",
   "execution_count": 264,
   "metadata": {
    "collapsed": false
   },
   "outputs": [],
   "source": [
    "for i in to_remove:\n",
    "    df = df.drop(i,axis = 1)"
   ]
  },
  {
   "cell_type": "code",
   "execution_count": 285,
   "metadata": {
    "collapsed": true
   },
   "outputs": [],
   "source": [
    "from sklearn.cross_validation import train_test_split\n",
    "train, test = train_test_split(df, train_size = 0.8)\n",
    "\n",
    "y = train['loan_status'].values\n",
    "train = train.drop('loan_status', axis=1)\n",
    "X = train.values\n",
    "\n",
    "y_test = test['loan_status'].values\n",
    "test = test.drop(['loan_status'], axis=1)\n",
    "X_test = test.values"
   ]
  },
  {
   "cell_type": "code",
   "execution_count": 286,
   "metadata": {
    "collapsed": false
   },
   "outputs": [
    {
     "data": {
      "text/plain": [
       "XGBClassifier(base_score=0.5, colsample_bylevel=1, colsample_bytree=1,\n",
       "       gamma=0, learning_rate=0.1, max_delta_step=0, max_depth=3,\n",
       "       min_child_weight=1, missing=None, n_estimators=100, nthread=-1,\n",
       "       objective='binary:logistic', reg_alpha=0, reg_lambda=1,\n",
       "       scale_pos_weight=1, seed=0, silent=True, subsample=1)"
      ]
     },
     "execution_count": 286,
     "metadata": {},
     "output_type": "execute_result"
    }
   ],
   "source": [
    "from xgboost.sklearn import XGBClassifier\n",
    "xgb = XGBClassifier()\n",
    "xgb.fit(X, y)"
   ]
  },
  {
   "cell_type": "code",
   "execution_count": 287,
   "metadata": {
    "collapsed": false
   },
   "outputs": [
    {
     "data": {
      "text/plain": [
       "0.99908918937854696"
      ]
     },
     "execution_count": 287,
     "metadata": {},
     "output_type": "execute_result"
    }
   ],
   "source": [
    "y_pred = xgb.predict(X_test)\n",
    "\n",
    "from sklearn.metrics import accuracy_score\n",
    "\n",
    "accuracy_score(y_test,y_pred)"
   ]
  },
  {
   "cell_type": "code",
   "execution_count": 288,
   "metadata": {
    "collapsed": false
   },
   "outputs": [
    {
     "data": {
      "text/plain": [
       "0.99908918937854696"
      ]
     },
     "execution_count": 288,
     "metadata": {},
     "output_type": "execute_result"
    }
   ],
   "source": [
    "from sklearn import svm\n",
    "clf = svm.SVC()\n",
    "clf.fit(X, y)\n",
    "y_predict = clf.predict(X_test)\n"
   ]
  },
  {
   "cell_type": "code",
   "execution_count": 289,
   "metadata": {
    "collapsed": false
   },
   "outputs": [
    {
     "data": {
      "text/plain": [
       "0.73390317382470394"
      ]
     },
     "execution_count": 289,
     "metadata": {},
     "output_type": "execute_result"
    }
   ],
   "source": [
    "from sklearn.metrics import accuracy_score\n",
    "\n",
    "accuracy_score(y_test,y_predict)"
   ]
  },
  {
   "cell_type": "code",
   "execution_count": 290,
   "metadata": {
    "collapsed": false
   },
   "outputs": [
    {
     "data": {
      "text/plain": [
       "0.99789812933510824"
      ]
     },
     "execution_count": 290,
     "metadata": {},
     "output_type": "execute_result"
    }
   ],
   "source": [
    "from sklearn.ensemble import AdaBoostClassifier\n",
    "\n",
    "clf = AdaBoostClassifier()\n",
    "\n",
    "clf.fit(X,y)\n",
    "\n",
    "y_Ada_pred = clf.predict(X_test)\n",
    "\n",
    "accuracy_score(y_test,y_Ada_pred)\n",
    "\n"
   ]
  },
  {
   "cell_type": "code",
   "execution_count": null,
   "metadata": {
    "collapsed": true
   },
   "outputs": [],
   "source": []
  }
 ],
 "metadata": {
  "celltoolbar": "Raw Cell Format",
  "kernelspec": {
   "display_name": "Python 2",
   "language": "python",
   "name": "python2"
  },
  "language_info": {
   "codemirror_mode": {
    "name": "ipython",
    "version": 2
   },
   "file_extension": ".py",
   "mimetype": "text/x-python",
   "name": "python",
   "nbconvert_exporter": "python",
   "pygments_lexer": "ipython2",
   "version": "2.7.10"
  }
 },
 "nbformat": 4,
 "nbformat_minor": 0
}
